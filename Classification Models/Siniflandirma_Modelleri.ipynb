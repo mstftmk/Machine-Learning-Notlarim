{
 "cells": [
  {
   "cell_type": "markdown",
   "metadata": {},
   "source": [
    "# Sınıflandırma Modelleri"
   ]
  },
  {
   "cell_type": "code",
   "execution_count": 1,
   "metadata": {},
   "outputs": [],
   "source": [
    "# KÜTÜPHANELER VE FONKSİYONLAR\n",
    "import numpy as np\n",
    "import pandas as pd \n",
    "import statsmodels.api as sm\n",
    "import seaborn as sns\n",
    "import matplotlib.pyplot as plt\n",
    "from sklearn.preprocessing import scale, StandardScaler\n",
    "from sklearn.model_selection import train_test_split, GridSearchCV, cross_val_score\n",
    "from sklearn.metrics import confusion_matrix, accuracy_score, mean_squared_error, r2_score, roc_auc_score, roc_curve, classification_report\n",
    "from sklearn.linear_model import LogisticRegression\n",
    "from sklearn.neighbors import KNeighborsClassifier\n",
    "from sklearn.svm import SVC\n",
    "from sklearn.neural_network import MLPClassifier\n",
    "from sklearn.tree import DecisionTreeClassifier\n",
    "from sklearn.ensemble import RandomForestClassifier\n",
    "from sklearn.ensemble import GradientBoostingClassifier\n",
    "\n",
    "# Modelin başarısını değerlendirmek için accuracy score kullanacağız. \n",
    "# Bu skor ne kadar büyük ise başarımız o kadar yüksektir. \n",
    "# hiperparametrelerin optimum değerlerine ulaşmak için ise cross validation yöntemini kullanacağız."
   ]
  },
  {
   "cell_type": "code",
   "execution_count": 2,
   "metadata": {},
   "outputs": [],
   "source": [
    "import warnings\n",
    "warnings.filterwarnings(\"ignore\", category=DeprecationWarning) \n",
    "warnings.filterwarnings(\"ignore\", category=FutureWarning) "
   ]
  },
  {
   "cell_type": "markdown",
   "metadata": {},
   "source": [
    "## Veri Seti ve Background"
   ]
  },
  {
   "cell_type": "code",
   "execution_count": 3,
   "metadata": {},
   "outputs": [
    {
     "data": {
      "text/html": [
       "<div>\n",
       "<style scoped>\n",
       "    .dataframe tbody tr th:only-of-type {\n",
       "        vertical-align: middle;\n",
       "    }\n",
       "\n",
       "    .dataframe tbody tr th {\n",
       "        vertical-align: top;\n",
       "    }\n",
       "\n",
       "    .dataframe thead th {\n",
       "        text-align: right;\n",
       "    }\n",
       "</style>\n",
       "<table border=\"1\" class=\"dataframe\">\n",
       "  <thead>\n",
       "    <tr style=\"text-align: right;\">\n",
       "      <th></th>\n",
       "      <th>Pregnancies</th>\n",
       "      <th>Glucose</th>\n",
       "      <th>BloodPressure</th>\n",
       "      <th>SkinThickness</th>\n",
       "      <th>Insulin</th>\n",
       "      <th>BMI</th>\n",
       "      <th>DiabetesPedigreeFunction</th>\n",
       "      <th>Age</th>\n",
       "      <th>Outcome</th>\n",
       "    </tr>\n",
       "  </thead>\n",
       "  <tbody>\n",
       "    <tr>\n",
       "      <th>0</th>\n",
       "      <td>6</td>\n",
       "      <td>148</td>\n",
       "      <td>72</td>\n",
       "      <td>35</td>\n",
       "      <td>0</td>\n",
       "      <td>33.6</td>\n",
       "      <td>0.627</td>\n",
       "      <td>50</td>\n",
       "      <td>1</td>\n",
       "    </tr>\n",
       "    <tr>\n",
       "      <th>1</th>\n",
       "      <td>1</td>\n",
       "      <td>85</td>\n",
       "      <td>66</td>\n",
       "      <td>29</td>\n",
       "      <td>0</td>\n",
       "      <td>26.6</td>\n",
       "      <td>0.351</td>\n",
       "      <td>31</td>\n",
       "      <td>0</td>\n",
       "    </tr>\n",
       "    <tr>\n",
       "      <th>2</th>\n",
       "      <td>8</td>\n",
       "      <td>183</td>\n",
       "      <td>64</td>\n",
       "      <td>0</td>\n",
       "      <td>0</td>\n",
       "      <td>23.3</td>\n",
       "      <td>0.672</td>\n",
       "      <td>32</td>\n",
       "      <td>1</td>\n",
       "    </tr>\n",
       "    <tr>\n",
       "      <th>3</th>\n",
       "      <td>1</td>\n",
       "      <td>89</td>\n",
       "      <td>66</td>\n",
       "      <td>23</td>\n",
       "      <td>94</td>\n",
       "      <td>28.1</td>\n",
       "      <td>0.167</td>\n",
       "      <td>21</td>\n",
       "      <td>0</td>\n",
       "    </tr>\n",
       "    <tr>\n",
       "      <th>4</th>\n",
       "      <td>0</td>\n",
       "      <td>137</td>\n",
       "      <td>40</td>\n",
       "      <td>35</td>\n",
       "      <td>168</td>\n",
       "      <td>43.1</td>\n",
       "      <td>2.288</td>\n",
       "      <td>33</td>\n",
       "      <td>1</td>\n",
       "    </tr>\n",
       "  </tbody>\n",
       "</table>\n",
       "</div>"
      ],
      "text/plain": [
       "   Pregnancies  Glucose  BloodPressure  SkinThickness  Insulin   BMI  \\\n",
       "0            6      148             72             35        0  33.6   \n",
       "1            1       85             66             29        0  26.6   \n",
       "2            8      183             64              0        0  23.3   \n",
       "3            1       89             66             23       94  28.1   \n",
       "4            0      137             40             35      168  43.1   \n",
       "\n",
       "   DiabetesPedigreeFunction  Age  Outcome  \n",
       "0                     0.627   50        1  \n",
       "1                     0.351   31        0  \n",
       "2                     0.672   32        1  \n",
       "3                     0.167   21        0  \n",
       "4                     2.288   33        1  "
      ]
     },
     "execution_count": 3,
     "metadata": {},
     "output_type": "execute_result"
    }
   ],
   "source": [
    "df = pd.read_csv(\"diabetes.csv\") #Şeker hastalığı tahmin modeli kuracağız.\n",
    "df.head()"
   ]
  },
  {
   "cell_type": "markdown",
   "metadata": {},
   "source": [
    "## Logistic Regression (Lojistik Regresyon)"
   ]
  },
  {
   "cell_type": "code",
   "execution_count": 4,
   "metadata": {},
   "outputs": [
    {
     "data": {
      "text/plain": [
       "0    500\n",
       "1    268\n",
       "Name: Outcome, dtype: int64"
      ]
     },
     "execution_count": 4,
     "metadata": {},
     "output_type": "execute_result"
    }
   ],
   "source": [
    "# Model&Tahmin\n",
    "df[\"Outcome\"].value_counts() #bağımlı değişkenimizi gözlemleyelim."
   ]
  },
  {
   "cell_type": "code",
   "execution_count": 5,
   "metadata": {},
   "outputs": [
    {
     "data": {
      "text/html": [
       "<div>\n",
       "<style scoped>\n",
       "    .dataframe tbody tr th:only-of-type {\n",
       "        vertical-align: middle;\n",
       "    }\n",
       "\n",
       "    .dataframe tbody tr th {\n",
       "        vertical-align: top;\n",
       "    }\n",
       "\n",
       "    .dataframe thead th {\n",
       "        text-align: right;\n",
       "    }\n",
       "</style>\n",
       "<table border=\"1\" class=\"dataframe\">\n",
       "  <thead>\n",
       "    <tr style=\"text-align: right;\">\n",
       "      <th></th>\n",
       "      <th>count</th>\n",
       "      <th>mean</th>\n",
       "      <th>std</th>\n",
       "      <th>min</th>\n",
       "      <th>25%</th>\n",
       "      <th>50%</th>\n",
       "      <th>75%</th>\n",
       "      <th>max</th>\n",
       "    </tr>\n",
       "  </thead>\n",
       "  <tbody>\n",
       "    <tr>\n",
       "      <th>Pregnancies</th>\n",
       "      <td>768.0</td>\n",
       "      <td>3.845052</td>\n",
       "      <td>3.369578</td>\n",
       "      <td>0.000</td>\n",
       "      <td>1.00000</td>\n",
       "      <td>3.0000</td>\n",
       "      <td>6.00000</td>\n",
       "      <td>17.00</td>\n",
       "    </tr>\n",
       "    <tr>\n",
       "      <th>Glucose</th>\n",
       "      <td>768.0</td>\n",
       "      <td>120.894531</td>\n",
       "      <td>31.972618</td>\n",
       "      <td>0.000</td>\n",
       "      <td>99.00000</td>\n",
       "      <td>117.0000</td>\n",
       "      <td>140.25000</td>\n",
       "      <td>199.00</td>\n",
       "    </tr>\n",
       "    <tr>\n",
       "      <th>BloodPressure</th>\n",
       "      <td>768.0</td>\n",
       "      <td>69.105469</td>\n",
       "      <td>19.355807</td>\n",
       "      <td>0.000</td>\n",
       "      <td>62.00000</td>\n",
       "      <td>72.0000</td>\n",
       "      <td>80.00000</td>\n",
       "      <td>122.00</td>\n",
       "    </tr>\n",
       "    <tr>\n",
       "      <th>SkinThickness</th>\n",
       "      <td>768.0</td>\n",
       "      <td>20.536458</td>\n",
       "      <td>15.952218</td>\n",
       "      <td>0.000</td>\n",
       "      <td>0.00000</td>\n",
       "      <td>23.0000</td>\n",
       "      <td>32.00000</td>\n",
       "      <td>99.00</td>\n",
       "    </tr>\n",
       "    <tr>\n",
       "      <th>Insulin</th>\n",
       "      <td>768.0</td>\n",
       "      <td>79.799479</td>\n",
       "      <td>115.244002</td>\n",
       "      <td>0.000</td>\n",
       "      <td>0.00000</td>\n",
       "      <td>30.5000</td>\n",
       "      <td>127.25000</td>\n",
       "      <td>846.00</td>\n",
       "    </tr>\n",
       "    <tr>\n",
       "      <th>BMI</th>\n",
       "      <td>768.0</td>\n",
       "      <td>31.992578</td>\n",
       "      <td>7.884160</td>\n",
       "      <td>0.000</td>\n",
       "      <td>27.30000</td>\n",
       "      <td>32.0000</td>\n",
       "      <td>36.60000</td>\n",
       "      <td>67.10</td>\n",
       "    </tr>\n",
       "    <tr>\n",
       "      <th>DiabetesPedigreeFunction</th>\n",
       "      <td>768.0</td>\n",
       "      <td>0.471876</td>\n",
       "      <td>0.331329</td>\n",
       "      <td>0.078</td>\n",
       "      <td>0.24375</td>\n",
       "      <td>0.3725</td>\n",
       "      <td>0.62625</td>\n",
       "      <td>2.42</td>\n",
       "    </tr>\n",
       "    <tr>\n",
       "      <th>Age</th>\n",
       "      <td>768.0</td>\n",
       "      <td>33.240885</td>\n",
       "      <td>11.760232</td>\n",
       "      <td>21.000</td>\n",
       "      <td>24.00000</td>\n",
       "      <td>29.0000</td>\n",
       "      <td>41.00000</td>\n",
       "      <td>81.00</td>\n",
       "    </tr>\n",
       "    <tr>\n",
       "      <th>Outcome</th>\n",
       "      <td>768.0</td>\n",
       "      <td>0.348958</td>\n",
       "      <td>0.476951</td>\n",
       "      <td>0.000</td>\n",
       "      <td>0.00000</td>\n",
       "      <td>0.0000</td>\n",
       "      <td>1.00000</td>\n",
       "      <td>1.00</td>\n",
       "    </tr>\n",
       "  </tbody>\n",
       "</table>\n",
       "</div>"
      ],
      "text/plain": [
       "                          count        mean         std     min       25%  \\\n",
       "Pregnancies               768.0    3.845052    3.369578   0.000   1.00000   \n",
       "Glucose                   768.0  120.894531   31.972618   0.000  99.00000   \n",
       "BloodPressure             768.0   69.105469   19.355807   0.000  62.00000   \n",
       "SkinThickness             768.0   20.536458   15.952218   0.000   0.00000   \n",
       "Insulin                   768.0   79.799479  115.244002   0.000   0.00000   \n",
       "BMI                       768.0   31.992578    7.884160   0.000  27.30000   \n",
       "DiabetesPedigreeFunction  768.0    0.471876    0.331329   0.078   0.24375   \n",
       "Age                       768.0   33.240885   11.760232  21.000  24.00000   \n",
       "Outcome                   768.0    0.348958    0.476951   0.000   0.00000   \n",
       "\n",
       "                               50%        75%     max  \n",
       "Pregnancies                 3.0000    6.00000   17.00  \n",
       "Glucose                   117.0000  140.25000  199.00  \n",
       "BloodPressure              72.0000   80.00000  122.00  \n",
       "SkinThickness              23.0000   32.00000   99.00  \n",
       "Insulin                    30.5000  127.25000  846.00  \n",
       "BMI                        32.0000   36.60000   67.10  \n",
       "DiabetesPedigreeFunction    0.3725    0.62625    2.42  \n",
       "Age                        29.0000   41.00000   81.00  \n",
       "Outcome                     0.0000    1.00000    1.00  "
      ]
     },
     "execution_count": 5,
     "metadata": {},
     "output_type": "execute_result"
    }
   ],
   "source": [
    "df.describe().T #betimsel istatistiklere bakalım."
   ]
  },
  {
   "cell_type": "code",
   "execution_count": 4,
   "metadata": {},
   "outputs": [],
   "source": [
    "y = df[\"Outcome\"]\n",
    "X = df.drop([\"Outcome\"], axis=1)"
   ]
  },
  {
   "cell_type": "code",
   "execution_count": 7,
   "metadata": {},
   "outputs": [
    {
     "data": {
      "text/plain": [
       "0    1\n",
       "1    0\n",
       "2    1\n",
       "3    0\n",
       "4    1\n",
       "Name: Outcome, dtype: int64"
      ]
     },
     "execution_count": 7,
     "metadata": {},
     "output_type": "execute_result"
    }
   ],
   "source": [
    "y.head()"
   ]
  },
  {
   "cell_type": "code",
   "execution_count": 8,
   "metadata": {},
   "outputs": [
    {
     "data": {
      "text/html": [
       "<div>\n",
       "<style scoped>\n",
       "    .dataframe tbody tr th:only-of-type {\n",
       "        vertical-align: middle;\n",
       "    }\n",
       "\n",
       "    .dataframe tbody tr th {\n",
       "        vertical-align: top;\n",
       "    }\n",
       "\n",
       "    .dataframe thead th {\n",
       "        text-align: right;\n",
       "    }\n",
       "</style>\n",
       "<table border=\"1\" class=\"dataframe\">\n",
       "  <thead>\n",
       "    <tr style=\"text-align: right;\">\n",
       "      <th></th>\n",
       "      <th>Pregnancies</th>\n",
       "      <th>Glucose</th>\n",
       "      <th>BloodPressure</th>\n",
       "      <th>SkinThickness</th>\n",
       "      <th>Insulin</th>\n",
       "      <th>BMI</th>\n",
       "      <th>DiabetesPedigreeFunction</th>\n",
       "      <th>Age</th>\n",
       "    </tr>\n",
       "  </thead>\n",
       "  <tbody>\n",
       "    <tr>\n",
       "      <th>0</th>\n",
       "      <td>6</td>\n",
       "      <td>148</td>\n",
       "      <td>72</td>\n",
       "      <td>35</td>\n",
       "      <td>0</td>\n",
       "      <td>33.6</td>\n",
       "      <td>0.627</td>\n",
       "      <td>50</td>\n",
       "    </tr>\n",
       "    <tr>\n",
       "      <th>1</th>\n",
       "      <td>1</td>\n",
       "      <td>85</td>\n",
       "      <td>66</td>\n",
       "      <td>29</td>\n",
       "      <td>0</td>\n",
       "      <td>26.6</td>\n",
       "      <td>0.351</td>\n",
       "      <td>31</td>\n",
       "    </tr>\n",
       "    <tr>\n",
       "      <th>2</th>\n",
       "      <td>8</td>\n",
       "      <td>183</td>\n",
       "      <td>64</td>\n",
       "      <td>0</td>\n",
       "      <td>0</td>\n",
       "      <td>23.3</td>\n",
       "      <td>0.672</td>\n",
       "      <td>32</td>\n",
       "    </tr>\n",
       "    <tr>\n",
       "      <th>3</th>\n",
       "      <td>1</td>\n",
       "      <td>89</td>\n",
       "      <td>66</td>\n",
       "      <td>23</td>\n",
       "      <td>94</td>\n",
       "      <td>28.1</td>\n",
       "      <td>0.167</td>\n",
       "      <td>21</td>\n",
       "    </tr>\n",
       "    <tr>\n",
       "      <th>4</th>\n",
       "      <td>0</td>\n",
       "      <td>137</td>\n",
       "      <td>40</td>\n",
       "      <td>35</td>\n",
       "      <td>168</td>\n",
       "      <td>43.1</td>\n",
       "      <td>2.288</td>\n",
       "      <td>33</td>\n",
       "    </tr>\n",
       "  </tbody>\n",
       "</table>\n",
       "</div>"
      ],
      "text/plain": [
       "   Pregnancies  Glucose  BloodPressure  SkinThickness  Insulin   BMI  \\\n",
       "0            6      148             72             35        0  33.6   \n",
       "1            1       85             66             29        0  26.6   \n",
       "2            8      183             64              0        0  23.3   \n",
       "3            1       89             66             23       94  28.1   \n",
       "4            0      137             40             35      168  43.1   \n",
       "\n",
       "   DiabetesPedigreeFunction  Age  \n",
       "0                     0.627   50  \n",
       "1                     0.351   31  \n",
       "2                     0.672   32  \n",
       "3                     0.167   21  \n",
       "4                     2.288   33  "
      ]
     },
     "execution_count": 8,
     "metadata": {},
     "output_type": "execute_result"
    }
   ],
   "source": [
    "X.head()"
   ]
  },
  {
   "cell_type": "code",
   "execution_count": 9,
   "metadata": {},
   "outputs": [],
   "source": [
    "loj_model = LogisticRegression(solver = \"liblinear\").fit(X,y)\n",
    "# Katsayıları bulmak için birden fazla minimizasyon fonk var. \n",
    "# Burada da solver ile bunu belirtebiliriz."
   ]
  },
  {
   "cell_type": "code",
   "execution_count": 10,
   "metadata": {},
   "outputs": [
    {
     "data": {
      "text/plain": [
       "array([-5.89240472])"
      ]
     },
     "execution_count": 10,
     "metadata": {},
     "output_type": "execute_result"
    }
   ],
   "source": [
    "loj_model.intercept_"
   ]
  },
  {
   "cell_type": "code",
   "execution_count": 11,
   "metadata": {},
   "outputs": [
    {
     "data": {
      "text/plain": [
       "array([[ 1.17062103e-01,  2.83893657e-02, -1.68885046e-02,\n",
       "         7.55568280e-04, -6.42890136e-04,  5.97744495e-02,\n",
       "         6.77484056e-01,  7.24131135e-03]])"
      ]
     },
     "execution_count": 11,
     "metadata": {},
     "output_type": "execute_result"
    }
   ],
   "source": [
    "loj_model.coef_"
   ]
  },
  {
   "cell_type": "code",
   "execution_count": 12,
   "metadata": {},
   "outputs": [
    {
     "data": {
      "text/plain": [
       "array([1, 0, 1, 0, 1, 0, 0, 1, 1, 0])"
      ]
     },
     "execution_count": 12,
     "metadata": {},
     "output_type": "execute_result"
    }
   ],
   "source": [
    "loj_model.predict(X)[0:10]"
   ]
  },
  {
   "cell_type": "code",
   "execution_count": 13,
   "metadata": {},
   "outputs": [
    {
     "data": {
      "text/plain": [
       "0    1\n",
       "1    0\n",
       "2    1\n",
       "3    0\n",
       "4    1\n",
       "5    0\n",
       "6    1\n",
       "7    0\n",
       "8    1\n",
       "9    1\n",
       "Name: Outcome, dtype: int64"
      ]
     },
     "execution_count": 13,
     "metadata": {},
     "output_type": "execute_result"
    }
   ],
   "source": [
    "y[0:10]"
   ]
  },
  {
   "cell_type": "code",
   "execution_count": 14,
   "metadata": {},
   "outputs": [],
   "source": [
    "y_pred = loj_model.predict(X)"
   ]
  },
  {
   "cell_type": "code",
   "execution_count": 15,
   "metadata": {},
   "outputs": [
    {
     "data": {
      "text/plain": [
       "array([[448,  52],\n",
       "       [121, 147]])"
      ]
     },
     "execution_count": 15,
     "metadata": {},
     "output_type": "execute_result"
    }
   ],
   "source": [
    "confusion_matrix(y,y_pred)"
   ]
  },
  {
   "cell_type": "code",
   "execution_count": 16,
   "metadata": {},
   "outputs": [
    {
     "data": {
      "text/plain": [
       "0.7747395833333334"
      ]
     },
     "execution_count": 16,
     "metadata": {},
     "output_type": "execute_result"
    }
   ],
   "source": [
    "accuracy_score(y, y_pred) #doğruluk oranı. Neydi bu? başarılı yaptıklarımız / toplam"
   ]
  },
  {
   "cell_type": "code",
   "execution_count": 18,
   "metadata": {},
   "outputs": [
    {
     "name": "stdout",
     "output_type": "stream",
     "text": [
      "              precision    recall  f1-score   support\n",
      "\n",
      "           0       0.79      0.90      0.84       500\n",
      "           1       0.74      0.55      0.63       268\n",
      "\n",
      "    accuracy                           0.77       768\n",
      "   macro avg       0.76      0.72      0.73       768\n",
      "weighted avg       0.77      0.77      0.77       768\n",
      "\n"
     ]
    }
   ],
   "source": [
    "print(classification_report(y,y_pred))"
   ]
  },
  {
   "cell_type": "code",
   "execution_count": 19,
   "metadata": {},
   "outputs": [
    {
     "data": {
      "text/plain": [
       "array([[0.35038755, 0.64961245],\n",
       "       [0.91703284, 0.08296716],\n",
       "       [0.22474638, 0.77525362],\n",
       "       [0.92139942, 0.07860058],\n",
       "       [0.16726124, 0.83273876],\n",
       "       [0.79899704, 0.20100296],\n",
       "       [0.88020482, 0.11979518],\n",
       "       [0.27811878, 0.72188122],\n",
       "       [0.32058316, 0.67941684],\n",
       "       [0.92275108, 0.07724892]])"
      ]
     },
     "execution_count": 19,
     "metadata": {},
     "output_type": "execute_result"
    }
   ],
   "source": [
    "# burada tahmin etmek istediğimiz değişken 0-1Lerden oluşmakta. Eğer bazı durumlarda bunu 1-0 değerlerinden\n",
    "# değil de direkt olasılık değerlerinin kendisinden almak istersek ki lojistik fonk bize 1.sınıfın yani\n",
    "# ilgilenmiş olduğumuz 1-0 sınıflarından 1.sınıfın gerçekleşme olasılığını veriyordu. Dolayısıyla\n",
    "# bu olasılık değerlerine direkt erişmek istersek bu durumda şu fonk kullanabliriz.\n",
    "\n",
    "loj_model.predict_proba(X)[0:10]"
   ]
  },
  {
   "cell_type": "code",
   "execution_count": 20,
   "metadata": {},
   "outputs": [
    {
     "data": {
      "image/png": "[encoded data removed]",
      "text/plain": [
       "<Figure size 432x288 with 1 Axes>"
      ]
     },
     "metadata": {},
     "output_type": "display_data"
    }
   ],
   "source": [
    "logit_roc_auc = roc_auc_score(y, loj_model.predict(X))\n",
    "fpr, tpr, thresholds = roc_curve(y, loj_model.predict_proba(X)[:,1])\n",
    "plt.figure()\n",
    "plt.plot(fpr, tpr, label='AUC (area = %0.2f)' % logit_roc_auc)\n",
    "plt.plot([0, 1], [0, 1],'r--')\n",
    "plt.xlim([0.0, 1.0])\n",
    "plt.ylim([0.0, 1.05])\n",
    "plt.xlabel('False Positive Rate')\n",
    "plt.ylabel('True Positive Rate')\n",
    "plt.title('Receiver operating characteristic')\n",
    "plt.legend(loc=\"lower right\")\n",
    "plt.savefig('Log_ROC')\n",
    "plt.show()"
   ]
  },
  {
   "cell_type": "markdown",
   "metadata": {},
   "source": [
    "### Model Tuning (Aslında Model Doğrulama)"
   ]
  },
  {
   "cell_type": "code",
   "execution_count": 5,
   "metadata": {},
   "outputs": [],
   "source": [
    "X_train, X_test, y_train, y_test = train_test_split(X, \n",
    "                                                    y, \n",
    "                                                    test_size=0.30, \n",
    "                                                    random_state=42)"
   ]
  },
  {
   "cell_type": "code",
   "execution_count": 11,
   "metadata": {},
   "outputs": [],
   "source": [
    "loj_model = LogisticRegression(solver = \"liblinear\").fit(X_train,y_train)"
   ]
  },
  {
   "cell_type": "code",
   "execution_count": 23,
   "metadata": {},
   "outputs": [],
   "source": [
    "y_pred = loj_model.predict(X_test)"
   ]
  },
  {
   "cell_type": "code",
   "execution_count": 24,
   "metadata": {},
   "outputs": [
    {
     "name": "stdout",
     "output_type": "stream",
     "text": [
      "0.7532467532467533\n"
     ]
    }
   ],
   "source": [
    "print(accuracy_score(y_test, y_pred))"
   ]
  },
  {
   "cell_type": "code",
   "execution_count": 25,
   "metadata": {},
   "outputs": [
    {
     "data": {
      "text/plain": [
       "0.7748188405797102"
      ]
     },
     "execution_count": 25,
     "metadata": {},
     "output_type": "execute_result"
    }
   ],
   "source": [
    "cross_val_score(loj_model, X_test, y_test, cv = 10).mean() #k katlı çağraz doğrulama ile. 10 adetin ortalaması."
   ]
  },
  {
   "cell_type": "markdown",
   "metadata": {},
   "source": [
    "## K-En Yakın Komşu(KNN)"
   ]
  },
  {
   "cell_type": "code",
   "execution_count": 4,
   "metadata": {},
   "outputs": [
    {
     "data": {
      "text/html": [
       "<div>\n",
       "<style scoped>\n",
       "    .dataframe tbody tr th:only-of-type {\n",
       "        vertical-align: middle;\n",
       "    }\n",
       "\n",
       "    .dataframe tbody tr th {\n",
       "        vertical-align: top;\n",
       "    }\n",
       "\n",
       "    .dataframe thead th {\n",
       "        text-align: right;\n",
       "    }\n",
       "</style>\n",
       "<table border=\"1\" class=\"dataframe\">\n",
       "  <thead>\n",
       "    <tr style=\"text-align: right;\">\n",
       "      <th></th>\n",
       "      <th>Pregnancies</th>\n",
       "      <th>Glucose</th>\n",
       "      <th>BloodPressure</th>\n",
       "      <th>SkinThickness</th>\n",
       "      <th>Insulin</th>\n",
       "      <th>BMI</th>\n",
       "      <th>DiabetesPedigreeFunction</th>\n",
       "      <th>Age</th>\n",
       "      <th>Outcome</th>\n",
       "    </tr>\n",
       "  </thead>\n",
       "  <tbody>\n",
       "    <tr>\n",
       "      <th>0</th>\n",
       "      <td>6</td>\n",
       "      <td>148</td>\n",
       "      <td>72</td>\n",
       "      <td>35</td>\n",
       "      <td>0</td>\n",
       "      <td>33.6</td>\n",
       "      <td>0.627</td>\n",
       "      <td>50</td>\n",
       "      <td>1</td>\n",
       "    </tr>\n",
       "    <tr>\n",
       "      <th>1</th>\n",
       "      <td>1</td>\n",
       "      <td>85</td>\n",
       "      <td>66</td>\n",
       "      <td>29</td>\n",
       "      <td>0</td>\n",
       "      <td>26.6</td>\n",
       "      <td>0.351</td>\n",
       "      <td>31</td>\n",
       "      <td>0</td>\n",
       "    </tr>\n",
       "    <tr>\n",
       "      <th>2</th>\n",
       "      <td>8</td>\n",
       "      <td>183</td>\n",
       "      <td>64</td>\n",
       "      <td>0</td>\n",
       "      <td>0</td>\n",
       "      <td>23.3</td>\n",
       "      <td>0.672</td>\n",
       "      <td>32</td>\n",
       "      <td>1</td>\n",
       "    </tr>\n",
       "    <tr>\n",
       "      <th>3</th>\n",
       "      <td>1</td>\n",
       "      <td>89</td>\n",
       "      <td>66</td>\n",
       "      <td>23</td>\n",
       "      <td>94</td>\n",
       "      <td>28.1</td>\n",
       "      <td>0.167</td>\n",
       "      <td>21</td>\n",
       "      <td>0</td>\n",
       "    </tr>\n",
       "    <tr>\n",
       "      <th>4</th>\n",
       "      <td>0</td>\n",
       "      <td>137</td>\n",
       "      <td>40</td>\n",
       "      <td>35</td>\n",
       "      <td>168</td>\n",
       "      <td>43.1</td>\n",
       "      <td>2.288</td>\n",
       "      <td>33</td>\n",
       "      <td>1</td>\n",
       "    </tr>\n",
       "  </tbody>\n",
       "</table>\n",
       "</div>"
      ],
      "text/plain": [
       "   Pregnancies  Glucose  BloodPressure  SkinThickness  Insulin   BMI  \\\n",
       "0            6      148             72             35        0  33.6   \n",
       "1            1       85             66             29        0  26.6   \n",
       "2            8      183             64              0        0  23.3   \n",
       "3            1       89             66             23       94  28.1   \n",
       "4            0      137             40             35      168  43.1   \n",
       "\n",
       "   DiabetesPedigreeFunction  Age  Outcome  \n",
       "0                     0.627   50        1  \n",
       "1                     0.351   31        0  \n",
       "2                     0.672   32        1  \n",
       "3                     0.167   21        0  \n",
       "4                     2.288   33        1  "
      ]
     },
     "execution_count": 4,
     "metadata": {},
     "output_type": "execute_result"
    }
   ],
   "source": [
    "df.head()"
   ]
  },
  {
   "cell_type": "code",
   "execution_count": 5,
   "metadata": {},
   "outputs": [],
   "source": [
    "y = df[\"Outcome\"]\n",
    "X = df.drop(['Outcome'], axis=1)\n",
    "X_train, X_test, y_train, y_test = train_test_split(X, y, \n",
    "                                                    test_size=0.30, \n",
    "                                                    random_state=42)"
   ]
  },
  {
   "cell_type": "markdown",
   "metadata": {},
   "source": [
    "### Model Tahmin"
   ]
  },
  {
   "cell_type": "code",
   "execution_count": 6,
   "metadata": {},
   "outputs": [],
   "source": [
    "knn_model = KNeighborsClassifier().fit(X_train, y_train)"
   ]
  },
  {
   "cell_type": "code",
   "execution_count": 8,
   "metadata": {},
   "outputs": [
    {
     "name": "stdout",
     "output_type": "stream",
     "text": [
      "\u001b[0;31mType:\u001b[0m        KNeighborsClassifier\n",
      "\u001b[0;31mString form:\u001b[0m KNeighborsClassifier()\n",
      "\u001b[0;31mFile:\u001b[0m        ~/opt/anaconda3/lib/python3.7/site-packages/sklearn/neighbors/_classification.py\n",
      "\u001b[0;31mDocstring:\u001b[0m  \n",
      "Classifier implementing the k-nearest neighbors vote.\n",
      "\n",
      "Read more in the :ref:`User Guide <classification>`.\n",
      "\n",
      "Parameters\n",
      "----------\n",
      "n_neighbors : int, default=5\n",
      "    Number of neighbors to use by default for :meth:`kneighbors` queries.\n",
      "\n",
      "weights : {'uniform', 'distance'} or callable, default='uniform'\n",
      "    Weight function used in prediction.  Possible values:\n",
      "\n",
      "    - 'uniform' : uniform weights.  All points in each neighborhood\n",
      "      are weighted equally.\n",
      "    - 'distance' : weight points by the inverse of their distance.\n",
      "      in this case, closer neighbors of a query point will have a\n",
      "      greater influence than neighbors which are further away.\n",
      "    - [callable] : a user-defined function which accepts an\n",
      "      array of distances, and returns an array of the same shape\n",
      "      containing the weights.\n",
      "\n",
      "algorithm : {'auto', 'ball_tree', 'kd_tree', 'brute'}, default='auto'\n",
      "    Algorithm used to compute the nearest neighbors:\n",
      "\n",
      "    - 'ball_tree' will use :class:`BallTree`\n",
      "    - 'kd_tree' will use :class:`KDTree`\n",
      "    - 'brute' will use a brute-force search.\n",
      "    - 'auto' will attempt to decide the most appropriate algorithm\n",
      "      based on the values passed to :meth:`fit` method.\n",
      "\n",
      "    Note: fitting on sparse input will override the setting of\n",
      "    this parameter, using brute force.\n",
      "\n",
      "leaf_size : int, default=30\n",
      "    Leaf size passed to BallTree or KDTree.  This can affect the\n",
      "    speed of the construction and query, as well as the memory\n",
      "    required to store the tree.  The optimal value depends on the\n",
      "    nature of the problem.\n",
      "\n",
      "p : int, default=2\n",
      "    Power parameter for the Minkowski metric. When p = 1, this is\n",
      "    equivalent to using manhattan_distance (l1), and euclidean_distance\n",
      "    (l2) for p = 2. For arbitrary p, minkowski_distance (l_p) is used.\n",
      "\n",
      "metric : str or callable, default='minkowski'\n",
      "    The distance metric to use for the tree.  The default metric is\n",
      "    minkowski, and with p=2 is equivalent to the standard Euclidean\n",
      "    metric. For a list of available metrics, see the documentation of\n",
      "    :class:`~sklearn.metrics.DistanceMetric`.\n",
      "    If metric is \"precomputed\", X is assumed to be a distance matrix and\n",
      "    must be square during fit. X may be a :term:`sparse graph`,\n",
      "    in which case only \"nonzero\" elements may be considered neighbors.\n",
      "\n",
      "metric_params : dict, default=None\n",
      "    Additional keyword arguments for the metric function.\n",
      "\n",
      "n_jobs : int, default=None\n",
      "    The number of parallel jobs to run for neighbors search.\n",
      "    ``None`` means 1 unless in a :obj:`joblib.parallel_backend` context.\n",
      "    ``-1`` means using all processors. See :term:`Glossary <n_jobs>`\n",
      "    for more details.\n",
      "    Doesn't affect :meth:`fit` method.\n",
      "\n",
      "Attributes\n",
      "----------\n",
      "classes_ : array of shape (n_classes,)\n",
      "    Class labels known to the classifier\n",
      "\n",
      "effective_metric_ : str or callble\n",
      "    The distance metric used. It will be same as the `metric` parameter\n",
      "    or a synonym of it, e.g. 'euclidean' if the `metric` parameter set to\n",
      "    'minkowski' and `p` parameter set to 2.\n",
      "\n",
      "effective_metric_params_ : dict\n",
      "    Additional keyword arguments for the metric function. For most metrics\n",
      "    will be same with `metric_params` parameter, but may also contain the\n",
      "    `p` parameter value if the `effective_metric_` attribute is set to\n",
      "    'minkowski'.\n",
      "\n",
      "n_features_in_ : int\n",
      "    Number of features seen during :term:`fit`.\n",
      "\n",
      "    .. versionadded:: 0.24\n",
      "\n",
      "feature_names_in_ : ndarray of shape (`n_features_in_`,)\n",
      "    Names of features seen during :term:`fit`. Defined only when `X`\n",
      "    has feature names that are all strings.\n",
      "\n",
      "    .. versionadded:: 1.0\n",
      "\n",
      "n_samples_fit_ : int\n",
      "    Number of samples in the fitted data.\n",
      "\n",
      "outputs_2d_ : bool\n",
      "    False when `y`'s shape is (n_samples, ) or (n_samples, 1) during fit\n",
      "    otherwise True.\n",
      "\n",
      "See Also\n",
      "--------\n",
      "RadiusNeighborsClassifier: Classifier based on neighbors within a fixed radius.\n",
      "KNeighborsRegressor: Regression based on k-nearest neighbors.\n",
      "RadiusNeighborsRegressor: Regression based on neighbors within a fixed radius.\n",
      "NearestNeighbors: Unsupervised learner for implementing neighbor searches.\n",
      "\n",
      "Notes\n",
      "-----\n",
      "See :ref:`Nearest Neighbors <neighbors>` in the online documentation\n",
      "for a discussion of the choice of ``algorithm`` and ``leaf_size``.\n",
      "\n",
      ".. warning::\n",
      "\n",
      "   Regarding the Nearest Neighbors algorithms, if it is found that two\n",
      "   neighbors, neighbor `k+1` and `k`, have identical distances\n",
      "   but different labels, the results will depend on the ordering of the\n",
      "   training data.\n",
      "\n",
      "https://en.wikipedia.org/wiki/K-nearest_neighbor_algorithm\n",
      "\n",
      "Examples\n",
      "--------\n",
      ">>> X = [[0], [1], [2], [3]]\n",
      ">>> y = [0, 0, 1, 1]\n",
      ">>> from sklearn.neighbors import KNeighborsClassifier\n",
      ">>> neigh = KNeighborsClassifier(n_neighbors=3)\n",
      ">>> neigh.fit(X, y)\n",
      "KNeighborsClassifier(...)\n",
      ">>> print(neigh.predict([[1.1]]))\n",
      "[0]\n",
      ">>> print(neigh.predict_proba([[0.9]]))\n",
      "[[0.666... 0.333...]]\n"
     ]
    }
   ],
   "source": [
    "? knn_model"
   ]
  },
  {
   "cell_type": "code",
   "execution_count": 9,
   "metadata": {},
   "outputs": [],
   "source": [
    "y_pred = knn_model.predict(X_test)"
   ]
  },
  {
   "cell_type": "code",
   "execution_count": 10,
   "metadata": {},
   "outputs": [
    {
     "data": {
      "text/plain": [
       "0.6883116883116883"
      ]
     },
     "execution_count": 10,
     "metadata": {},
     "output_type": "execute_result"
    }
   ],
   "source": [
    "accuracy_score(y_test,y_pred)"
   ]
  },
  {
   "cell_type": "code",
   "execution_count": 11,
   "metadata": {},
   "outputs": [
    {
     "name": "stdout",
     "output_type": "stream",
     "text": [
      "              precision    recall  f1-score   support\n",
      "\n",
      "           0       0.77      0.75      0.76       151\n",
      "           1       0.55      0.56      0.56        80\n",
      "\n",
      "    accuracy                           0.69       231\n",
      "   macro avg       0.66      0.66      0.66       231\n",
      "weighted avg       0.69      0.69      0.69       231\n",
      "\n"
     ]
    }
   ],
   "source": [
    "print(classification_report(y_test,y_pred))"
   ]
  },
  {
   "cell_type": "markdown",
   "metadata": {},
   "source": [
    "### Model Tuning"
   ]
  },
  {
   "cell_type": "code",
   "execution_count": 12,
   "metadata": {},
   "outputs": [],
   "source": [
    "knn = KNeighborsClassifier()"
   ]
  },
  {
   "cell_type": "code",
   "execution_count": 13,
   "metadata": {},
   "outputs": [
    {
     "data": {
      "text/plain": [
       "array([ 1,  2,  3,  4,  5,  6,  7,  8,  9, 10, 11, 12, 13, 14, 15, 16, 17,\n",
       "       18, 19, 20, 21, 22, 23, 24, 25, 26, 27, 28, 29, 30, 31, 32, 33, 34,\n",
       "       35, 36, 37, 38, 39, 40, 41, 42, 43, 44, 45, 46, 47, 48, 49])"
      ]
     },
     "execution_count": 13,
     "metadata": {},
     "output_type": "execute_result"
    }
   ],
   "source": [
    "np.arange(1,50)"
   ]
  },
  {
   "cell_type": "code",
   "execution_count": 14,
   "metadata": {},
   "outputs": [],
   "source": [
    "knn_params = {\"n_neighbors\":np.arange(1,50)}"
   ]
  },
  {
   "cell_type": "code",
   "execution_count": 15,
   "metadata": {},
   "outputs": [],
   "source": [
    "knn_cv_model = GridSearchCV(knn, knn_params, cv=10).fit(X_train,y_train)"
   ]
  },
  {
   "cell_type": "code",
   "execution_count": 16,
   "metadata": {},
   "outputs": [
    {
     "data": {
      "text/plain": [
       "0.748637316561845"
      ]
     },
     "execution_count": 16,
     "metadata": {},
     "output_type": "execute_result"
    }
   ],
   "source": [
    "knn_cv_model.best_score_"
   ]
  },
  {
   "cell_type": "code",
   "execution_count": 17,
   "metadata": {},
   "outputs": [
    {
     "data": {
      "text/plain": [
       "{'n_neighbors': 11}"
      ]
     },
     "execution_count": 17,
     "metadata": {},
     "output_type": "execute_result"
    }
   ],
   "source": [
    "knn_cv_model.best_params_"
   ]
  },
  {
   "cell_type": "code",
   "execution_count": 10,
   "metadata": {},
   "outputs": [],
   "source": [
    "# Final Model\n",
    "\n",
    "knn_tuned = KNeighborsClassifier(n_neighbors=11).fit(X_train,y_train)"
   ]
  },
  {
   "cell_type": "code",
   "execution_count": 19,
   "metadata": {},
   "outputs": [],
   "source": [
    "y_pred = knn_tuned.predict(X_test)"
   ]
  },
  {
   "cell_type": "code",
   "execution_count": 20,
   "metadata": {},
   "outputs": [
    {
     "data": {
      "text/plain": [
       "0.7316017316017316"
      ]
     },
     "execution_count": 20,
     "metadata": {},
     "output_type": "execute_result"
    }
   ],
   "source": [
    "accuracy_score(y_test,y_pred)"
   ]
  },
  {
   "cell_type": "code",
   "execution_count": 21,
   "metadata": {},
   "outputs": [
    {
     "data": {
      "text/plain": [
       "0.7316017316017316"
      ]
     },
     "execution_count": 21,
     "metadata": {},
     "output_type": "execute_result"
    }
   ],
   "source": [
    "knn_tuned.score(X_test, y_test)"
   ]
  },
  {
   "cell_type": "markdown",
   "metadata": {},
   "source": [
    "## Support Vector Machines(SVM)"
   ]
  },
  {
   "cell_type": "code",
   "execution_count": 22,
   "metadata": {},
   "outputs": [
    {
     "data": {
      "text/html": [
       "<div>\n",
       "<style scoped>\n",
       "    .dataframe tbody tr th:only-of-type {\n",
       "        vertical-align: middle;\n",
       "    }\n",
       "\n",
       "    .dataframe tbody tr th {\n",
       "        vertical-align: top;\n",
       "    }\n",
       "\n",
       "    .dataframe thead th {\n",
       "        text-align: right;\n",
       "    }\n",
       "</style>\n",
       "<table border=\"1\" class=\"dataframe\">\n",
       "  <thead>\n",
       "    <tr style=\"text-align: right;\">\n",
       "      <th></th>\n",
       "      <th>Pregnancies</th>\n",
       "      <th>Glucose</th>\n",
       "      <th>BloodPressure</th>\n",
       "      <th>SkinThickness</th>\n",
       "      <th>Insulin</th>\n",
       "      <th>BMI</th>\n",
       "      <th>DiabetesPedigreeFunction</th>\n",
       "      <th>Age</th>\n",
       "      <th>Outcome</th>\n",
       "    </tr>\n",
       "  </thead>\n",
       "  <tbody>\n",
       "    <tr>\n",
       "      <th>0</th>\n",
       "      <td>6</td>\n",
       "      <td>148</td>\n",
       "      <td>72</td>\n",
       "      <td>35</td>\n",
       "      <td>0</td>\n",
       "      <td>33.6</td>\n",
       "      <td>0.627</td>\n",
       "      <td>50</td>\n",
       "      <td>1</td>\n",
       "    </tr>\n",
       "    <tr>\n",
       "      <th>1</th>\n",
       "      <td>1</td>\n",
       "      <td>85</td>\n",
       "      <td>66</td>\n",
       "      <td>29</td>\n",
       "      <td>0</td>\n",
       "      <td>26.6</td>\n",
       "      <td>0.351</td>\n",
       "      <td>31</td>\n",
       "      <td>0</td>\n",
       "    </tr>\n",
       "    <tr>\n",
       "      <th>2</th>\n",
       "      <td>8</td>\n",
       "      <td>183</td>\n",
       "      <td>64</td>\n",
       "      <td>0</td>\n",
       "      <td>0</td>\n",
       "      <td>23.3</td>\n",
       "      <td>0.672</td>\n",
       "      <td>32</td>\n",
       "      <td>1</td>\n",
       "    </tr>\n",
       "    <tr>\n",
       "      <th>3</th>\n",
       "      <td>1</td>\n",
       "      <td>89</td>\n",
       "      <td>66</td>\n",
       "      <td>23</td>\n",
       "      <td>94</td>\n",
       "      <td>28.1</td>\n",
       "      <td>0.167</td>\n",
       "      <td>21</td>\n",
       "      <td>0</td>\n",
       "    </tr>\n",
       "    <tr>\n",
       "      <th>4</th>\n",
       "      <td>0</td>\n",
       "      <td>137</td>\n",
       "      <td>40</td>\n",
       "      <td>35</td>\n",
       "      <td>168</td>\n",
       "      <td>43.1</td>\n",
       "      <td>2.288</td>\n",
       "      <td>33</td>\n",
       "      <td>1</td>\n",
       "    </tr>\n",
       "  </tbody>\n",
       "</table>\n",
       "</div>"
      ],
      "text/plain": [
       "   Pregnancies  Glucose  BloodPressure  SkinThickness  Insulin   BMI  \\\n",
       "0            6      148             72             35        0  33.6   \n",
       "1            1       85             66             29        0  26.6   \n",
       "2            8      183             64              0        0  23.3   \n",
       "3            1       89             66             23       94  28.1   \n",
       "4            0      137             40             35      168  43.1   \n",
       "\n",
       "   DiabetesPedigreeFunction  Age  Outcome  \n",
       "0                     0.627   50        1  \n",
       "1                     0.351   31        0  \n",
       "2                     0.672   32        1  \n",
       "3                     0.167   21        0  \n",
       "4                     2.288   33        1  "
      ]
     },
     "execution_count": 22,
     "metadata": {},
     "output_type": "execute_result"
    }
   ],
   "source": [
    "df.head()"
   ]
  },
  {
   "cell_type": "code",
   "execution_count": 23,
   "metadata": {},
   "outputs": [],
   "source": [
    "X_train, X_test, y_train, y_test = train_test_split(X, y, \n",
    "                                                    test_size=0.30, \n",
    "                                                    random_state=42)"
   ]
  },
  {
   "cell_type": "markdown",
   "metadata": {},
   "source": [
    "### Model Tahmin"
   ]
  },
  {
   "cell_type": "code",
   "execution_count": 24,
   "metadata": {},
   "outputs": [],
   "source": [
    "#Doğrusal model yapacağız.\n",
    "\n",
    "svm_model = SVC(kernel='linear').fit(X_train,y_train) #öntanımlı olarak rbf yani doğrusal olmayan demek."
   ]
  },
  {
   "cell_type": "code",
   "execution_count": 25,
   "metadata": {},
   "outputs": [
    {
     "data": {
      "text/plain": [
       "SVC(kernel='linear')"
      ]
     },
     "execution_count": 25,
     "metadata": {},
     "output_type": "execute_result"
    }
   ],
   "source": [
    "svm_model"
   ]
  },
  {
   "cell_type": "code",
   "execution_count": 26,
   "metadata": {},
   "outputs": [],
   "source": [
    "y_pred = svm_model.predict(X_test)"
   ]
  },
  {
   "cell_type": "code",
   "execution_count": 27,
   "metadata": {},
   "outputs": [
    {
     "data": {
      "text/plain": [
       "0.7445887445887446"
      ]
     },
     "execution_count": 27,
     "metadata": {},
     "output_type": "execute_result"
    }
   ],
   "source": [
    "accuracy_score(y_test,y_pred)"
   ]
  },
  {
   "cell_type": "markdown",
   "metadata": {},
   "source": [
    "### Model Tuning"
   ]
  },
  {
   "cell_type": "code",
   "execution_count": 29,
   "metadata": {},
   "outputs": [],
   "source": [
    "svm_model = SVC()"
   ]
  },
  {
   "cell_type": "code",
   "execution_count": 34,
   "metadata": {},
   "outputs": [],
   "source": [
    "svm_params = {\"C\":np.arange(1,5), \"kernel\":['linear','rbf']}\n",
    "# c = karmaşıklık, ceza parametresi.\n",
    "# kernel = doğrusal ve doğrusal olmayan 2 kernel dene dedik. rbf:radial basis func"
   ]
  },
  {
   "cell_type": "code",
   "execution_count": 35,
   "metadata": {},
   "outputs": [
    {
     "name": "stdout",
     "output_type": "stream",
     "text": [
      "Fitting 5 folds for each of 8 candidates, totalling 40 fits\n"
     ]
    }
   ],
   "source": [
    "svm_cv_model = GridSearchCV(svm_model, svm_params, cv=5, n_jobs=-1, verbose=2).fit(X_train,y_train)"
   ]
  },
  {
   "cell_type": "code",
   "execution_count": 36,
   "metadata": {},
   "outputs": [
    {
     "data": {
      "text/plain": [
       "0.7839044652128765"
      ]
     },
     "execution_count": 36,
     "metadata": {},
     "output_type": "execute_result"
    }
   ],
   "source": [
    "svm_cv_model.best_score_"
   ]
  },
  {
   "cell_type": "code",
   "execution_count": 37,
   "metadata": {},
   "outputs": [
    {
     "data": {
      "text/plain": [
       "{'C': 2, 'kernel': 'linear'}"
      ]
     },
     "execution_count": 37,
     "metadata": {},
     "output_type": "execute_result"
    }
   ],
   "source": [
    "svm_cv_model.best_params_"
   ]
  },
  {
   "cell_type": "code",
   "execution_count": 12,
   "metadata": {},
   "outputs": [],
   "source": [
    "# Final model\n",
    "# gözlem değişken sayısı az olunca linear yapılar daha iyi gibi. \n",
    "# Genelde problemler karmaşıklaşıtıka ve ilişkileri tanımlamak zorlaştıkça doğrusal olmayan yapıların ya da ağaca dayalı yapıların daha başarılı oluyor.\n",
    "\n",
    "svm_tuned = SVC(C = 2, kernel='linear').fit(X_train,y_train)"
   ]
  },
  {
   "cell_type": "code",
   "execution_count": 39,
   "metadata": {},
   "outputs": [],
   "source": [
    "y_pred = svm_tuned.predict(X_test)"
   ]
  },
  {
   "cell_type": "code",
   "execution_count": 40,
   "metadata": {},
   "outputs": [
    {
     "data": {
      "text/plain": [
       "0.7445887445887446"
      ]
     },
     "execution_count": 40,
     "metadata": {},
     "output_type": "execute_result"
    }
   ],
   "source": [
    "accuracy_score(y_test, y_pred)"
   ]
  },
  {
   "cell_type": "markdown",
   "metadata": {},
   "source": [
    "## ANN Yapay Sinir Ağları (Çok katmanlı Algılayıcılar)"
   ]
  },
  {
   "cell_type": "code",
   "execution_count": 4,
   "metadata": {},
   "outputs": [
    {
     "data": {
      "text/html": [
       "<div>\n",
       "<style scoped>\n",
       "    .dataframe tbody tr th:only-of-type {\n",
       "        vertical-align: middle;\n",
       "    }\n",
       "\n",
       "    .dataframe tbody tr th {\n",
       "        vertical-align: top;\n",
       "    }\n",
       "\n",
       "    .dataframe thead th {\n",
       "        text-align: right;\n",
       "    }\n",
       "</style>\n",
       "<table border=\"1\" class=\"dataframe\">\n",
       "  <thead>\n",
       "    <tr style=\"text-align: right;\">\n",
       "      <th></th>\n",
       "      <th>Pregnancies</th>\n",
       "      <th>Glucose</th>\n",
       "      <th>BloodPressure</th>\n",
       "      <th>SkinThickness</th>\n",
       "      <th>Insulin</th>\n",
       "      <th>BMI</th>\n",
       "      <th>DiabetesPedigreeFunction</th>\n",
       "      <th>Age</th>\n",
       "      <th>Outcome</th>\n",
       "    </tr>\n",
       "  </thead>\n",
       "  <tbody>\n",
       "    <tr>\n",
       "      <th>0</th>\n",
       "      <td>6</td>\n",
       "      <td>148</td>\n",
       "      <td>72</td>\n",
       "      <td>35</td>\n",
       "      <td>0</td>\n",
       "      <td>33.6</td>\n",
       "      <td>0.627</td>\n",
       "      <td>50</td>\n",
       "      <td>1</td>\n",
       "    </tr>\n",
       "    <tr>\n",
       "      <th>1</th>\n",
       "      <td>1</td>\n",
       "      <td>85</td>\n",
       "      <td>66</td>\n",
       "      <td>29</td>\n",
       "      <td>0</td>\n",
       "      <td>26.6</td>\n",
       "      <td>0.351</td>\n",
       "      <td>31</td>\n",
       "      <td>0</td>\n",
       "    </tr>\n",
       "    <tr>\n",
       "      <th>2</th>\n",
       "      <td>8</td>\n",
       "      <td>183</td>\n",
       "      <td>64</td>\n",
       "      <td>0</td>\n",
       "      <td>0</td>\n",
       "      <td>23.3</td>\n",
       "      <td>0.672</td>\n",
       "      <td>32</td>\n",
       "      <td>1</td>\n",
       "    </tr>\n",
       "    <tr>\n",
       "      <th>3</th>\n",
       "      <td>1</td>\n",
       "      <td>89</td>\n",
       "      <td>66</td>\n",
       "      <td>23</td>\n",
       "      <td>94</td>\n",
       "      <td>28.1</td>\n",
       "      <td>0.167</td>\n",
       "      <td>21</td>\n",
       "      <td>0</td>\n",
       "    </tr>\n",
       "    <tr>\n",
       "      <th>4</th>\n",
       "      <td>0</td>\n",
       "      <td>137</td>\n",
       "      <td>40</td>\n",
       "      <td>35</td>\n",
       "      <td>168</td>\n",
       "      <td>43.1</td>\n",
       "      <td>2.288</td>\n",
       "      <td>33</td>\n",
       "      <td>1</td>\n",
       "    </tr>\n",
       "  </tbody>\n",
       "</table>\n",
       "</div>"
      ],
      "text/plain": [
       "   Pregnancies  Glucose  BloodPressure  SkinThickness  Insulin   BMI  \\\n",
       "0            6      148             72             35        0  33.6   \n",
       "1            1       85             66             29        0  26.6   \n",
       "2            8      183             64              0        0  23.3   \n",
       "3            1       89             66             23       94  28.1   \n",
       "4            0      137             40             35      168  43.1   \n",
       "\n",
       "   DiabetesPedigreeFunction  Age  Outcome  \n",
       "0                     0.627   50        1  \n",
       "1                     0.351   31        0  \n",
       "2                     0.672   32        1  \n",
       "3                     0.167   21        0  \n",
       "4                     2.288   33        1  "
      ]
     },
     "execution_count": 4,
     "metadata": {},
     "output_type": "execute_result"
    }
   ],
   "source": [
    "df.head()"
   ]
  },
  {
   "cell_type": "code",
   "execution_count": 8,
   "metadata": {},
   "outputs": [],
   "source": [
    "X_train, X_test, y_train, y_test = train_test_split(X, y, \n",
    "                                                    test_size=0.30, \n",
    "                                                    random_state=42)"
   ]
  },
  {
   "cell_type": "code",
   "execution_count": 9,
   "metadata": {},
   "outputs": [],
   "source": [
    "scaler = StandardScaler() \n",
    "\n",
    "# derin öğrenmelerde homojen verisetlerinde iyi çalışmakta.\n",
    "# mesela karar ağaçları heterojen yapılarda iyidir.\n",
    "# derin öğrenmelerde değişkenler standartlaştırılırsa daha iyi çalışmakta."
   ]
  },
  {
   "cell_type": "code",
   "execution_count": 10,
   "metadata": {},
   "outputs": [],
   "source": [
    "scaler.fit(X_train)\n",
    "X_train = scaler.transform(X_train)"
   ]
  },
  {
   "cell_type": "code",
   "execution_count": 11,
   "metadata": {},
   "outputs": [],
   "source": [
    "scaler.fit(X_test)\n",
    "X_test = scaler.transform(X_test)"
   ]
  },
  {
   "cell_type": "markdown",
   "metadata": {},
   "source": [
    "### Model & Tahmin"
   ]
  },
  {
   "cell_type": "code",
   "execution_count": 12,
   "metadata": {},
   "outputs": [
    {
     "name": "stderr",
     "output_type": "stream",
     "text": [
      "/Users/mustafa/opt/anaconda3/lib/python3.7/site-packages/sklearn/neural_network/_multilayer_perceptron.py:696: ConvergenceWarning: Stochastic Optimizer: Maximum iterations (200) reached and the optimization hasn't converged yet.\n",
      "  ConvergenceWarning,\n"
     ]
    }
   ],
   "source": [
    "mlpc_model = MLPClassifier().fit(X_train, y_train) #multi layer perceptron classification"
   ]
  },
  {
   "cell_type": "code",
   "execution_count": 13,
   "metadata": {},
   "outputs": [
    {
     "data": {
      "text/plain": [
       "[array([[ 1.86987302e-03,  1.61041510e-02, -1.38551345e-01,\n",
       "         -1.41560193e-01,  1.51163723e-01, -1.01618310e-01,\n",
       "         -1.56041328e-01, -9.02386108e-03,  9.92001184e-02,\n",
       "          4.20108120e-02, -2.49753458e-02,  1.52258044e-01,\n",
       "         -2.99240755e-01, -3.23491100e-02,  1.43721957e-02,\n",
       "          2.13606034e-02, -4.24982360e-01, -4.11527147e-02,\n",
       "          8.37323708e-02,  3.02839713e-01, -1.63259771e-01,\n",
       "          8.74473455e-02,  1.72163601e-01,  3.67754886e-01,\n",
       "         -3.08794249e-01,  4.78551759e-02,  7.73248116e-02,\n",
       "         -4.05136190e-02,  7.67592597e-02, -3.73870141e-01,\n",
       "          7.98467054e-02,  8.85085818e-02,  1.94584729e-01,\n",
       "         -1.74056779e-02,  5.16837783e-04,  1.86084275e-02,\n",
       "         -3.22831480e-01,  1.42901070e-01,  4.64794083e-02,\n",
       "          1.26115068e-01,  2.15691453e-01,  2.57795144e-02,\n",
       "          5.26098256e-02,  1.29417255e-01, -2.77528968e-01,\n",
       "         -2.52162490e-01,  2.71443174e-01,  2.50665954e-02,\n",
       "         -7.85014173e-02, -2.99707757e-01,  2.59930229e-03,\n",
       "         -3.86230004e-01,  8.48723724e-02, -2.47618600e-01,\n",
       "         -1.04256665e-01,  1.58814851e-01,  6.41350249e-02,\n",
       "         -8.67548839e-02,  2.48396706e-01, -3.01444871e-01,\n",
       "         -1.38638760e-01, -1.30069255e-01, -1.66274960e-01,\n",
       "          1.80924387e-01,  7.21332226e-03,  6.32066321e-02,\n",
       "          2.38564087e-01, -1.08428221e-01,  2.73567800e-02,\n",
       "          2.47171675e-01, -1.50759842e-01,  9.97791504e-02,\n",
       "         -1.32116000e-01, -1.78151706e-01, -1.26674263e-01,\n",
       "         -5.53508905e-02, -2.43184472e-01,  1.38155697e-01,\n",
       "         -3.04311464e-01, -2.86829985e-01, -2.31919604e-03,\n",
       "          8.13739158e-02,  7.78444964e-02, -2.42280692e-01,\n",
       "         -2.75593614e-01, -2.50589938e-01, -1.99087779e-01,\n",
       "         -1.64591518e-01, -8.10180579e-03,  2.02333443e-01,\n",
       "         -1.47017847e-01, -6.79426384e-03,  2.27383967e-01,\n",
       "         -2.32932203e-01, -1.48385526e-01,  8.43782363e-02,\n",
       "         -3.81200346e-01, -1.00045467e-01, -3.16536136e-01,\n",
       "          3.35596483e-02],\n",
       "        [ 1.52692007e-01,  3.17705486e-01, -1.45309264e-01,\n",
       "         -1.09176730e-01,  1.80816055e-01, -3.19324811e-01,\n",
       "          3.17336641e-01, -1.40290431e-01, -1.31731350e-01,\n",
       "          3.15170878e-03, -9.24465863e-02,  7.87167911e-02,\n",
       "          2.59649916e-01, -2.13283411e-01,  3.49789432e-01,\n",
       "          3.92111584e-01,  2.70243837e-01, -2.43924307e-01,\n",
       "         -5.66316247e-02,  7.69608626e-03,  3.82695513e-01,\n",
       "         -2.46203098e-01,  2.69037908e-01,  4.01949408e-02,\n",
       "         -1.07055599e-01,  1.21677269e-01,  3.07212034e-02,\n",
       "          3.11857063e-01,  7.17678236e-02, -2.73274446e-01,\n",
       "         -1.85487666e-02,  3.41570655e-01,  4.78257054e-02,\n",
       "         -9.21561306e-02, -2.27775709e-01, -1.48973987e-01,\n",
       "          2.89858898e-01, -2.01867459e-01,  3.07980429e-01,\n",
       "          2.74516458e-02, -2.24495962e-01, -2.92215367e-02,\n",
       "         -8.47076714e-02,  4.78013491e-02,  3.14029785e-01,\n",
       "         -1.65742077e-01, -1.35359893e-01,  8.38203473e-03,\n",
       "         -1.85783755e-01, -2.43416588e-01, -1.73505393e-01,\n",
       "          3.46642061e-01, -4.50745904e-02, -3.65737762e-02,\n",
       "          1.30155475e-01, -6.02866482e-02, -2.22227515e-01,\n",
       "         -1.91919490e-01, -1.27282212e-01, -1.88329764e-01,\n",
       "          1.78820277e-01,  3.19072024e-01,  2.00479397e-01,\n",
       "         -1.23732456e-01, -1.38665843e-02, -1.32466897e-01,\n",
       "          9.47391663e-02, -1.60803099e-01,  3.09798838e-01,\n",
       "         -1.67404647e-01, -1.58601835e-01, -1.35689037e-01,\n",
       "         -1.39628410e-02,  2.72134866e-01,  3.43055731e-01,\n",
       "          1.56556212e-01,  2.06107665e-02, -2.26097091e-02,\n",
       "         -1.55194059e-01,  9.38078675e-02, -5.34698196e-02,\n",
       "         -1.98151005e-01,  2.65851275e-01, -3.16647016e-01,\n",
       "         -1.72246161e-02, -1.99835282e-01, -3.41366405e-01,\n",
       "          3.03980042e-02,  9.50820647e-02,  2.22101300e-01,\n",
       "         -1.24104848e-01,  2.58372221e-01, -6.80552457e-02,\n",
       "          2.63604643e-03,  1.52493082e-01, -2.03809877e-01,\n",
       "         -2.78742823e-02,  2.71165749e-01,  2.78628766e-01,\n",
       "         -1.91452863e-01],\n",
       "        [-2.49411331e-01, -1.25495027e-01, -3.64767340e-02,\n",
       "         -2.27494671e-01,  2.12620434e-01,  1.24320487e-01,\n",
       "         -2.89818013e-03, -1.96851295e-01, -2.83432751e-01,\n",
       "          1.58263864e-01,  3.27630120e-01, -1.61683034e-01,\n",
       "         -8.69925255e-02, -3.58816733e-02, -2.89936397e-01,\n",
       "         -1.75048680e-01,  1.36360945e-01, -2.08979573e-01,\n",
       "          1.20658770e-01,  7.94018979e-02, -1.11788336e-01,\n",
       "         -1.19375878e-01,  4.04603235e-02, -2.97247258e-01,\n",
       "         -1.39526711e-02,  3.53946780e-02,  4.23821743e-01,\n",
       "         -2.05169166e-01, -2.30256945e-01, -4.12047602e-02,\n",
       "          1.02480989e-01, -2.30641525e-01, -1.01251648e-01,\n",
       "          1.29507511e-02, -1.04770538e-01, -8.75904915e-02,\n",
       "          1.93538274e-01, -1.89456038e-01,  2.21333322e-01,\n",
       "         -2.77460943e-02,  3.12683734e-01,  6.60217896e-02,\n",
       "         -9.70525501e-02, -9.73071523e-02, -1.38075443e-01,\n",
       "          3.08837251e-02, -3.00853433e-01,  1.17044490e-01,\n",
       "          2.79324105e-01,  6.99715318e-02, -3.56617522e-01,\n",
       "          8.96048651e-02,  4.25017831e-01, -6.63332600e-02,\n",
       "          1.20871010e-02,  4.18645874e-01,  4.49568601e-01,\n",
       "         -1.41895220e-02,  1.47861027e-01,  3.12820514e-01,\n",
       "          9.28344717e-03,  4.35481548e-02, -1.08079943e-01,\n",
       "         -1.14445304e-01, -1.53457362e-01,  1.09901541e-01,\n",
       "         -3.90712086e-02, -5.10474136e-02, -4.99215699e-02,\n",
       "          6.47218181e-02,  3.25281077e-01, -8.28555731e-02,\n",
       "          3.03643958e-01, -1.22697885e-02, -1.74827823e-01,\n",
       "          1.62302151e-01,  2.37880849e-01, -8.80357359e-02,\n",
       "         -3.63974437e-02,  2.06471419e-01,  3.28366773e-02,\n",
       "         -1.79858853e-01,  4.28415295e-01, -1.40130608e-01,\n",
       "         -3.32948379e-02,  1.65648600e-02, -2.84909419e-01,\n",
       "         -2.08711670e-01,  1.09429967e-01,  1.69948204e-01,\n",
       "         -1.79233722e-01, -1.49276721e-02,  1.66718515e-01,\n",
       "          1.18317307e-01, -1.52098081e-01, -1.88398261e-02,\n",
       "         -9.92266637e-02, -1.72714499e-01, -7.61839684e-02,\n",
       "          4.36125372e-02],\n",
       "        [ 1.11550801e-01,  6.46981984e-02,  1.31141346e-01,\n",
       "         -1.45084048e-01, -1.94259609e-01,  6.02644504e-02,\n",
       "         -1.28557755e-01,  2.49948498e-01, -2.58304727e-01,\n",
       "         -2.00503094e-01, -1.97175451e-01,  3.14695099e-03,\n",
       "          1.61884296e-01,  2.29011183e-01, -1.55481647e-01,\n",
       "         -1.16986725e-01,  5.37255559e-02, -3.57880515e-01,\n",
       "         -2.16252826e-01, -1.93866161e-01,  1.95247328e-01,\n",
       "          2.85154767e-01,  2.06596617e-01,  8.24276476e-02,\n",
       "         -7.87849815e-03,  2.99266071e-01, -1.00696737e-01,\n",
       "         -5.31434400e-02,  2.75919786e-01, -1.20600153e-01,\n",
       "          9.16072267e-03, -1.15773222e-01,  3.33024657e-01,\n",
       "          1.07307849e-01, -4.28215836e-02, -3.31508995e-01,\n",
       "          2.63730551e-01, -2.00781611e-01,  1.31370473e-01,\n",
       "         -1.30313125e-01,  2.73262210e-01,  1.53505290e-01,\n",
       "         -9.15633572e-03,  1.90860802e-01,  1.78331871e-01,\n",
       "          2.07339959e-01,  1.06623758e-01, -2.48599937e-01,\n",
       "         -1.12787041e-01, -3.83165862e-01, -4.44281776e-02,\n",
       "          1.12244748e-01, -4.03963921e-01,  6.80571139e-02,\n",
       "         -2.40671109e-01,  6.61688799e-03, -2.69512069e-02,\n",
       "         -1.62273003e-01,  2.19628665e-01, -2.31945627e-01,\n",
       "          1.48020001e-01, -2.36174948e-01,  1.34286481e-01,\n",
       "         -1.79729528e-01,  2.93682736e-01, -1.26455083e-01,\n",
       "         -6.88382999e-02, -1.50640242e-01, -1.27725030e-01,\n",
       "          1.12979633e-01, -2.00528794e-01, -1.61510938e-01,\n",
       "          2.59376048e-01, -2.13550222e-02, -2.23123949e-01,\n",
       "          4.95208381e-02, -4.26513674e-01, -1.69845907e-01,\n",
       "         -5.94771777e-03,  1.18532407e-01, -3.32702908e-01,\n",
       "         -6.97942237e-02,  1.28600606e-01,  6.60262162e-02,\n",
       "          1.50644815e-01, -2.46018430e-01,  3.29334762e-01,\n",
       "          3.41953770e-01, -2.54434195e-01, -2.91089335e-01,\n",
       "          9.33879385e-02, -2.68492836e-01, -3.36609997e-02,\n",
       "         -8.07616573e-02, -1.47152621e-01, -1.33602905e-01,\n",
       "         -1.27146981e-01, -1.91490584e-01,  5.84616438e-02,\n",
       "          1.15040775e-01],\n",
       "        [-6.66376843e-02,  1.07113866e-01, -2.41827185e-01,\n",
       "          1.64581405e-01,  1.53494197e-01,  3.32247826e-01,\n",
       "         -3.32430218e-01, -1.01253370e-01, -3.70915464e-01,\n",
       "         -2.02244449e-01, -1.26556037e-01,  1.11395428e-02,\n",
       "          1.64904511e-01,  1.08860880e-01,  1.21909174e-01,\n",
       "         -1.51657281e-01,  1.58190484e-01,  1.44244506e-01,\n",
       "          2.15852901e-01,  2.44414749e-01, -8.35980895e-02,\n",
       "          2.73892410e-01, -1.63610032e-01, -2.12941005e-01,\n",
       "         -1.30744960e-01,  3.59111209e-01, -2.22362330e-01,\n",
       "         -2.04527008e-01,  2.48389370e-02,  2.58400035e-01,\n",
       "         -4.95051642e-03,  8.13221253e-02, -9.14721005e-02,\n",
       "         -2.72918959e-01,  6.78739171e-02,  2.36315157e-01,\n",
       "          4.29387741e-02, -1.30845073e-01,  3.40222905e-01,\n",
       "         -1.11017444e-01,  6.82092103e-02,  1.55735480e-01,\n",
       "         -6.15843553e-02,  1.75901216e-01, -1.95328280e-01,\n",
       "         -3.78831685e-01, -4.71313449e-02,  1.76196847e-01,\n",
       "          2.16046063e-01,  1.96120374e-01,  1.49405933e-01,\n",
       "         -1.05945268e-01,  8.70644138e-02,  1.81234283e-01,\n",
       "         -2.86879566e-01,  4.58795366e-02,  4.63106067e-02,\n",
       "         -2.19850169e-01,  2.41687478e-01, -1.61474348e-01,\n",
       "         -2.34773746e-01, -3.69865566e-01,  2.81928161e-01,\n",
       "          1.00177863e-01, -5.57814435e-02,  5.34556641e-02,\n",
       "         -1.51637083e-02, -2.85012044e-01, -8.17175508e-04,\n",
       "         -8.53311424e-02,  7.39498175e-02, -2.49251124e-02,\n",
       "         -3.87163501e-01, -1.88972559e-01, -4.56386956e-01,\n",
       "          1.73196573e-02,  2.22874074e-01,  1.07340313e-01,\n",
       "          1.10043939e-01,  2.05176411e-01, -1.54203762e-01,\n",
       "         -1.90631502e-01,  3.60709058e-02,  1.79268371e-01,\n",
       "          1.01431631e-01,  2.04820672e-01,  1.00056325e-01,\n",
       "          1.91585842e-01,  1.28688300e-01,  2.27948913e-01,\n",
       "          2.31956024e-01,  1.97013465e-01,  6.72303913e-02,\n",
       "         -3.94612151e-01,  2.44207832e-01, -1.08475983e-01,\n",
       "         -7.62056900e-02,  7.54459709e-02,  7.87437776e-02,\n",
       "         -5.20007738e-02],\n",
       "        [-1.28435832e-01,  1.88986759e-01, -1.13763167e-01,\n",
       "         -2.49870997e-01,  7.11410246e-03,  1.84984198e-01,\n",
       "         -7.18994618e-02, -1.43980047e-01,  1.92460837e-01,\n",
       "         -2.37424274e-01, -2.64287325e-01, -4.21391862e-02,\n",
       "          1.06120655e-01, -1.61409715e-02,  3.13019243e-01,\n",
       "          1.86152504e-01,  9.33463041e-02, -4.18237627e-01,\n",
       "         -6.28061801e-02, -1.73567327e-01, -1.82473073e-01,\n",
       "         -5.38346177e-02,  5.53129325e-02,  2.06904863e-01,\n",
       "         -1.78613759e-01,  1.13328469e-01, -1.54487060e-01,\n",
       "          1.52999117e-01, -1.36946460e-01, -3.08056362e-01,\n",
       "         -4.24170578e-01,  7.02554060e-02,  1.09256788e-01,\n",
       "         -5.56033304e-03, -3.00962063e-02, -9.10906883e-02,\n",
       "         -9.84546812e-02,  2.34456034e-01,  8.10375241e-02,\n",
       "         -9.47780967e-02,  1.12899223e-01, -1.54417111e-01,\n",
       "         -9.84136098e-02, -1.02032646e-01,  4.10513318e-03,\n",
       "         -9.57970681e-02,  1.06395252e-01, -5.94371351e-02,\n",
       "         -8.75074002e-02, -1.93761429e-01, -2.69171839e-01,\n",
       "          1.41961233e-01,  1.90839835e-01,  1.19840496e-01,\n",
       "         -1.93115451e-01,  1.28396598e-01,  1.24254347e-01,\n",
       "          3.25145434e-02, -1.51568093e-01,  8.35805634e-02,\n",
       "         -1.46643831e-01, -5.36870124e-02, -2.03907879e-03,\n",
       "         -2.75249823e-01, -2.87585964e-01, -3.37292504e-01,\n",
       "          1.41700116e-01, -6.50174236e-02,  1.26433815e-01,\n",
       "         -1.73248193e-01,  1.01704535e-01,  4.79542502e-02,\n",
       "         -9.80116743e-03,  1.26660906e-01, -1.87567273e-01,\n",
       "          3.92524887e-02,  2.88016091e-02,  3.18482772e-01,\n",
       "         -1.71907333e-01, -1.45460862e-01, -6.52195523e-02,\n",
       "          3.07455464e-01, -2.20001545e-01, -2.12780829e-01,\n",
       "          1.42882962e-01, -1.39711123e-01, -1.47808978e-02,\n",
       "         -8.18267563e-02, -5.78601509e-02, -1.18660841e-01,\n",
       "         -3.23986507e-02,  2.88068197e-01,  1.29985370e-01,\n",
       "         -4.23002031e-02, -9.58025715e-02, -1.86965754e-01,\n",
       "         -2.48368339e-01,  2.53291876e-01,  2.16933354e-01,\n",
       "         -6.13093383e-02],\n",
       "        [ 1.45763932e-01,  1.45743532e-01, -2.42079047e-01,\n",
       "          3.60212644e-01,  1.18312455e-01,  1.47266308e-01,\n",
       "          1.27392215e-01,  2.18667027e-01, -5.42035083e-02,\n",
       "          1.25533821e-01,  1.05015263e-01,  4.68570956e-02,\n",
       "         -2.58993203e-02, -1.48478758e-01,  8.46662822e-02,\n",
       "         -1.72743940e-01, -9.04678715e-03,  3.23427756e-01,\n",
       "         -1.50384865e-02, -1.49816405e-01,  6.03039305e-02,\n",
       "          7.26864406e-02, -3.10174978e-02,  1.23467849e-01,\n",
       "         -4.19005040e-01,  1.09927895e-01, -1.71726661e-01,\n",
       "          2.49391008e-02, -1.25585881e-02,  1.12231200e-01,\n",
       "         -2.15250357e-01, -1.49226945e-01, -2.29273206e-01,\n",
       "          5.14471783e-02, -3.51516366e-01,  3.49851729e-01,\n",
       "         -3.78091236e-02,  2.15366304e-01,  5.51045469e-02,\n",
       "          4.37527783e-02,  2.94205668e-02,  5.36100884e-03,\n",
       "         -5.64823030e-01, -1.11864312e-01,  5.99016778e-02,\n",
       "          5.61255883e-02,  1.70368123e-01, -2.63191882e-01,\n",
       "         -1.26943680e-01, -8.06626676e-02, -2.41384063e-01,\n",
       "         -1.80111485e-01,  2.04108850e-01,  1.81225850e-01,\n",
       "         -1.14250129e-01, -5.90308454e-01, -2.97484926e-01,\n",
       "          4.37509065e-02,  8.64211503e-02,  2.97561848e-01,\n",
       "          1.26446397e-01,  1.22687991e-01,  6.97179094e-02,\n",
       "         -1.85990381e-01, -5.11196075e-01, -1.79247747e-01,\n",
       "          1.10816581e-01, -2.66515112e-02, -1.76117400e-01,\n",
       "          1.92304989e-01, -8.08728707e-04,  2.20846604e-01,\n",
       "         -2.58256796e-01,  2.96821423e-02, -1.81216545e-01,\n",
       "         -1.40697430e-01,  1.47048414e-01,  2.20791642e-02,\n",
       "         -9.89180805e-02,  9.30848591e-04,  1.37597798e-01,\n",
       "         -1.13914202e-01, -9.82072545e-02, -2.96408005e-02,\n",
       "          1.75440150e-01, -1.71763670e-01, -1.48974067e-01,\n",
       "         -1.91726105e-01, -1.68570525e-01, -2.55769789e-01,\n",
       "         -1.64921901e-02,  1.75504857e-02,  2.27631607e-01,\n",
       "          1.35301767e-01, -1.46045659e-01, -2.75944503e-01,\n",
       "         -2.26819725e-01,  1.07709447e-01, -2.44842416e-01,\n",
       "         -9.21328364e-02],\n",
       "        [ 2.08245132e-01, -1.16909376e-01, -3.54810671e-01,\n",
       "          1.02517246e-01,  1.40226939e-01,  2.44872363e-01,\n",
       "         -8.64371129e-02, -9.48448027e-02, -1.29664898e-01,\n",
       "          2.03479237e-01, -7.50605283e-02, -3.35027735e-02,\n",
       "          9.32110849e-02, -3.85007783e-01,  1.39153637e-01,\n",
       "         -1.00773357e-01,  1.43122875e-01, -2.81541066e-01,\n",
       "         -4.74788265e-01, -6.54942111e-02, -1.71879805e-01,\n",
       "          2.02177325e-01, -1.57908214e-01, -3.13209462e-01,\n",
       "         -4.01149382e-01,  1.64391001e-01,  7.59161884e-02,\n",
       "         -1.08412031e-01,  3.48049680e-01, -3.10556950e-01,\n",
       "         -1.17456445e-01, -8.53086390e-02,  2.39551244e-01,\n",
       "          1.70104120e-01,  1.17682372e-01, -2.86478258e-01,\n",
       "          2.35644013e-02, -8.07476844e-02, -3.08000946e-02,\n",
       "         -1.36475551e-01,  3.18007743e-02, -3.65533488e-01,\n",
       "          1.40144954e-01, -2.70276562e-01,  1.90068801e-01,\n",
       "         -4.33613258e-02, -2.09302035e-01, -5.68655218e-01,\n",
       "          1.22605078e-01, -4.85359453e-01, -1.37472075e-01,\n",
       "         -6.95834238e-03, -2.87662623e-01, -4.16643322e-01,\n",
       "         -1.00229347e-01, -3.30594059e-01, -3.11487310e-01,\n",
       "         -1.10184944e-01,  5.72253492e-02, -2.97524382e-01,\n",
       "          1.92964540e-01, -1.35340798e-01,  7.46655275e-02,\n",
       "          8.31336892e-02,  1.51283945e-01, -5.58207944e-02,\n",
       "          3.68516025e-01, -4.00041841e-02,  1.16640143e-01,\n",
       "         -8.03481195e-02,  2.37127367e-01, -7.40757273e-02,\n",
       "         -1.90278373e-01,  5.77936744e-02, -3.14555057e-02,\n",
       "          1.99745752e-01, -2.76007646e-01,  1.98465665e-01,\n",
       "         -3.69699036e-01,  1.75084749e-01,  3.76501496e-01,\n",
       "          9.40762390e-02, -5.61167891e-02, -2.22523132e-01,\n",
       "         -3.52387052e-01, -3.68567420e-01,  1.36048666e-01,\n",
       "          4.97292048e-02,  4.57229102e-02, -5.75444780e-02,\n",
       "         -4.07975189e-01,  4.16156846e-02,  3.08805779e-01,\n",
       "          2.02361082e-01, -1.34923764e-01,  1.57030064e-01,\n",
       "         -3.84162357e-01,  1.04750436e-01, -1.22192695e-01,\n",
       "         -7.41578307e-02]]),\n",
       " array([[-0.25005054],\n",
       "        [ 0.21793184],\n",
       "        [-0.14598544],\n",
       "        [-0.24646534],\n",
       "        [-0.19150006],\n",
       "        [ 0.38320614],\n",
       "        [ 0.33393083],\n",
       "        [ 0.02065909],\n",
       "        [ 0.21887833],\n",
       "        [-0.1130495 ],\n",
       "        [-0.06974749],\n",
       "        [ 0.22198824],\n",
       "        [ 0.19561179],\n",
       "        [-0.20742714],\n",
       "        [ 0.07846451],\n",
       "        [ 0.18489033],\n",
       "        [ 0.27287316],\n",
       "        [-0.16756089],\n",
       "        [-0.32307992],\n",
       "        [ 0.25166746],\n",
       "        [ 0.42180311],\n",
       "        [ 0.11830867],\n",
       "        [ 0.17189896],\n",
       "        [ 0.29540385],\n",
       "        [-0.23932089],\n",
       "        [ 0.16236149],\n",
       "        [-0.14228935],\n",
       "        [ 0.3351127 ],\n",
       "        [-0.31343853],\n",
       "        [-0.1777979 ],\n",
       "        [-0.14787981],\n",
       "        [ 0.26237535],\n",
       "        [-0.31717736],\n",
       "        [-0.2691866 ],\n",
       "        [-0.27368317],\n",
       "        [-0.34203219],\n",
       "        [ 0.17772477],\n",
       "        [ 0.11617054],\n",
       "        [ 0.12843283],\n",
       "        [-0.18516592],\n",
       "        [ 0.46014579],\n",
       "        [-0.26588063],\n",
       "        [-0.15348346],\n",
       "        [-0.2603256 ],\n",
       "        [ 0.28529767],\n",
       "        [-0.29056949],\n",
       "        [ 0.17245624],\n",
       "        [-0.20254592],\n",
       "        [ 0.07894063],\n",
       "        [-0.19504773],\n",
       "        [-0.44076678],\n",
       "        [ 0.1572534 ],\n",
       "        [-0.32064305],\n",
       "        [-0.26378921],\n",
       "        [ 0.20225152],\n",
       "        [-0.27049211],\n",
       "        [-0.38263438],\n",
       "        [-0.2389647 ],\n",
       "        [ 0.2837085 ],\n",
       "        [-0.30051451],\n",
       "        [ 0.16053472],\n",
       "        [ 0.25998179],\n",
       "        [ 0.19636531],\n",
       "        [-0.27199065],\n",
       "        [-0.26891676],\n",
       "        [-0.32340694],\n",
       "        [-0.37614532],\n",
       "        [ 0.08273337],\n",
       "        [ 0.22551656],\n",
       "        [ 0.3737169 ],\n",
       "        [ 0.16172091],\n",
       "        [ 0.01217934],\n",
       "        [-0.44935745],\n",
       "        [ 0.2383706 ],\n",
       "        [ 0.38987353],\n",
       "        [ 0.05674307],\n",
       "        [-0.2767291 ],\n",
       "        [ 0.18348923],\n",
       "        [-0.16432731],\n",
       "        [ 0.12410266],\n",
       "        [-0.42566516],\n",
       "        [ 0.2847254 ],\n",
       "        [ 0.57930068],\n",
       "        [-0.14236433],\n",
       "        [-0.371527  ],\n",
       "        [-0.41895348],\n",
       "        [-0.24653005],\n",
       "        [-0.17412145],\n",
       "        [ 0.348375  ],\n",
       "        [ 0.17640905],\n",
       "        [-0.40013451],\n",
       "        [ 0.29014529],\n",
       "        [-0.15598551],\n",
       "        [-0.35145493],\n",
       "        [-0.05486331],\n",
       "        [-0.19627217],\n",
       "        [-0.26332055],\n",
       "        [ 0.28540052],\n",
       "        [ 0.12569251],\n",
       "        [ 0.08270654]])]"
      ]
     },
     "execution_count": 13,
     "metadata": {},
     "output_type": "execute_result"
    }
   ],
   "source": [
    "mlpc_model.coefs_ # bunlar bu sinir ağının farklı katmanlardaki farklı hücrelerin birbirleri ile ilişkilerini ifade eden katsayılar"
   ]
  },
  {
   "cell_type": "code",
   "execution_count": 14,
   "metadata": {},
   "outputs": [
    {
     "name": "stdout",
     "output_type": "stream",
     "text": [
      "\u001b[0;31mType:\u001b[0m        MLPClassifier\n",
      "\u001b[0;31mString form:\u001b[0m MLPClassifier()\n",
      "\u001b[0;31mFile:\u001b[0m        ~/opt/anaconda3/lib/python3.7/site-packages/sklearn/neural_network/_multilayer_perceptron.py\n",
      "\u001b[0;31mDocstring:\u001b[0m  \n",
      "Multi-layer Perceptron classifier.\n",
      "\n",
      "This model optimizes the log-loss function using LBFGS or stochastic\n",
      "gradient descent.\n",
      "\n",
      ".. versionadded:: 0.18\n",
      "\n",
      "Parameters\n",
      "----------\n",
      "hidden_layer_sizes : tuple, length = n_layers - 2, default=(100,)\n",
      "    The ith element represents the number of neurons in the ith\n",
      "    hidden layer.\n",
      "\n",
      "activation : {'identity', 'logistic', 'tanh', 'relu'}, default='relu'\n",
      "    Activation function for the hidden layer.\n",
      "\n",
      "    - 'identity', no-op activation, useful to implement linear bottleneck,\n",
      "      returns f(x) = x\n",
      "\n",
      "    - 'logistic', the logistic sigmoid function,\n",
      "      returns f(x) = 1 / (1 + exp(-x)).\n",
      "\n",
      "    - 'tanh', the hyperbolic tan function,\n",
      "      returns f(x) = tanh(x).\n",
      "\n",
      "    - 'relu', the rectified linear unit function,\n",
      "      returns f(x) = max(0, x)\n",
      "\n",
      "solver : {'lbfgs', 'sgd', 'adam'}, default='adam'\n",
      "    The solver for weight optimization.\n",
      "\n",
      "    - 'lbfgs' is an optimizer in the family of quasi-Newton methods.\n",
      "\n",
      "    - 'sgd' refers to stochastic gradient descent.\n",
      "\n",
      "    - 'adam' refers to a stochastic gradient-based optimizer proposed\n",
      "      by Kingma, Diederik, and Jimmy Ba\n",
      "\n",
      "    Note: The default solver 'adam' works pretty well on relatively\n",
      "    large datasets (with thousands of training samples or more) in terms of\n",
      "    both training time and validation score.\n",
      "    For small datasets, however, 'lbfgs' can converge faster and perform\n",
      "    better.\n",
      "\n",
      "alpha : float, default=0.0001\n",
      "    L2 penalty (regularization term) parameter.\n",
      "\n",
      "batch_size : int, default='auto'\n",
      "    Size of minibatches for stochastic optimizers.\n",
      "    If the solver is 'lbfgs', the classifier will not use minibatch.\n",
      "    When set to \"auto\", `batch_size=min(200, n_samples)`.\n",
      "\n",
      "learning_rate : {'constant', 'invscaling', 'adaptive'}, default='constant'\n",
      "    Learning rate schedule for weight updates.\n",
      "\n",
      "    - 'constant' is a constant learning rate given by\n",
      "      'learning_rate_init'.\n",
      "\n",
      "    - 'invscaling' gradually decreases the learning rate at each\n",
      "      time step 't' using an inverse scaling exponent of 'power_t'.\n",
      "      effective_learning_rate = learning_rate_init / pow(t, power_t)\n",
      "\n",
      "    - 'adaptive' keeps the learning rate constant to\n",
      "      'learning_rate_init' as long as training loss keeps decreasing.\n",
      "      Each time two consecutive epochs fail to decrease training loss by at\n",
      "      least tol, or fail to increase validation score by at least tol if\n",
      "      'early_stopping' is on, the current learning rate is divided by 5.\n",
      "\n",
      "    Only used when ``solver='sgd'``.\n",
      "\n",
      "learning_rate_init : float, default=0.001\n",
      "    The initial learning rate used. It controls the step-size\n",
      "    in updating the weights. Only used when solver='sgd' or 'adam'.\n",
      "\n",
      "power_t : float, default=0.5\n",
      "    The exponent for inverse scaling learning rate.\n",
      "    It is used in updating effective learning rate when the learning_rate\n",
      "    is set to 'invscaling'. Only used when solver='sgd'.\n",
      "\n",
      "max_iter : int, default=200\n",
      "    Maximum number of iterations. The solver iterates until convergence\n",
      "    (determined by 'tol') or this number of iterations. For stochastic\n",
      "    solvers ('sgd', 'adam'), note that this determines the number of epochs\n",
      "    (how many times each data point will be used), not the number of\n",
      "    gradient steps.\n",
      "\n",
      "shuffle : bool, default=True\n",
      "    Whether to shuffle samples in each iteration. Only used when\n",
      "    solver='sgd' or 'adam'.\n",
      "\n",
      "random_state : int, RandomState instance, default=None\n",
      "    Determines random number generation for weights and bias\n",
      "    initialization, train-test split if early stopping is used, and batch\n",
      "    sampling when solver='sgd' or 'adam'.\n",
      "    Pass an int for reproducible results across multiple function calls.\n",
      "    See :term:`Glossary <random_state>`.\n",
      "\n",
      "tol : float, default=1e-4\n",
      "    Tolerance for the optimization. When the loss or score is not improving\n",
      "    by at least ``tol`` for ``n_iter_no_change`` consecutive iterations,\n",
      "    unless ``learning_rate`` is set to 'adaptive', convergence is\n",
      "    considered to be reached and training stops.\n",
      "\n",
      "verbose : bool, default=False\n",
      "    Whether to print progress messages to stdout.\n",
      "\n",
      "warm_start : bool, default=False\n",
      "    When set to True, reuse the solution of the previous\n",
      "    call to fit as initialization, otherwise, just erase the\n",
      "    previous solution. See :term:`the Glossary <warm_start>`.\n",
      "\n",
      "momentum : float, default=0.9\n",
      "    Momentum for gradient descent update. Should be between 0 and 1. Only\n",
      "    used when solver='sgd'.\n",
      "\n",
      "nesterovs_momentum : bool, default=True\n",
      "    Whether to use Nesterov's momentum. Only used when solver='sgd' and\n",
      "    momentum > 0.\n",
      "\n",
      "early_stopping : bool, default=False\n",
      "    Whether to use early stopping to terminate training when validation\n",
      "    score is not improving. If set to true, it will automatically set\n",
      "    aside 10% of training data as validation and terminate training when\n",
      "    validation score is not improving by at least tol for\n",
      "    ``n_iter_no_change`` consecutive epochs. The split is stratified,\n",
      "    except in a multilabel setting.\n",
      "    If early stopping is False, then the training stops when the training\n",
      "    loss does not improve by more than tol for n_iter_no_change consecutive\n",
      "    passes over the training set.\n",
      "    Only effective when solver='sgd' or 'adam'.\n",
      "\n",
      "validation_fraction : float, default=0.1\n",
      "    The proportion of training data to set aside as validation set for\n",
      "    early stopping. Must be between 0 and 1.\n",
      "    Only used if early_stopping is True.\n",
      "\n",
      "beta_1 : float, default=0.9\n",
      "    Exponential decay rate for estimates of first moment vector in adam,\n",
      "    should be in [0, 1). Only used when solver='adam'.\n",
      "\n",
      "beta_2 : float, default=0.999\n",
      "    Exponential decay rate for estimates of second moment vector in adam,\n",
      "    should be in [0, 1). Only used when solver='adam'.\n",
      "\n",
      "epsilon : float, default=1e-8\n",
      "    Value for numerical stability in adam. Only used when solver='adam'.\n",
      "\n",
      "n_iter_no_change : int, default=10\n",
      "    Maximum number of epochs to not meet ``tol`` improvement.\n",
      "    Only effective when solver='sgd' or 'adam'.\n",
      "\n",
      "    .. versionadded:: 0.20\n",
      "\n",
      "max_fun : int, default=15000\n",
      "    Only used when solver='lbfgs'. Maximum number of loss function calls.\n",
      "    The solver iterates until convergence (determined by 'tol'), number\n",
      "    of iterations reaches max_iter, or this number of loss function calls.\n",
      "    Note that number of loss function calls will be greater than or equal\n",
      "    to the number of iterations for the `MLPClassifier`.\n",
      "\n",
      "    .. versionadded:: 0.22\n",
      "\n",
      "Attributes\n",
      "----------\n",
      "classes_ : ndarray or list of ndarray of shape (n_classes,)\n",
      "    Class labels for each output.\n",
      "\n",
      "loss_ : float\n",
      "    The current loss computed with the loss function.\n",
      "\n",
      "best_loss_ : float\n",
      "    The minimum loss reached by the solver throughout fitting.\n",
      "\n",
      "loss_curve_ : list of shape (`n_iter_`,)\n",
      "    The ith element in the list represents the loss at the ith iteration.\n",
      "\n",
      "t_ : int\n",
      "    The number of training samples seen by the solver during fitting.\n",
      "\n",
      "coefs_ : list of shape (n_layers - 1,)\n",
      "    The ith element in the list represents the weight matrix corresponding\n",
      "    to layer i.\n",
      "\n",
      "intercepts_ : list of shape (n_layers - 1,)\n",
      "    The ith element in the list represents the bias vector corresponding to\n",
      "    layer i + 1.\n",
      "\n",
      "n_features_in_ : int\n",
      "    Number of features seen during :term:`fit`.\n",
      "\n",
      "    .. versionadded:: 0.24\n",
      "\n",
      "feature_names_in_ : ndarray of shape (`n_features_in_`,)\n",
      "    Names of features seen during :term:`fit`. Defined only when `X`\n",
      "    has feature names that are all strings.\n",
      "\n",
      "    .. versionadded:: 1.0\n",
      "\n",
      "n_iter_ : int\n",
      "    The number of iterations the solver has run.\n",
      "\n",
      "n_layers_ : int\n",
      "    Number of layers.\n",
      "\n",
      "n_outputs_ : int\n",
      "    Number of outputs.\n",
      "\n",
      "out_activation_ : str\n",
      "    Name of the output activation function.\n",
      "\n",
      "See Also\n",
      "--------\n",
      "MLPRegressor : Multi-layer Perceptron regressor.\n",
      "BernoulliRBM : Bernoulli Restricted Boltzmann Machine (RBM).\n",
      "\n",
      "Notes\n",
      "-----\n",
      "MLPClassifier trains iteratively since at each time step\n",
      "the partial derivatives of the loss function with respect to the model\n",
      "parameters are computed to update the parameters.\n",
      "\n",
      "It can also have a regularization term added to the loss function\n",
      "that shrinks model parameters to prevent overfitting.\n",
      "\n",
      "This implementation works with data represented as dense numpy arrays or\n",
      "sparse scipy arrays of floating point values.\n",
      "\n",
      "References\n",
      "----------\n",
      "Hinton, Geoffrey E.\n",
      "    \"Connectionist learning procedures.\" Artificial intelligence 40.1\n",
      "    (1989): 185-234.\n",
      "\n",
      "Glorot, Xavier, and Yoshua Bengio. \"Understanding the difficulty of\n",
      "    training deep feedforward neural networks.\" International Conference\n",
      "    on Artificial Intelligence and Statistics. 2010.\n",
      "\n",
      "He, Kaiming, et al. \"Delving deep into rectifiers: Surpassing human-level\n",
      "    performance on imagenet classification.\" arXiv preprint\n",
      "    arXiv:1502.01852 (2015).\n",
      "\n",
      "Kingma, Diederik, and Jimmy Ba. \"Adam: A method for stochastic\n",
      "    optimization.\" arXiv preprint arXiv:1412.6980 (2014).\n",
      "\n",
      "Examples\n",
      "--------\n",
      ">>> from sklearn.neural_network import MLPClassifier\n",
      ">>> from sklearn.datasets import make_classification\n",
      ">>> from sklearn.model_selection import train_test_split\n",
      ">>> X, y = make_classification(n_samples=100, random_state=1)\n",
      ">>> X_train, X_test, y_train, y_test = train_test_split(X, y, stratify=y,\n",
      "...                                                     random_state=1)\n",
      ">>> clf = MLPClassifier(random_state=1, max_iter=300).fit(X_train, y_train)\n",
      ">>> clf.predict_proba(X_test[:1])\n",
      "array([[0.038..., 0.961...]])\n",
      ">>> clf.predict(X_test[:5, :])\n",
      "array([1, 0, 1, 0, 1])\n",
      ">>> clf.score(X_test, y_test)\n",
      "0.8...\n"
     ]
    }
   ],
   "source": [
    "?mlpc_model"
   ]
  },
  {
   "cell_type": "code",
   "execution_count": 15,
   "metadata": {},
   "outputs": [
    {
     "data": {
      "text/plain": [
       "0.7445887445887446"
      ]
     },
     "execution_count": 15,
     "metadata": {},
     "output_type": "execute_result"
    }
   ],
   "source": [
    "y_pred = mlpc_model.predict(X_test)\n",
    "\n",
    "accuracy_score(y_test, y_pred)"
   ]
  },
  {
   "cell_type": "markdown",
   "metadata": {},
   "source": [
    "### Model Tuning"
   ]
  },
  {
   "cell_type": "code",
   "execution_count": 16,
   "metadata": {},
   "outputs": [],
   "source": [
    "mlpc_params = {\"alpha\":[1,5, 0.1,0.01, 0.03, 0.005, 0.0001],\n",
    "              \"hidden_layer_sizes\": [(10,10), (100,100,100), (100,100), (3,5)]}\n",
    "\n",
    "# alpha = ceza terimi yani düzenlileştirme terimi lassodan bildiğimiz.\n",
    "# hidden layer = kaç katma olmalı, her katmanda kaçar tane olmalı mesela (10,10) iki ktmandan oluşsun 1.katmanda 10 ikinci katmanda 10 nöron demek.\n",
    "# solver yani ağırlık optimizasyonu için küçük veri seti olduğu için lbfgs kullanıcaz. Büyük olsaydı adam kullanırdık.\n",
    "# activasyon olarak logistic func kullanacağız."
   ]
  },
  {
   "cell_type": "code",
   "execution_count": 17,
   "metadata": {},
   "outputs": [],
   "source": [
    "mlpc = MLPClassifier(solver = \"lbfgs\", activation = \"logistic\")"
   ]
  },
  {
   "cell_type": "code",
   "execution_count": 18,
   "metadata": {},
   "outputs": [
    {
     "name": "stdout",
     "output_type": "stream",
     "text": [
      "Fitting 5 folds for each of 28 candidates, totalling 140 fits\n"
     ]
    }
   ],
   "source": [
    "mlpc_cv_model = GridSearchCV(mlpc, mlpc_params, cv = 5, n_jobs = -1, verbose = 2).fit(X_train, y_train)"
   ]
  },
  {
   "cell_type": "code",
   "execution_count": 19,
   "metadata": {},
   "outputs": [
    {
     "data": {
      "text/plain": [
       "GridSearchCV(cv=5,\n",
       "             estimator=MLPClassifier(activation='logistic', solver='lbfgs'),\n",
       "             n_jobs=-1,\n",
       "             param_grid={'alpha': [1, 5, 0.1, 0.01, 0.03, 0.005, 0.0001],\n",
       "                         'hidden_layer_sizes': [(10, 10), (100, 100, 100),\n",
       "                                                (100, 100), (3, 5)]},\n",
       "             verbose=2)"
      ]
     },
     "execution_count": 19,
     "metadata": {},
     "output_type": "execute_result"
    }
   ],
   "source": [
    "mlpc_cv_model"
   ]
  },
  {
   "cell_type": "code",
   "execution_count": 20,
   "metadata": {},
   "outputs": [
    {
     "data": {
      "text/plain": [
       "{'alpha': 1, 'hidden_layer_sizes': (3, 5)}"
      ]
     },
     "execution_count": 20,
     "metadata": {},
     "output_type": "execute_result"
    }
   ],
   "source": [
    "mlpc_cv_model.best_params_"
   ]
  },
  {
   "cell_type": "code",
   "execution_count": 13,
   "metadata": {},
   "outputs": [
    {
     "name": "stderr",
     "output_type": "stream",
     "text": [
      "/Users/mustafa/opt/anaconda3/lib/python3.7/site-packages/sklearn/neural_network/_multilayer_perceptron.py:549: ConvergenceWarning: lbfgs failed to converge (status=1):\n",
      "STOP: TOTAL NO. of ITERATIONS REACHED LIMIT.\n",
      "\n",
      "Increase the number of iterations (max_iter) or scale the data as shown in:\n",
      "    https://scikit-learn.org/stable/modules/preprocessing.html\n",
      "  self.n_iter_ = _check_optimize_result(\"lbfgs\", opt_res, self.max_iter)\n"
     ]
    }
   ],
   "source": [
    "# Final model\n",
    "\n",
    "mlpc_tuned = MLPClassifier(solver = \"lbfgs\",activation='logistic', alpha = 1, hidden_layer_sizes = (3,5)).fit(X_train, y_train)"
   ]
  },
  {
   "cell_type": "code",
   "execution_count": 22,
   "metadata": {},
   "outputs": [],
   "source": [
    "y_pred = mlpc_tuned.predict(X_test)"
   ]
  },
  {
   "cell_type": "code",
   "execution_count": 23,
   "metadata": {},
   "outputs": [
    {
     "data": {
      "text/plain": [
       "0.7575757575757576"
      ]
     },
     "execution_count": 23,
     "metadata": {},
     "output_type": "execute_result"
    }
   ],
   "source": [
    "accuracy_score(y_test, y_pred)"
   ]
  },
  {
   "cell_type": "markdown",
   "metadata": {},
   "source": [
    "## CART(Classification and Regression)"
   ]
  },
  {
   "cell_type": "code",
   "execution_count": 4,
   "metadata": {},
   "outputs": [
    {
     "data": {
      "text/html": [
       "<div>\n",
       "<style scoped>\n",
       "    .dataframe tbody tr th:only-of-type {\n",
       "        vertical-align: middle;\n",
       "    }\n",
       "\n",
       "    .dataframe tbody tr th {\n",
       "        vertical-align: top;\n",
       "    }\n",
       "\n",
       "    .dataframe thead th {\n",
       "        text-align: right;\n",
       "    }\n",
       "</style>\n",
       "<table border=\"1\" class=\"dataframe\">\n",
       "  <thead>\n",
       "    <tr style=\"text-align: right;\">\n",
       "      <th></th>\n",
       "      <th>Pregnancies</th>\n",
       "      <th>Glucose</th>\n",
       "      <th>BloodPressure</th>\n",
       "      <th>SkinThickness</th>\n",
       "      <th>Insulin</th>\n",
       "      <th>BMI</th>\n",
       "      <th>DiabetesPedigreeFunction</th>\n",
       "      <th>Age</th>\n",
       "      <th>Outcome</th>\n",
       "    </tr>\n",
       "  </thead>\n",
       "  <tbody>\n",
       "    <tr>\n",
       "      <th>0</th>\n",
       "      <td>6</td>\n",
       "      <td>148</td>\n",
       "      <td>72</td>\n",
       "      <td>35</td>\n",
       "      <td>0</td>\n",
       "      <td>33.6</td>\n",
       "      <td>0.627</td>\n",
       "      <td>50</td>\n",
       "      <td>1</td>\n",
       "    </tr>\n",
       "    <tr>\n",
       "      <th>1</th>\n",
       "      <td>1</td>\n",
       "      <td>85</td>\n",
       "      <td>66</td>\n",
       "      <td>29</td>\n",
       "      <td>0</td>\n",
       "      <td>26.6</td>\n",
       "      <td>0.351</td>\n",
       "      <td>31</td>\n",
       "      <td>0</td>\n",
       "    </tr>\n",
       "    <tr>\n",
       "      <th>2</th>\n",
       "      <td>8</td>\n",
       "      <td>183</td>\n",
       "      <td>64</td>\n",
       "      <td>0</td>\n",
       "      <td>0</td>\n",
       "      <td>23.3</td>\n",
       "      <td>0.672</td>\n",
       "      <td>32</td>\n",
       "      <td>1</td>\n",
       "    </tr>\n",
       "    <tr>\n",
       "      <th>3</th>\n",
       "      <td>1</td>\n",
       "      <td>89</td>\n",
       "      <td>66</td>\n",
       "      <td>23</td>\n",
       "      <td>94</td>\n",
       "      <td>28.1</td>\n",
       "      <td>0.167</td>\n",
       "      <td>21</td>\n",
       "      <td>0</td>\n",
       "    </tr>\n",
       "    <tr>\n",
       "      <th>4</th>\n",
       "      <td>0</td>\n",
       "      <td>137</td>\n",
       "      <td>40</td>\n",
       "      <td>35</td>\n",
       "      <td>168</td>\n",
       "      <td>43.1</td>\n",
       "      <td>2.288</td>\n",
       "      <td>33</td>\n",
       "      <td>1</td>\n",
       "    </tr>\n",
       "  </tbody>\n",
       "</table>\n",
       "</div>"
      ],
      "text/plain": [
       "   Pregnancies  Glucose  BloodPressure  SkinThickness  Insulin   BMI  \\\n",
       "0            6      148             72             35        0  33.6   \n",
       "1            1       85             66             29        0  26.6   \n",
       "2            8      183             64              0        0  23.3   \n",
       "3            1       89             66             23       94  28.1   \n",
       "4            0      137             40             35      168  43.1   \n",
       "\n",
       "   DiabetesPedigreeFunction  Age  Outcome  \n",
       "0                     0.627   50        1  \n",
       "1                     0.351   31        0  \n",
       "2                     0.672   32        1  \n",
       "3                     0.167   21        0  \n",
       "4                     2.288   33        1  "
      ]
     },
     "execution_count": 4,
     "metadata": {},
     "output_type": "execute_result"
    }
   ],
   "source": [
    "df.head()"
   ]
  },
  {
   "cell_type": "code",
   "execution_count": 5,
   "metadata": {},
   "outputs": [],
   "source": [
    "X_train, X_test, y_train, y_test = train_test_split(X, y, \n",
    "                                                    test_size=0.30, \n",
    "                                                    random_state=42)"
   ]
  },
  {
   "cell_type": "markdown",
   "metadata": {},
   "source": [
    "### Model & Tahmin"
   ]
  },
  {
   "cell_type": "code",
   "execution_count": 6,
   "metadata": {},
   "outputs": [],
   "source": [
    "cart_model = DecisionTreeClassifier().fit(X_train, y_train)"
   ]
  },
  {
   "cell_type": "code",
   "execution_count": 7,
   "metadata": {},
   "outputs": [],
   "source": [
    "y_pred = cart_model.predict(X_test)"
   ]
  },
  {
   "cell_type": "code",
   "execution_count": 8,
   "metadata": {},
   "outputs": [
    {
     "data": {
      "text/plain": [
       "0.7012987012987013"
      ]
     },
     "execution_count": 8,
     "metadata": {},
     "output_type": "execute_result"
    }
   ],
   "source": [
    "accuracy_score(y_test, y_pred)"
   ]
  },
  {
   "cell_type": "markdown",
   "metadata": {},
   "source": [
    "#### Model Tuning"
   ]
  },
  {
   "cell_type": "code",
   "execution_count": 9,
   "metadata": {},
   "outputs": [],
   "source": [
    "cart = DecisionTreeClassifier()"
   ]
  },
  {
   "cell_type": "code",
   "execution_count": 10,
   "metadata": {},
   "outputs": [],
   "source": [
    "cart_params = {\"max_depth\": [1,3,5,8,10],\n",
    "              \"min_samples_split\": [2,3,5,10,20,50]}"
   ]
  },
  {
   "cell_type": "code",
   "execution_count": 11,
   "metadata": {},
   "outputs": [
    {
     "name": "stdout",
     "output_type": "stream",
     "text": [
      "Fitting 10 folds for each of 30 candidates, totalling 300 fits\n"
     ]
    }
   ],
   "source": [
    "cart_cv_model = GridSearchCV(cart, cart_params, cv = 10, n_jobs = -1, verbose =2).fit(X_train, y_train)"
   ]
  },
  {
   "cell_type": "code",
   "execution_count": 12,
   "metadata": {},
   "outputs": [
    {
     "data": {
      "text/plain": [
       "{'max_depth': 5, 'min_samples_split': 20}"
      ]
     },
     "execution_count": 12,
     "metadata": {},
     "output_type": "execute_result"
    }
   ],
   "source": [
    "cart_cv_model.best_params_"
   ]
  },
  {
   "cell_type": "code",
   "execution_count": 14,
   "metadata": {},
   "outputs": [],
   "source": [
    "#Final Model\n",
    "\n",
    "cart_tuned = DecisionTreeClassifier(max_depth = 5, min_samples_split = 20).fit(X_train, y_train)\n"
   ]
  },
  {
   "cell_type": "code",
   "execution_count": 14,
   "metadata": {},
   "outputs": [],
   "source": [
    "y_pred = cart_tuned.predict(X_test)"
   ]
  },
  {
   "cell_type": "code",
   "execution_count": 15,
   "metadata": {},
   "outputs": [
    {
     "data": {
      "text/plain": [
       "0.7532467532467533"
      ]
     },
     "execution_count": 15,
     "metadata": {},
     "output_type": "execute_result"
    }
   ],
   "source": [
    "accuracy_score(y_test, y_pred)"
   ]
  },
  {
   "cell_type": "markdown",
   "metadata": {},
   "source": [
    "## Random Forest"
   ]
  },
  {
   "cell_type": "code",
   "execution_count": 16,
   "metadata": {},
   "outputs": [],
   "source": [
    "X_train, X_test, y_train, y_test = train_test_split(X, y, \n",
    "                                                    test_size=0.30, \n",
    "                                                    random_state=42)"
   ]
  },
  {
   "cell_type": "markdown",
   "metadata": {},
   "source": [
    "### Model & Tahmin"
   ]
  },
  {
   "cell_type": "code",
   "execution_count": 17,
   "metadata": {},
   "outputs": [],
   "source": [
    "rf_model = RandomForestClassifier().fit(X_train, y_train)"
   ]
  },
  {
   "cell_type": "code",
   "execution_count": 18,
   "metadata": {},
   "outputs": [
    {
     "data": {
      "text/plain": [
       "RandomForestClassifier()"
      ]
     },
     "execution_count": 18,
     "metadata": {},
     "output_type": "execute_result"
    }
   ],
   "source": [
    "rf_model"
   ]
  },
  {
   "cell_type": "code",
   "execution_count": 19,
   "metadata": {},
   "outputs": [
    {
     "data": {
      "text/plain": [
       "0.7575757575757576"
      ]
     },
     "execution_count": 19,
     "metadata": {},
     "output_type": "execute_result"
    }
   ],
   "source": [
    "y_pred = rf_model.predict(X_test)\n",
    "accuracy_score(y_test, y_pred)"
   ]
  },
  {
   "cell_type": "markdown",
   "metadata": {},
   "source": [
    "### Model Tuning"
   ]
  },
  {
   "cell_type": "code",
   "execution_count": 20,
   "metadata": {},
   "outputs": [],
   "source": [
    "rf = RandomForestClassifier()"
   ]
  },
  {
   "cell_type": "code",
   "execution_count": 21,
   "metadata": {},
   "outputs": [],
   "source": [
    "rf_params = {\"n_estimators\": [100,200,500,1000],\n",
    "            \"max_features\": [3,5,7,8],\n",
    "            \"min_samples_split\": [2,5,10,20]}\n",
    "\n",
    "# n estimators: kullanılacak ağaç sayısı\n",
    "# max features: max değişken sayısı\n",
    "# min_samples_split: min ayırma sayısı"
   ]
  },
  {
   "cell_type": "code",
   "execution_count": 22,
   "metadata": {},
   "outputs": [
    {
     "name": "stdout",
     "output_type": "stream",
     "text": [
      "Fitting 5 folds for each of 64 candidates, totalling 320 fits\n"
     ]
    }
   ],
   "source": [
    "rf_cv_model = GridSearchCV(rf, rf_params, cv = 5, n_jobs = -1, verbose = 2).fit(X_train, y_train)"
   ]
  },
  {
   "cell_type": "code",
   "execution_count": 23,
   "metadata": {},
   "outputs": [
    {
     "data": {
      "text/plain": [
       "{'max_features': 7, 'min_samples_split': 5, 'n_estimators': 200}"
      ]
     },
     "execution_count": 23,
     "metadata": {},
     "output_type": "execute_result"
    }
   ],
   "source": [
    "rf_cv_model.best_params_"
   ]
  },
  {
   "cell_type": "code",
   "execution_count": 15,
   "metadata": {},
   "outputs": [],
   "source": [
    "# Final model\n",
    "\n",
    "rf_tuned = RandomForestClassifier(max_features = 3, \n",
    "                                  min_samples_split = 5, \n",
    "                                  n_estimators = 200).fit(X_train, y_train)"
   ]
  },
  {
   "cell_type": "code",
   "execution_count": 32,
   "metadata": {},
   "outputs": [],
   "source": [
    "y_pred = rf_tuned.predict(X_test)"
   ]
  },
  {
   "cell_type": "code",
   "execution_count": 33,
   "metadata": {},
   "outputs": [
    {
     "data": {
      "text/plain": [
       "0.7532467532467533"
      ]
     },
     "execution_count": 33,
     "metadata": {},
     "output_type": "execute_result"
    }
   ],
   "source": [
    "accuracy_score(y_test, y_pred)"
   ]
  },
  {
   "cell_type": "code",
   "execution_count": 27,
   "metadata": {},
   "outputs": [
    {
     "data": {
      "image/png": "[encoded data removed]",
      "text/plain": [
       "<Figure size 432x288 with 1 Axes>"
      ]
     },
     "metadata": {},
     "output_type": "display_data"
    }
   ],
   "source": [
    "# Değisken Önem Düzeyleri\n",
    "\n",
    "feature_imp = pd.Series(rf_tuned.feature_importances_,\n",
    "                        index=X_train.columns).sort_values(ascending=False)\n",
    "\n",
    "sns.barplot(x=feature_imp, y=feature_imp.index)\n",
    "plt.xlabel('Değişken Önem Skorları')\n",
    "plt.ylabel('Değişkenler')\n",
    "plt.title(\"Değişken Önem Düzeyleri\")\n",
    "plt.show()"
   ]
  },
  {
   "cell_type": "markdown",
   "metadata": {},
   "source": [
    "## Gradient Boosting Machines"
   ]
  },
  {
   "cell_type": "code",
   "execution_count": 7,
   "metadata": {},
   "outputs": [],
   "source": [
    "# Model Tahmin\n",
    "\n",
    "gbm_model = GradientBoostingClassifier().fit(X_train, y_train) #parametreleri henüz değiştirmedik.\n"
   ]
  },
  {
   "cell_type": "code",
   "execution_count": 9,
   "metadata": {},
   "outputs": [
    {
     "name": "stdout",
     "output_type": "stream",
     "text": [
      "\u001b[0;31mType:\u001b[0m        GradientBoostingClassifier\n",
      "\u001b[0;31mString form:\u001b[0m GradientBoostingClassifier()\n",
      "\u001b[0;31mLength:\u001b[0m      100\n",
      "\u001b[0;31mFile:\u001b[0m        ~/opt/anaconda3/lib/python3.7/site-packages/sklearn/ensemble/_gb.py\n",
      "\u001b[0;31mDocstring:\u001b[0m  \n",
      "Gradient Boosting for classification.\n",
      "\n",
      "GB builds an additive model in a\n",
      "forward stage-wise fashion; it allows for the optimization of\n",
      "arbitrary differentiable loss functions. In each stage ``n_classes_``\n",
      "regression trees are fit on the negative gradient of the\n",
      "binomial or multinomial deviance loss function. Binary classification\n",
      "is a special case where only a single regression tree is induced.\n",
      "\n",
      "Read more in the :ref:`User Guide <gradient_boosting>`.\n",
      "\n",
      "Parameters\n",
      "----------\n",
      "loss : {'deviance', 'exponential'}, default='deviance'\n",
      "    The loss function to be optimized. 'deviance' refers to\n",
      "    deviance (= logistic regression) for classification\n",
      "    with probabilistic outputs. For loss 'exponential' gradient\n",
      "    boosting recovers the AdaBoost algorithm.\n",
      "\n",
      "learning_rate : float, default=0.1\n",
      "    Learning rate shrinks the contribution of each tree by `learning_rate`.\n",
      "    There is a trade-off between learning_rate and n_estimators.\n",
      "\n",
      "n_estimators : int, default=100\n",
      "    The number of boosting stages to perform. Gradient boosting\n",
      "    is fairly robust to over-fitting so a large number usually\n",
      "    results in better performance.\n",
      "\n",
      "subsample : float, default=1.0\n",
      "    The fraction of samples to be used for fitting the individual base\n",
      "    learners. If smaller than 1.0 this results in Stochastic Gradient\n",
      "    Boosting. `subsample` interacts with the parameter `n_estimators`.\n",
      "    Choosing `subsample < 1.0` leads to a reduction of variance\n",
      "    and an increase in bias.\n",
      "\n",
      "criterion : {'friedman_mse', 'squared_error', 'mse', 'mae'},             default='friedman_mse'\n",
      "    The function to measure the quality of a split. Supported criteria\n",
      "    are 'friedman_mse' for the mean squared error with improvement\n",
      "    score by Friedman, 'squared_error' for mean squared error, and 'mae'\n",
      "    for the mean absolute error. The default value of 'friedman_mse' is\n",
      "    generally the best as it can provide a better approximation in some\n",
      "    cases.\n",
      "\n",
      "    .. versionadded:: 0.18\n",
      "\n",
      "    .. deprecated:: 0.24\n",
      "        `criterion='mae'` is deprecated and will be removed in version\n",
      "        1.1 (renaming of 0.26). Use `criterion='friedman_mse'` or\n",
      "        `'squared_error'` instead, as trees should use a squared error\n",
      "        criterion in Gradient Boosting.\n",
      "\n",
      "    .. deprecated:: 1.0\n",
      "        Criterion 'mse' was deprecated in v1.0 and will be removed in\n",
      "        version 1.2. Use `criterion='squared_error'` which is equivalent.\n",
      "\n",
      "min_samples_split : int or float, default=2\n",
      "    The minimum number of samples required to split an internal node:\n",
      "\n",
      "    - If int, then consider `min_samples_split` as the minimum number.\n",
      "    - If float, then `min_samples_split` is a fraction and\n",
      "      `ceil(min_samples_split * n_samples)` are the minimum\n",
      "      number of samples for each split.\n",
      "\n",
      "    .. versionchanged:: 0.18\n",
      "       Added float values for fractions.\n",
      "\n",
      "min_samples_leaf : int or float, default=1\n",
      "    The minimum number of samples required to be at a leaf node.\n",
      "    A split point at any depth will only be considered if it leaves at\n",
      "    least ``min_samples_leaf`` training samples in each of the left and\n",
      "    right branches.  This may have the effect of smoothing the model,\n",
      "    especially in regression.\n",
      "\n",
      "    - If int, then consider `min_samples_leaf` as the minimum number.\n",
      "    - If float, then `min_samples_leaf` is a fraction and\n",
      "      `ceil(min_samples_leaf * n_samples)` are the minimum\n",
      "      number of samples for each node.\n",
      "\n",
      "    .. versionchanged:: 0.18\n",
      "       Added float values for fractions.\n",
      "\n",
      "min_weight_fraction_leaf : float, default=0.0\n",
      "    The minimum weighted fraction of the sum total of weights (of all\n",
      "    the input samples) required to be at a leaf node. Samples have\n",
      "    equal weight when sample_weight is not provided.\n",
      "\n",
      "max_depth : int, default=3\n",
      "    The maximum depth of the individual regression estimators. The maximum\n",
      "    depth limits the number of nodes in the tree. Tune this parameter\n",
      "    for best performance; the best value depends on the interaction\n",
      "    of the input variables.\n",
      "\n",
      "min_impurity_decrease : float, default=0.0\n",
      "    A node will be split if this split induces a decrease of the impurity\n",
      "    greater than or equal to this value.\n",
      "\n",
      "    The weighted impurity decrease equation is the following::\n",
      "\n",
      "        N_t / N * (impurity - N_t_R / N_t * right_impurity\n",
      "                            - N_t_L / N_t * left_impurity)\n",
      "\n",
      "    where ``N`` is the total number of samples, ``N_t`` is the number of\n",
      "    samples at the current node, ``N_t_L`` is the number of samples in the\n",
      "    left child, and ``N_t_R`` is the number of samples in the right child.\n",
      "\n",
      "    ``N``, ``N_t``, ``N_t_R`` and ``N_t_L`` all refer to the weighted sum,\n",
      "    if ``sample_weight`` is passed.\n",
      "\n",
      "    .. versionadded:: 0.19\n",
      "\n",
      "init : estimator or 'zero', default=None\n",
      "    An estimator object that is used to compute the initial predictions.\n",
      "    ``init`` has to provide :meth:`fit` and :meth:`predict_proba`. If\n",
      "    'zero', the initial raw predictions are set to zero. By default, a\n",
      "    ``DummyEstimator`` predicting the classes priors is used.\n",
      "\n",
      "random_state : int, RandomState instance or None, default=None\n",
      "    Controls the random seed given to each Tree estimator at each\n",
      "    boosting iteration.\n",
      "    In addition, it controls the random permutation of the features at\n",
      "    each split (see Notes for more details).\n",
      "    It also controls the random splitting of the training data to obtain a\n",
      "    validation set if `n_iter_no_change` is not None.\n",
      "    Pass an int for reproducible output across multiple function calls.\n",
      "    See :term:`Glossary <random_state>`.\n",
      "\n",
      "max_features : {'auto', 'sqrt', 'log2'}, int or float, default=None\n",
      "    The number of features to consider when looking for the best split:\n",
      "\n",
      "    - If int, then consider `max_features` features at each split.\n",
      "    - If float, then `max_features` is a fraction and\n",
      "      `int(max_features * n_features)` features are considered at each\n",
      "      split.\n",
      "    - If 'auto', then `max_features=sqrt(n_features)`.\n",
      "    - If 'sqrt', then `max_features=sqrt(n_features)`.\n",
      "    - If 'log2', then `max_features=log2(n_features)`.\n",
      "    - If None, then `max_features=n_features`.\n",
      "\n",
      "    Choosing `max_features < n_features` leads to a reduction of variance\n",
      "    and an increase in bias.\n",
      "\n",
      "    Note: the search for a split does not stop until at least one\n",
      "    valid partition of the node samples is found, even if it requires to\n",
      "    effectively inspect more than ``max_features`` features.\n",
      "\n",
      "verbose : int, default=0\n",
      "    Enable verbose output. If 1 then it prints progress and performance\n",
      "    once in a while (the more trees the lower the frequency). If greater\n",
      "    than 1 then it prints progress and performance for every tree.\n",
      "\n",
      "max_leaf_nodes : int, default=None\n",
      "    Grow trees with ``max_leaf_nodes`` in best-first fashion.\n",
      "    Best nodes are defined as relative reduction in impurity.\n",
      "    If None then unlimited number of leaf nodes.\n",
      "\n",
      "warm_start : bool, default=False\n",
      "    When set to ``True``, reuse the solution of the previous call to fit\n",
      "    and add more estimators to the ensemble, otherwise, just erase the\n",
      "    previous solution. See :term:`the Glossary <warm_start>`.\n",
      "\n",
      "validation_fraction : float, default=0.1\n",
      "    The proportion of training data to set aside as validation set for\n",
      "    early stopping. Must be between 0 and 1.\n",
      "    Only used if ``n_iter_no_change`` is set to an integer.\n",
      "\n",
      "    .. versionadded:: 0.20\n",
      "\n",
      "n_iter_no_change : int, default=None\n",
      "    ``n_iter_no_change`` is used to decide if early stopping will be used\n",
      "    to terminate training when validation score is not improving. By\n",
      "    default it is set to None to disable early stopping. If set to a\n",
      "    number, it will set aside ``validation_fraction`` size of the training\n",
      "    data as validation and terminate training when validation score is not\n",
      "    improving in all of the previous ``n_iter_no_change`` numbers of\n",
      "    iterations. The split is stratified.\n",
      "\n",
      "    .. versionadded:: 0.20\n",
      "\n",
      "tol : float, default=1e-4\n",
      "    Tolerance for the early stopping. When the loss is not improving\n",
      "    by at least tol for ``n_iter_no_change`` iterations (if set to a\n",
      "    number), the training stops.\n",
      "\n",
      "    .. versionadded:: 0.20\n",
      "\n",
      "ccp_alpha : non-negative float, default=0.0\n",
      "    Complexity parameter used for Minimal Cost-Complexity Pruning. The\n",
      "    subtree with the largest cost complexity that is smaller than\n",
      "    ``ccp_alpha`` will be chosen. By default, no pruning is performed. See\n",
      "    :ref:`minimal_cost_complexity_pruning` for details.\n",
      "\n",
      "    .. versionadded:: 0.22\n",
      "\n",
      "Attributes\n",
      "----------\n",
      "n_estimators_ : int\n",
      "    The number of estimators as selected by early stopping (if\n",
      "    ``n_iter_no_change`` is specified). Otherwise it is set to\n",
      "    ``n_estimators``.\n",
      "\n",
      "    .. versionadded:: 0.20\n",
      "\n",
      "feature_importances_ : ndarray of shape (n_features,)\n",
      "    The impurity-based feature importances.\n",
      "    The higher, the more important the feature.\n",
      "    The importance of a feature is computed as the (normalized)\n",
      "    total reduction of the criterion brought by that feature.  It is also\n",
      "    known as the Gini importance.\n",
      "\n",
      "    Warning: impurity-based feature importances can be misleading for\n",
      "    high cardinality features (many unique values). See\n",
      "    :func:`sklearn.inspection.permutation_importance` as an alternative.\n",
      "\n",
      "oob_improvement_ : ndarray of shape (n_estimators,)\n",
      "    The improvement in loss (= deviance) on the out-of-bag samples\n",
      "    relative to the previous iteration.\n",
      "    ``oob_improvement_[0]`` is the improvement in\n",
      "    loss of the first stage over the ``init`` estimator.\n",
      "    Only available if ``subsample < 1.0``\n",
      "\n",
      "train_score_ : ndarray of shape (n_estimators,)\n",
      "    The i-th score ``train_score_[i]`` is the deviance (= loss) of the\n",
      "    model at iteration ``i`` on the in-bag sample.\n",
      "    If ``subsample == 1`` this is the deviance on the training data.\n",
      "\n",
      "loss_ : LossFunction\n",
      "    The concrete ``LossFunction`` object.\n",
      "\n",
      "init_ : estimator\n",
      "    The estimator that provides the initial predictions.\n",
      "    Set via the ``init`` argument or ``loss.init_estimator``.\n",
      "\n",
      "estimators_ : ndarray of DecisionTreeRegressor of             shape (n_estimators, ``loss_.K``)\n",
      "    The collection of fitted sub-estimators. ``loss_.K`` is 1 for binary\n",
      "    classification, otherwise n_classes.\n",
      "\n",
      "classes_ : ndarray of shape (n_classes,)\n",
      "    The classes labels.\n",
      "\n",
      "n_features_ : int\n",
      "    The number of data features.\n",
      "\n",
      "    .. deprecated:: 1.0\n",
      "        Attribute `n_features_` was deprecated in version 1.0 and will be\n",
      "        removed in 1.2. Use `n_features_in_` instead.\n",
      "\n",
      "n_features_in_ : int\n",
      "    Number of features seen during :term:`fit`.\n",
      "\n",
      "    .. versionadded:: 0.24\n",
      "\n",
      "feature_names_in_ : ndarray of shape (`n_features_in_`,)\n",
      "    Names of features seen during :term:`fit`. Defined only when `X`\n",
      "    has feature names that are all strings.\n",
      "\n",
      "    .. versionadded:: 1.0\n",
      "\n",
      "n_classes_ : int\n",
      "    The number of classes.\n",
      "\n",
      "max_features_ : int\n",
      "    The inferred value of max_features.\n",
      "\n",
      "See Also\n",
      "--------\n",
      "HistGradientBoostingClassifier : Histogram-based Gradient Boosting\n",
      "    Classification Tree.\n",
      "sklearn.tree.DecisionTreeClassifier : A decision tree classifier.\n",
      "RandomForestClassifier : A meta-estimator that fits a number of decision\n",
      "    tree classifiers on various sub-samples of the dataset and uses\n",
      "    averaging to improve the predictive accuracy and control over-fitting.\n",
      "AdaBoostClassifier : A meta-estimator that begins by fitting a classifier\n",
      "    on the original dataset and then fits additional copies of the\n",
      "    classifier on the same dataset where the weights of incorrectly\n",
      "    classified instances are adjusted such that subsequent classifiers\n",
      "    focus more on difficult cases.\n",
      "\n",
      "Notes\n",
      "-----\n",
      "The features are always randomly permuted at each split. Therefore,\n",
      "the best found split may vary, even with the same training data and\n",
      "``max_features=n_features``, if the improvement of the criterion is\n",
      "identical for several splits enumerated during the search of the best\n",
      "split. To obtain a deterministic behaviour during fitting,\n",
      "``random_state`` has to be fixed.\n",
      "\n",
      "References\n",
      "----------\n",
      "J. Friedman, Greedy Function Approximation: A Gradient Boosting\n",
      "Machine, The Annals of Statistics, Vol. 29, No. 5, 2001.\n",
      "\n",
      "J. Friedman, Stochastic Gradient Boosting, 1999\n",
      "\n",
      "T. Hastie, R. Tibshirani and J. Friedman.\n",
      "Elements of Statistical Learning Ed. 2, Springer, 2009.\n",
      "\n",
      "Examples\n",
      "--------\n",
      "The following example shows how to fit a gradient boosting classifier with\n",
      "100 decision stumps as weak learners.\n",
      "\n",
      ">>> from sklearn.datasets import make_hastie_10_2\n",
      ">>> from sklearn.ensemble import GradientBoostingClassifier\n",
      "\n",
      ">>> X, y = make_hastie_10_2(random_state=0)\n",
      ">>> X_train, X_test = X[:2000], X[2000:]\n",
      ">>> y_train, y_test = y[:2000], y[2000:]\n",
      "\n",
      ">>> clf = GradientBoostingClassifier(n_estimators=100, learning_rate=1.0,\n",
      "...     max_depth=1, random_state=0).fit(X_train, y_train)\n",
      ">>> clf.score(X_test, y_test)\n",
      "0.913...\n"
     ]
    }
   ],
   "source": [
    "?gbm_model"
   ]
  },
  {
   "cell_type": "code",
   "execution_count": 10,
   "metadata": {},
   "outputs": [],
   "source": [
    "y_pred = gbm_model.predict(X_test)"
   ]
  },
  {
   "cell_type": "code",
   "execution_count": 11,
   "metadata": {},
   "outputs": [
    {
     "data": {
      "text/plain": [
       "0.7489177489177489"
      ]
     },
     "execution_count": 11,
     "metadata": {},
     "output_type": "execute_result"
    }
   ],
   "source": [
    "accuracy_score(y_test, y_pred)"
   ]
  },
  {
   "cell_type": "code",
   "execution_count": 12,
   "metadata": {},
   "outputs": [],
   "source": [
    "# Model Tuning: parametreleri ayarlayalım\n",
    "\n",
    "gbm = GradientBoostingClassifier()"
   ]
  },
  {
   "cell_type": "code",
   "execution_count": 14,
   "metadata": {},
   "outputs": [],
   "source": [
    "gbm_params = {\"learning_rate\": [0.1, 0.01, 0.001, 0.05],\n",
    "             \"n_estimators\": [100, 300, 500, 1000],\n",
    "             \"max_depth\":[2,3,5,8]}\n",
    "\n",
    "# veri seti büyük olunca, n estimators un büyük olması iyi oluyor. Ağaç sayısının fazla olması, detaya girme anlamına geliyor."
   ]
  },
  {
   "cell_type": "code",
   "execution_count": 15,
   "metadata": {},
   "outputs": [
    {
     "name": "stdout",
     "output_type": "stream",
     "text": [
      "Fitting 5 folds for each of 64 candidates, totalling 320 fits\n"
     ]
    }
   ],
   "source": [
    "gbm_cv_model= GridSearchCV(gbm, gbm_params, \n",
    "                           cv = 5, \n",
    "                           n_jobs = -1, verbose = 2).fit(X_train, y_train)"
   ]
  },
  {
   "cell_type": "code",
   "execution_count": 16,
   "metadata": {},
   "outputs": [
    {
     "data": {
      "text/plain": [
       "{'learning_rate': 0.05, 'max_depth': 3, 'n_estimators': 100}"
      ]
     },
     "execution_count": 16,
     "metadata": {},
     "output_type": "execute_result"
    }
   ],
   "source": [
    "gbm_cv_model.best_params_"
   ]
  },
  {
   "cell_type": "code",
   "execution_count": 16,
   "metadata": {},
   "outputs": [],
   "source": [
    "# Final Model\n",
    "gbm_tuned = GradientBoostingClassifier(learning_rate = 0.05,\n",
    "                                       max_depth = 3, \n",
    "                                       n_estimators = 100).fit(X_train, y_train)"
   ]
  },
  {
   "cell_type": "code",
   "execution_count": 18,
   "metadata": {},
   "outputs": [
    {
     "data": {
      "text/plain": [
       "0.7272727272727273"
      ]
     },
     "execution_count": 18,
     "metadata": {},
     "output_type": "execute_result"
    }
   ],
   "source": [
    "y_pred = gbm_tuned.predict(X_test)\n",
    "accuracy_score(y_test, y_pred)"
   ]
  },
  {
   "cell_type": "code",
   "execution_count": 19,
   "metadata": {},
   "outputs": [
    {
     "data": {
      "image/png": "[encoded data removed]",
      "text/plain": [
       "<Figure size 432x288 with 1 Axes>"
      ]
     },
     "metadata": {},
     "output_type": "display_data"
    }
   ],
   "source": [
    "feature_imp = pd.Series(gbm_tuned.feature_importances_,\n",
    "                        index=X_train.columns).sort_values(ascending=False)\n",
    "\n",
    "sns.barplot(x=feature_imp, y=feature_imp.index)\n",
    "plt.xlabel('Değişken Önem Skorları')\n",
    "plt.ylabel('Değişkenler')\n",
    "plt.title(\"Değişken Önem Düzeyleri\")\n",
    "plt.show()"
   ]
  },
  {
   "cell_type": "markdown",
   "metadata": {},
   "source": [
    "## XGBoost"
   ]
  },
  {
   "cell_type": "code",
   "execution_count": 20,
   "metadata": {},
   "outputs": [
    {
     "name": "stdout",
     "output_type": "stream",
     "text": [
      "Requirement already satisfied: xgboost in /Users/mustafa/opt/anaconda3/lib/python3.7/site-packages (0.90)\n",
      "Requirement already satisfied: numpy in /Users/mustafa/opt/anaconda3/lib/python3.7/site-packages (from xgboost) (1.21.5)\n",
      "Requirement already satisfied: scipy in /Users/mustafa/opt/anaconda3/lib/python3.7/site-packages (from xgboost) (1.6.1)\n"
     ]
    }
   ],
   "source": [
    "# Model Tahmin\n",
    "!pip install xgboost"
   ]
  },
  {
   "cell_type": "code",
   "execution_count": 6,
   "metadata": {},
   "outputs": [],
   "source": [
    "from xgboost import XGBClassifier"
   ]
  },
  {
   "cell_type": "code",
   "execution_count": 22,
   "metadata": {},
   "outputs": [],
   "source": [
    "xgb_model = XGBClassifier().fit(X_train, y_train)"
   ]
  },
  {
   "cell_type": "code",
   "execution_count": 23,
   "metadata": {},
   "outputs": [
    {
     "name": "stdout",
     "output_type": "stream",
     "text": [
      "\u001b[0;31mType:\u001b[0m        XGBClassifier\n",
      "\u001b[0;31mString form:\u001b[0m XGBClassifier()\n",
      "\u001b[0;31mFile:\u001b[0m        ~/opt/anaconda3/lib/python3.7/site-packages/xgboost/sklearn.py\n",
      "\u001b[0;31mDocstring:\u001b[0m  \n",
      "Implementation of the scikit-learn API for XGBoost classification.\n",
      "\n",
      "Parameters\n",
      "----------\n",
      "max_depth : int\n",
      "    Maximum tree depth for base learners.\n",
      "learning_rate : float\n",
      "    Boosting learning rate (xgb's \"eta\")\n",
      "n_estimators : int\n",
      "    Number of trees to fit.\n",
      "verbosity : int\n",
      "    The degree of verbosity. Valid values are 0 (silent) - 3 (debug).\n",
      "silent : boolean\n",
      "    Whether to print messages while running boosting. Deprecated. Use verbosity instead.\n",
      "objective : string or callable\n",
      "    Specify the learning task and the corresponding learning objective or\n",
      "    a custom objective function to be used (see note below).\n",
      "booster: string\n",
      "    Specify which booster to use: gbtree, gblinear or dart.\n",
      "nthread : int\n",
      "    Number of parallel threads used to run xgboost.  (Deprecated, please use ``n_jobs``)\n",
      "n_jobs : int\n",
      "    Number of parallel threads used to run xgboost.  (replaces ``nthread``)\n",
      "gamma : float\n",
      "    Minimum loss reduction required to make a further partition on a leaf node of the tree.\n",
      "min_child_weight : int\n",
      "    Minimum sum of instance weight(hessian) needed in a child.\n",
      "max_delta_step : int\n",
      "    Maximum delta step we allow each tree's weight estimation to be.\n",
      "subsample : float\n",
      "    Subsample ratio of the training instance.\n",
      "colsample_bytree : float\n",
      "    Subsample ratio of columns when constructing each tree.\n",
      "colsample_bylevel : float\n",
      "    Subsample ratio of columns for each level.\n",
      "colsample_bynode : float\n",
      "    Subsample ratio of columns for each split.\n",
      "reg_alpha : float (xgb's alpha)\n",
      "    L1 regularization term on weights\n",
      "reg_lambda : float (xgb's lambda)\n",
      "    L2 regularization term on weights\n",
      "scale_pos_weight : float\n",
      "    Balancing of positive and negative weights.\n",
      "base_score:\n",
      "    The initial prediction score of all instances, global bias.\n",
      "seed : int\n",
      "    Random number seed.  (Deprecated, please use random_state)\n",
      "random_state : int\n",
      "    Random number seed.  (replaces seed)\n",
      "missing : float, optional\n",
      "    Value in the data which needs to be present as a missing value. If\n",
      "    None, defaults to np.nan.\n",
      "importance_type: string, default \"gain\"\n",
      "    The feature importance type for the feature_importances_ property: either \"gain\",\n",
      "    \"weight\", \"cover\", \"total_gain\" or \"total_cover\".\n",
      "\\*\\*kwargs : dict, optional\n",
      "    Keyword arguments for XGBoost Booster object.  Full documentation of parameters can\n",
      "    be found here: https://github.com/dmlc/xgboost/blob/master/doc/parameter.rst.\n",
      "    Attempting to set a parameter via the constructor args and \\*\\*kwargs dict simultaneously\n",
      "    will result in a TypeError.\n",
      "\n",
      "    .. note:: \\*\\*kwargs unsupported by scikit-learn\n",
      "\n",
      "        \\*\\*kwargs is unsupported by scikit-learn.  We do not guarantee that parameters\n",
      "        passed via this argument will interact properly with scikit-learn.\n",
      "\n",
      "Note\n",
      "----\n",
      "A custom objective function can be provided for the ``objective``\n",
      "parameter. In this case, it should have the signature\n",
      "``objective(y_true, y_pred) -> grad, hess``:\n",
      "\n",
      "y_true: array_like of shape [n_samples]\n",
      "    The target values\n",
      "y_pred: array_like of shape [n_samples]\n",
      "    The predicted values\n",
      "\n",
      "grad: array_like of shape [n_samples]\n",
      "    The value of the gradient for each sample point.\n",
      "hess: array_like of shape [n_samples]\n",
      "    The value of the second derivative for each sample point\n"
     ]
    }
   ],
   "source": [
    "?xgb_model"
   ]
  },
  {
   "cell_type": "code",
   "execution_count": 24,
   "metadata": {},
   "outputs": [],
   "source": [
    "y_pred = xgb_model.predict(X_test)"
   ]
  },
  {
   "cell_type": "code",
   "execution_count": 25,
   "metadata": {},
   "outputs": [
    {
     "data": {
      "text/plain": [
       "0.7489177489177489"
      ]
     },
     "execution_count": 25,
     "metadata": {},
     "output_type": "execute_result"
    }
   ],
   "source": [
    "accuracy_score(y_test, y_pred)"
   ]
  },
  {
   "cell_type": "code",
   "execution_count": 26,
   "metadata": {},
   "outputs": [],
   "source": [
    "# Model Tuning\n",
    "\n",
    "xgb = XGBClassifier()"
   ]
  },
  {
   "cell_type": "code",
   "execution_count": 27,
   "metadata": {},
   "outputs": [],
   "source": [
    "xgb_params = {\"n_estimators\": [100, 500, 1000],\n",
    "             \"subsample\":[0.6,0.8,1],\n",
    "             \"max_depth\":[3,5,7],\n",
    "             \"learning_rate\":[0.1,0.001,0.01]}"
   ]
  },
  {
   "cell_type": "code",
   "execution_count": 28,
   "metadata": {},
   "outputs": [
    {
     "name": "stdout",
     "output_type": "stream",
     "text": [
      "Fitting 5 folds for each of 81 candidates, totalling 405 fits\n"
     ]
    }
   ],
   "source": [
    "xgb_cv_model = GridSearchCV(xgb, xgb_params, cv = 5, \n",
    "                            n_jobs = -1, verbose = 2).fit(X_train, y_train)"
   ]
  },
  {
   "cell_type": "code",
   "execution_count": 29,
   "metadata": {},
   "outputs": [
    {
     "data": {
      "text/plain": [
       "{'learning_rate': 0.01, 'max_depth': 3, 'n_estimators': 500, 'subsample': 1}"
      ]
     },
     "execution_count": 29,
     "metadata": {},
     "output_type": "execute_result"
    }
   ],
   "source": [
    "xgb_cv_model.best_params_"
   ]
  },
  {
   "cell_type": "code",
   "execution_count": 17,
   "metadata": {},
   "outputs": [],
   "source": [
    "xgb_tuned = xgb = XGBClassifier(learning_rate= 0.01, \n",
    "                                max_depth= 3, \n",
    "                                n_estimators= 500, \n",
    "                                subsample= 1).fit(X_train, y_train)"
   ]
  },
  {
   "cell_type": "code",
   "execution_count": 31,
   "metadata": {},
   "outputs": [],
   "source": [
    "y_pred = xgb_tuned.predict(X_test)"
   ]
  },
  {
   "cell_type": "code",
   "execution_count": 32,
   "metadata": {},
   "outputs": [
    {
     "data": {
      "text/plain": [
       "0.7532467532467533"
      ]
     },
     "execution_count": 32,
     "metadata": {},
     "output_type": "execute_result"
    }
   ],
   "source": [
    "accuracy_score(y_test,y_pred)"
   ]
  },
  {
   "cell_type": "code",
   "execution_count": 33,
   "metadata": {},
   "outputs": [
    {
     "data": {
      "image/png": "[encoded data removed]",
      "text/plain": [
       "<Figure size 432x288 with 1 Axes>"
      ]
     },
     "metadata": {},
     "output_type": "display_data"
    }
   ],
   "source": [
    "feature_imp = pd.Series(xgb_tuned.feature_importances_,\n",
    "                        index=X_train.columns).sort_values(ascending=False)\n",
    "\n",
    "sns.barplot(x=feature_imp, y=feature_imp.index)\n",
    "plt.xlabel('Değişken Önem Skorları')\n",
    "plt.ylabel('Değişkenler')\n",
    "plt.title(\"Değişken Önem Düzeyleri\")\n",
    "plt.show()"
   ]
  },
  {
   "cell_type": "markdown",
   "metadata": {},
   "source": [
    "## Light GBM"
   ]
  },
  {
   "cell_type": "code",
   "execution_count": 34,
   "metadata": {},
   "outputs": [
    {
     "name": "stdout",
     "output_type": "stream",
     "text": [
      "Requirement already satisfied: lightgbm in /Users/mustafa/opt/anaconda3/lib/python3.7/site-packages (3.3.2)\n",
      "Requirement already satisfied: wheel in /Users/mustafa/opt/anaconda3/lib/python3.7/site-packages (from lightgbm) (0.36.2)\n",
      "Requirement already satisfied: scipy in /Users/mustafa/opt/anaconda3/lib/python3.7/site-packages (from lightgbm) (1.6.1)\n",
      "Requirement already satisfied: scikit-learn!=0.22.0 in /Users/mustafa/opt/anaconda3/lib/python3.7/site-packages (from lightgbm) (1.0.2)\n",
      "Requirement already satisfied: numpy in /Users/mustafa/opt/anaconda3/lib/python3.7/site-packages (from lightgbm) (1.21.5)\n",
      "Requirement already satisfied: joblib>=0.11 in /Users/mustafa/opt/anaconda3/lib/python3.7/site-packages (from scikit-learn!=0.22.0->lightgbm) (1.0.1)\n",
      "Requirement already satisfied: threadpoolctl>=2.0.0 in /Users/mustafa/opt/anaconda3/lib/python3.7/site-packages (from scikit-learn!=0.22.0->lightgbm) (2.1.0)\n"
     ]
    }
   ],
   "source": [
    "# Model Tahmin\n",
    "!pip install lightgbm"
   ]
  },
  {
   "cell_type": "code",
   "execution_count": 7,
   "metadata": {},
   "outputs": [],
   "source": [
    "from lightgbm import LGBMClassifier"
   ]
  },
  {
   "cell_type": "code",
   "execution_count": 36,
   "metadata": {},
   "outputs": [],
   "source": [
    "lgbm_model = LGBMClassifier().fit(X_train, y_train)"
   ]
  },
  {
   "cell_type": "code",
   "execution_count": 37,
   "metadata": {},
   "outputs": [
    {
     "name": "stdout",
     "output_type": "stream",
     "text": [
      "\u001b[0;31mType:\u001b[0m           LGBMClassifier\n",
      "\u001b[0;31mString form:\u001b[0m    LGBMClassifier()\n",
      "\u001b[0;31mFile:\u001b[0m           ~/opt/anaconda3/lib/python3.7/site-packages/lightgbm/sklearn.py\n",
      "\u001b[0;31mDocstring:\u001b[0m      LightGBM classifier.\n",
      "\u001b[0;31mInit docstring:\u001b[0m\n",
      "Construct a gradient boosting model.\n",
      "\n",
      "Parameters\n",
      "----------\n",
      "boosting_type : string, optional (default='gbdt')\n",
      "    'gbdt', traditional Gradient Boosting Decision Tree.\n",
      "    'dart', Dropouts meet Multiple Additive Regression Trees.\n",
      "    'goss', Gradient-based One-Side Sampling.\n",
      "    'rf', Random Forest.\n",
      "num_leaves : int, optional (default=31)\n",
      "    Maximum tree leaves for base learners.\n",
      "max_depth : int, optional (default=-1)\n",
      "    Maximum tree depth for base learners, <=0 means no limit.\n",
      "learning_rate : float, optional (default=0.1)\n",
      "    Boosting learning rate.\n",
      "    You can use ``callbacks`` parameter of ``fit`` method to shrink/adapt learning rate\n",
      "    in training using ``reset_parameter`` callback.\n",
      "    Note, that this will ignore the ``learning_rate`` argument in training.\n",
      "n_estimators : int, optional (default=100)\n",
      "    Number of boosted trees to fit.\n",
      "subsample_for_bin : int, optional (default=200000)\n",
      "    Number of samples for constructing bins.\n",
      "objective : string, callable or None, optional (default=None)\n",
      "    Specify the learning task and the corresponding learning objective or\n",
      "    a custom objective function to be used (see note below).\n",
      "    Default: 'regression' for LGBMRegressor, 'binary' or 'multiclass' for LGBMClassifier, 'lambdarank' for LGBMRanker.\n",
      "class_weight : dict, 'balanced' or None, optional (default=None)\n",
      "    Weights associated with classes in the form ``{class_label: weight}``.\n",
      "    Use this parameter only for multi-class classification task;\n",
      "    for binary classification task you may use ``is_unbalance`` or ``scale_pos_weight`` parameters.\n",
      "    Note, that the usage of all these parameters will result in poor estimates of the individual class probabilities.\n",
      "    You may want to consider performing probability calibration\n",
      "    (https://scikit-learn.org/stable/modules/calibration.html) of your model.\n",
      "    The 'balanced' mode uses the values of y to automatically adjust weights\n",
      "    inversely proportional to class frequencies in the input data as ``n_samples / (n_classes * np.bincount(y))``.\n",
      "    If None, all classes are supposed to have weight one.\n",
      "    Note, that these weights will be multiplied with ``sample_weight`` (passed through the ``fit`` method)\n",
      "    if ``sample_weight`` is specified.\n",
      "min_split_gain : float, optional (default=0.)\n",
      "    Minimum loss reduction required to make a further partition on a leaf node of the tree.\n",
      "min_child_weight : float, optional (default=1e-3)\n",
      "    Minimum sum of instance weight (hessian) needed in a child (leaf).\n",
      "min_child_samples : int, optional (default=20)\n",
      "    Minimum number of data needed in a child (leaf).\n",
      "subsample : float, optional (default=1.)\n",
      "    Subsample ratio of the training instance.\n",
      "subsample_freq : int, optional (default=0)\n",
      "    Frequence of subsample, <=0 means no enable.\n",
      "colsample_bytree : float, optional (default=1.)\n",
      "    Subsample ratio of columns when constructing each tree.\n",
      "reg_alpha : float, optional (default=0.)\n",
      "    L1 regularization term on weights.\n",
      "reg_lambda : float, optional (default=0.)\n",
      "    L2 regularization term on weights.\n",
      "random_state : int, RandomState object or None, optional (default=None)\n",
      "    Random number seed.\n",
      "    If int, this number is used to seed the C++ code.\n",
      "    If RandomState object (numpy), a random integer is picked based on its state to seed the C++ code.\n",
      "    If None, default seeds in C++ code are used.\n",
      "n_jobs : int, optional (default=-1)\n",
      "    Number of parallel threads.\n",
      "silent : bool, optional (default=True)\n",
      "    Whether to print messages while running boosting.\n",
      "importance_type : string, optional (default='split')\n",
      "    The type of feature importance to be filled into ``feature_importances_``.\n",
      "    If 'split', result contains numbers of times the feature is used in a model.\n",
      "    If 'gain', result contains total gains of splits which use the feature.\n",
      "**kwargs\n",
      "    Other parameters for the model.\n",
      "    Check http://lightgbm.readthedocs.io/en/latest/Parameters.html for more parameters.\n",
      "\n",
      "    .. warning::\n",
      "\n",
      "        \\*\\*kwargs is not supported in sklearn, it may cause unexpected issues.\n",
      "\n",
      "Note\n",
      "----\n",
      "A custom objective function can be provided for the ``objective`` parameter.\n",
      "In this case, it should have the signature\n",
      "``objective(y_true, y_pred) -> grad, hess`` or\n",
      "``objective(y_true, y_pred, group) -> grad, hess``:\n",
      "\n",
      "    y_true : array-like of shape = [n_samples]\n",
      "        The target values.\n",
      "    y_pred : array-like of shape = [n_samples] or shape = [n_samples * n_classes] (for multi-class task)\n",
      "        The predicted values.\n",
      "    group : array-like\n",
      "        Group/query data.\n",
      "        Only used in the learning-to-rank task.\n",
      "        sum(group) = n_samples.\n",
      "        For example, if you have a 100-document dataset with ``group = [10, 20, 40, 10, 10, 10]``, that means that you have 6 groups,\n",
      "        where the first 10 records are in the first group, records 11-30 are in the second group, records 31-70 are in the third group, etc.\n",
      "    grad : array-like of shape = [n_samples] or shape = [n_samples * n_classes] (for multi-class task)\n",
      "        The value of the first order derivative (gradient) for each sample point.\n",
      "    hess : array-like of shape = [n_samples] or shape = [n_samples * n_classes] (for multi-class task)\n",
      "        The value of the second order derivative (Hessian) for each sample point.\n",
      "\n",
      "For binary task, the y_pred is margin.\n",
      "For multi-class task, the y_pred is group by class_id first, then group by row_id.\n",
      "If you want to get i-th row y_pred in j-th class, the access way is y_pred[j * num_data + i]\n",
      "and you should group grad and hess in this way as well.\n"
     ]
    }
   ],
   "source": [
    "?lgbm_model"
   ]
  },
  {
   "cell_type": "code",
   "execution_count": 38,
   "metadata": {},
   "outputs": [],
   "source": [
    "y_pred = lgbm_model.predict(X_test)"
   ]
  },
  {
   "cell_type": "code",
   "execution_count": 39,
   "metadata": {},
   "outputs": [
    {
     "data": {
      "text/plain": [
       "0.7229437229437229"
      ]
     },
     "execution_count": 39,
     "metadata": {},
     "output_type": "execute_result"
    }
   ],
   "source": [
    "accuracy_score(y_test,y_pred)"
   ]
  },
  {
   "cell_type": "code",
   "execution_count": 40,
   "metadata": {},
   "outputs": [],
   "source": [
    "# Model Tuning\n",
    "\n",
    "lgbm = LGBMClassifier()"
   ]
  },
  {
   "cell_type": "code",
   "execution_count": 41,
   "metadata": {},
   "outputs": [],
   "source": [
    "lgbm_params = {\"learning_rate\": [0.001, 0.01, 0.1],\n",
    "              \"n_estimators\": [200, 500, 100],\n",
    "              \"max_depth\":[1,2,35,8]}"
   ]
  },
  {
   "cell_type": "code",
   "execution_count": 42,
   "metadata": {},
   "outputs": [
    {
     "name": "stdout",
     "output_type": "stream",
     "text": [
      "Fitting 5 folds for each of 36 candidates, totalling 180 fits\n"
     ]
    }
   ],
   "source": [
    "lgbm_cv_model = GridSearchCV(lgbm,lgbm_params, cv = 5, n_jobs = -1, verbose = 2).fit(X_train, y_train)"
   ]
  },
  {
   "cell_type": "code",
   "execution_count": 43,
   "metadata": {},
   "outputs": [
    {
     "data": {
      "text/plain": [
       "{'learning_rate': 0.01, 'max_depth': 8, 'n_estimators': 100}"
      ]
     },
     "execution_count": 43,
     "metadata": {},
     "output_type": "execute_result"
    }
   ],
   "source": [
    "lgbm_cv_model.best_params_"
   ]
  },
  {
   "cell_type": "code",
   "execution_count": 18,
   "metadata": {},
   "outputs": [],
   "source": [
    "lgbm_tuned = LGBMClassifier(learning_rate= 0.01, \n",
    "                            max_depth= 8, \n",
    "                            n_estimators= 100).fit(X_train, y_train)"
   ]
  },
  {
   "cell_type": "code",
   "execution_count": 45,
   "metadata": {},
   "outputs": [],
   "source": [
    "y_pred = lgbm_tuned.predict(X_test)"
   ]
  },
  {
   "cell_type": "code",
   "execution_count": 46,
   "metadata": {},
   "outputs": [
    {
     "data": {
      "text/plain": [
       "0.7662337662337663"
      ]
     },
     "execution_count": 46,
     "metadata": {},
     "output_type": "execute_result"
    }
   ],
   "source": [
    "accuracy_score(y_test, y_pred)"
   ]
  },
  {
   "cell_type": "code",
   "execution_count": 47,
   "metadata": {},
   "outputs": [
    {
     "data": {
      "image/png": "[encoded data removed]",
      "text/plain": [
       "<Figure size 432x288 with 1 Axes>"
      ]
     },
     "metadata": {},
     "output_type": "display_data"
    }
   ],
   "source": [
    "feature_imp = pd.Series(lgbm_tuned.feature_importances_,\n",
    "                        index=X_train.columns).sort_values(ascending=False)\n",
    "\n",
    "sns.barplot(x=feature_imp, y=feature_imp.index)\n",
    "plt.xlabel('Değişken Önem Skorları')\n",
    "plt.ylabel('Değişkenler')\n",
    "plt.title(\"Değişken Önem Düzeyleri\")\n",
    "plt.show()"
   ]
  },
  {
   "cell_type": "markdown",
   "metadata": {},
   "source": [
    "## CatBoost"
   ]
  },
  {
   "cell_type": "code",
   "execution_count": 48,
   "metadata": {},
   "outputs": [
    {
     "name": "stdout",
     "output_type": "stream",
     "text": [
      "Requirement already satisfied: catboost in /Users/mustafa/opt/anaconda3/lib/python3.7/site-packages (1.0.4)\n",
      "Requirement already satisfied: graphviz in /Users/mustafa/opt/anaconda3/lib/python3.7/site-packages (from catboost) (0.19.1)\n",
      "Requirement already satisfied: pandas>=0.24.0 in /Users/mustafa/opt/anaconda3/lib/python3.7/site-packages (from catboost) (1.2.1)\n",
      "Requirement already satisfied: scipy in /Users/mustafa/opt/anaconda3/lib/python3.7/site-packages (from catboost) (1.6.1)\n",
      "Requirement already satisfied: six in /Users/mustafa/opt/anaconda3/lib/python3.7/site-packages (from catboost) (1.15.0)\n",
      "Requirement already satisfied: numpy>=1.16.0 in /Users/mustafa/opt/anaconda3/lib/python3.7/site-packages (from catboost) (1.21.5)\n",
      "Requirement already satisfied: matplotlib in /Users/mustafa/opt/anaconda3/lib/python3.7/site-packages (from catboost) (3.3.4)\n",
      "Requirement already satisfied: plotly in /Users/mustafa/opt/anaconda3/lib/python3.7/site-packages (from catboost) (5.5.0)\n",
      "Requirement already satisfied: python-dateutil>=2.7.3 in /Users/mustafa/opt/anaconda3/lib/python3.7/site-packages (from pandas>=0.24.0->catboost) (2.8.1)\n",
      "Requirement already satisfied: pytz>=2017.3 in /Users/mustafa/opt/anaconda3/lib/python3.7/site-packages (from pandas>=0.24.0->catboost) (2020.5)\n",
      "Requirement already satisfied: pillow>=6.2.0 in /Users/mustafa/opt/anaconda3/lib/python3.7/site-packages (from matplotlib->catboost) (8.1.0)\n",
      "Requirement already satisfied: kiwisolver>=1.0.1 in /Users/mustafa/opt/anaconda3/lib/python3.7/site-packages (from matplotlib->catboost) (1.3.1)\n",
      "Requirement already satisfied: cycler>=0.10 in /Users/mustafa/opt/anaconda3/lib/python3.7/site-packages (from matplotlib->catboost) (0.10.0)\n",
      "Requirement already satisfied: pyparsing!=2.0.4,!=2.1.2,!=2.1.6,>=2.0.3 in /Users/mustafa/opt/anaconda3/lib/python3.7/site-packages (from matplotlib->catboost) (2.4.7)\n",
      "Requirement already satisfied: tenacity>=6.2.0 in /Users/mustafa/opt/anaconda3/lib/python3.7/site-packages (from plotly->catboost) (8.0.1)\n"
     ]
    }
   ],
   "source": [
    "# Model & Tahmin\n",
    "\n",
    "!pip install catboost"
   ]
  },
  {
   "cell_type": "code",
   "execution_count": 8,
   "metadata": {},
   "outputs": [],
   "source": [
    "from catboost import CatBoostClassifier"
   ]
  },
  {
   "cell_type": "code",
   "execution_count": 50,
   "metadata": {},
   "outputs": [],
   "source": [
    "catb_model = CatBoostClassifier().fit(X_train, y_train, verbose = False)"
   ]
  },
  {
   "cell_type": "code",
   "execution_count": 51,
   "metadata": {},
   "outputs": [
    {
     "name": "stdout",
     "output_type": "stream",
     "text": [
      "\u001b[0;31mType:\u001b[0m           CatBoostClassifier\n",
      "\u001b[0;31mString form:\u001b[0m    <catboost.core.CatBoostClassifier object at 0x7f8250092c50>\n",
      "\u001b[0;31mFile:\u001b[0m           ~/opt/anaconda3/lib/python3.7/site-packages/catboost/core.py\n",
      "\u001b[0;31mDocstring:\u001b[0m     \n",
      "Implementation of the scikit-learn API for CatBoost classification.\n",
      "\n",
      "Parameters\n",
      "----------\n",
      "iterations : int, [default=500]\n",
      "    Max count of trees.\n",
      "    range: [1,+inf]\n",
      "learning_rate : float, [default value is selected automatically for binary classification with other parameters set to default. In all other cases default is 0.03]\n",
      "    Step size shrinkage used in update to prevents overfitting.\n",
      "    range: (0,1]\n",
      "depth : int, [default=6]\n",
      "    Depth of a tree. All trees are the same depth.\n",
      "    range: [1,+inf]\n",
      "l2_leaf_reg : float, [default=3.0]\n",
      "    Coefficient at the L2 regularization term of the cost function.\n",
      "    range: [0,+inf]\n",
      "model_size_reg : float, [default=None]\n",
      "    Model size regularization coefficient.\n",
      "    range: [0,+inf]\n",
      "rsm : float, [default=None]\n",
      "    Subsample ratio of columns when constructing each tree.\n",
      "    range: (0,1]\n",
      "loss_function : string or object, [default='Logloss']\n",
      "    The metric to use in training and also selector of the machine learning\n",
      "    problem to solve. If string, then the name of a supported metric,\n",
      "    optionally suffixed with parameter description.\n",
      "    If object, it shall provide methods 'calc_ders_range' or 'calc_ders_multi'.\n",
      "border_count : int, [default = 254 for training on CPU or 128 for training on GPU]\n",
      "    The number of partitions in numeric features binarization. Used in the preliminary calculation.\n",
      "    range: [1,65535] on CPU, [1,255] on GPU\n",
      "feature_border_type : string, [default='GreedyLogSum']\n",
      "    The binarization mode in numeric features binarization. Used in the preliminary calculation.\n",
      "    Possible values:\n",
      "        - 'Median'\n",
      "        - 'Uniform'\n",
      "        - 'UniformAndQuantiles'\n",
      "        - 'GreedyLogSum'\n",
      "        - 'MaxLogSum'\n",
      "        - 'MinEntropy'\n",
      "per_float_feature_quantization : list of strings, [default=None]\n",
      "    List of float binarization descriptions.\n",
      "    Format : described in documentation on catboost.ai\n",
      "    Example 1: ['0:1024'] means that feature 0 will have 1024 borders.\n",
      "    Example 2: ['0:border_count=1024', '1:border_count=1024', ...] means that two first features have 1024 borders.\n",
      "    Example 3: ['0:nan_mode=Forbidden,border_count=32,border_type=GreedyLogSum',\n",
      "                '1:nan_mode=Forbidden,border_count=32,border_type=GreedyLogSum'] - defines more quantization properties for first two features.\n",
      "input_borders : string or pathlib.Path, [default=None]\n",
      "    input file with borders used in numeric features binarization.\n",
      "output_borders : string, [default=None]\n",
      "    output file for borders that were used in numeric features binarization.\n",
      "fold_permutation_block : int, [default=1]\n",
      "    To accelerate the learning.\n",
      "    The recommended value is within [1, 256]. On small samples, must be set to 1.\n",
      "    range: [1,+inf]\n",
      "od_pval : float, [default=None]\n",
      "    Use overfitting detector to stop training when reaching a specified threshold.\n",
      "    Can be used only with eval_set.\n",
      "    range: [0,1]\n",
      "od_wait : int, [default=None]\n",
      "    Number of iterations which overfitting detector will wait after new best error.\n",
      "od_type : string, [default=None]\n",
      "    Type of overfitting detector which will be used in program.\n",
      "    Posible values:\n",
      "        - 'IncToDec'\n",
      "        - 'Iter'\n",
      "    For 'Iter' type od_pval must not be set.\n",
      "    If None, then od_type=IncToDec.\n",
      "nan_mode : string, [default=None]\n",
      "    Way to process missing values for numeric features.\n",
      "    Possible values:\n",
      "        - 'Forbidden' - raises an exception if there is a missing value for a numeric feature in a dataset.\n",
      "        - 'Min' - each missing value will be processed as the minimum numerical value.\n",
      "        - 'Max' - each missing value will be processed as the maximum numerical value.\n",
      "    If None, then nan_mode=Min.\n",
      "counter_calc_method : string, [default=None]\n",
      "    The method used to calculate counters for dataset with Counter type.\n",
      "    Possible values:\n",
      "        - 'PrefixTest' - only objects up to current in the test dataset are considered\n",
      "        - 'FullTest' - all objects are considered in the test dataset\n",
      "        - 'SkipTest' - Objects from test dataset are not considered\n",
      "        - 'Full' - all objects are considered for both learn and test dataset\n",
      "    If None, then counter_calc_method=PrefixTest.\n",
      "leaf_estimation_iterations : int, [default=None]\n",
      "    The number of steps in the gradient when calculating the values in the leaves.\n",
      "    If None, then leaf_estimation_iterations=1.\n",
      "    range: [1,+inf]\n",
      "leaf_estimation_method : string, [default=None]\n",
      "    The method used to calculate the values in the leaves.\n",
      "    Possible values:\n",
      "        - 'Newton'\n",
      "        - 'Gradient'\n",
      "thread_count : int, [default=None]\n",
      "    Number of parallel threads used to run CatBoost.\n",
      "    If None or -1, then the number of threads is set to the number of CPU cores.\n",
      "    range: [1,+inf]\n",
      "random_seed : int, [default=None]\n",
      "    Random number seed.\n",
      "    If None, 0 is used.\n",
      "    range: [0,+inf]\n",
      "use_best_model : bool, [default=None]\n",
      "    To limit the number of trees in predict() using information about the optimal value of the error function.\n",
      "    Can be used only with eval_set.\n",
      "best_model_min_trees : int, [default=None]\n",
      "    The minimal number of trees the best model should have.\n",
      "verbose: bool\n",
      "    When set to True, logging_level is set to 'Verbose'.\n",
      "    When set to False, logging_level is set to 'Silent'.\n",
      "silent: bool, synonym for verbose\n",
      "logging_level : string, [default='Verbose']\n",
      "    Possible values:\n",
      "        - 'Silent'\n",
      "        - 'Verbose'\n",
      "        - 'Info'\n",
      "        - 'Debug'\n",
      "metric_period : int, [default=1]\n",
      "    The frequency of iterations to print the information to stdout. The value should be a positive integer.\n",
      "simple_ctr: list of strings, [default=None]\n",
      "    Binarization settings for categorical features.\n",
      "        Format : see documentation\n",
      "        Example: ['Borders:CtrBorderCount=5:Prior=0:Prior=0.5', 'BinarizedTargetMeanValue:TargetBorderCount=10:TargetBorderType=MinEntropy', ...]\n",
      "        CTR types:\n",
      "            CPU and GPU\n",
      "            - 'Borders'\n",
      "            - 'Buckets'\n",
      "            CPU only\n",
      "            - 'BinarizedTargetMeanValue'\n",
      "            - 'Counter'\n",
      "            GPU only\n",
      "            - 'FloatTargetMeanValue'\n",
      "            - 'FeatureFreq'\n",
      "        Number_of_borders, binarization type, target borders and binarizations, priors are optional parametrs\n",
      "combinations_ctr: list of strings, [default=None]\n",
      "per_feature_ctr: list of strings, [default=None]\n",
      "ctr_target_border_count: int, [default=None]\n",
      "    Maximum number of borders used in target binarization for categorical features that need it.\n",
      "    If TargetBorderCount is specified in 'simple_ctr', 'combinations_ctr' or 'per_feature_ctr' option it\n",
      "    overrides this value.\n",
      "    range: [1, 255]\n",
      "ctr_leaf_count_limit : int, [default=None]\n",
      "    The maximum number of leaves with categorical features.\n",
      "    If the number of leaves exceeds the specified limit, some leaves are discarded.\n",
      "    The leaves to be discarded are selected as follows:\n",
      "        - The leaves are sorted by the frequency of the values.\n",
      "        - The top N leaves are selected, where N is the value specified in the parameter.\n",
      "        - All leaves starting from N+1 are discarded.\n",
      "    This option reduces the resulting model size\n",
      "    and the amount of memory required for training.\n",
      "    Note that the resulting quality of the model can be affected.\n",
      "    range: [1,+inf] (for zero limit use ignored_features)\n",
      "store_all_simple_ctr : bool, [default=None]\n",
      "    Ignore categorical features, which are not used in feature combinations,\n",
      "    when choosing candidates for exclusion.\n",
      "    Use this parameter with ctr_leaf_count_limit only.\n",
      "max_ctr_complexity : int, [default=4]\n",
      "    The maximum number of Categ features that can be combined.\n",
      "    range: [0,+inf]\n",
      "has_time : bool, [default=False]\n",
      "    To use the order in which objects are represented in the input data\n",
      "    (do not perform a random permutation of the dataset at the preprocessing stage).\n",
      "allow_const_label : bool, [default=False]\n",
      "    To allow the constant label value in dataset.\n",
      "target_border: float, [default=None]\n",
      "    Border for target binarization.\n",
      "classes_count : int, [default=None]\n",
      "    The upper limit for the numeric class label.\n",
      "    Defines the number of classes for multiclassification.\n",
      "    Only non-negative integers can be specified.\n",
      "    The given integer should be greater than any of the target values.\n",
      "    If this parameter is specified the labels for all classes in the input dataset\n",
      "    should be smaller than the given value.\n",
      "    If several of 'classes_count', 'class_weights', 'class_names' parameters are defined\n",
      "    the numbers of classes specified by each of them must be equal.\n",
      "class_weights : list or dict, [default=None]\n",
      "    Classes weights. The values are used as multipliers for the object weights.\n",
      "    If None, all classes are supposed to have weight one.\n",
      "    If list - class weights in order of class_names or sequential classes if class_names is undefined\n",
      "    If dict - dict of class_name -> class_weight.\n",
      "    If several of 'classes_count', 'class_weights', 'class_names' parameters are defined\n",
      "    the numbers of classes specified by each of them must be equal.\n",
      "auto_class_weights : string [default=None]\n",
      "    Enables automatic class weights calculation. Possible values:\n",
      "        - Balanced  # weight = maxSummaryClassWeight / summaryClassWeight, statistics determined from train pool\n",
      "        - SqrtBalanced  # weight = sqrt(maxSummaryClassWeight / summaryClassWeight)\n",
      "class_names: list of strings, [default=None]\n",
      "    Class names. Allows to redefine the default values for class labels (integer numbers).\n",
      "    If several of 'classes_count', 'class_weights', 'class_names' parameters are defined\n",
      "    the numbers of classes specified by each of them must be equal.\n",
      "one_hot_max_size : int, [default=None]\n",
      "    Convert the feature to float\n",
      "    if the number of different values that it takes exceeds the specified value.\n",
      "    Ctrs are not calculated for such features.\n",
      "random_strength : float, [default=1]\n",
      "    Score standard deviation multiplier.\n",
      "name : string, [default='experiment']\n",
      "    The name that should be displayed in the visualization tools.\n",
      "ignored_features : list, [default=None]\n",
      "    Indices or names of features that should be excluded when training.\n",
      "train_dir : string or pathlib.Path, [default=None]\n",
      "    The directory in which you want to record generated in the process of learning files.\n",
      "custom_metric : string or list of strings, [default=None]\n",
      "    To use your own metric function.\n",
      "custom_loss: alias to custom_metric\n",
      "eval_metric : string or object, [default=None]\n",
      "    To optimize your custom metric in loss.\n",
      "bagging_temperature : float, [default=None]\n",
      "    Controls intensity of Bayesian bagging. The higher the temperature the more aggressive bagging is.\n",
      "    Typical values are in range [0, 1] (0 - no bagging, 1 - default).\n",
      "save_snapshot : bool, [default=None]\n",
      "    Enable progress snapshotting for restoring progress after crashes or interruptions\n",
      "snapshot_file : string or pathlib.Path, [default=None]\n",
      "    Learn progress snapshot file path, if None will use default filename\n",
      "snapshot_interval: int, [default=600]\n",
      "    Interval between saving snapshots (seconds)\n",
      "fold_len_multiplier : float, [default=None]\n",
      "    Fold length multiplier. Should be greater than 1\n",
      "used_ram_limit : string or number, [default=None]\n",
      "    Set a limit on memory consumption (value like '1.2gb' or 1.2e9).\n",
      "    WARNING: Currently this option affects CTR memory usage only.\n",
      "gpu_ram_part : float, [default=0.95]\n",
      "    Fraction of the GPU RAM to use for training, a value from (0, 1].\n",
      "pinned_memory_size: int [default=None]\n",
      "    Size of additional CPU pinned memory used for GPU learning,\n",
      "    usually is estimated automatically, thus usually should not be set.\n",
      "allow_writing_files : bool, [default=True]\n",
      "    If this flag is set to False, no files with different diagnostic info will be created during training.\n",
      "    With this flag no snapshotting can be done. Plus visualisation will not\n",
      "    work, because visualisation uses files that are created and updated during training.\n",
      "final_ctr_computation_mode : string, [default='Default']\n",
      "    Possible values:\n",
      "        - 'Default' - Compute final ctrs for all pools.\n",
      "        - 'Skip' - Skip final ctr computation. WARNING: model without ctrs can't be applied.\n",
      "approx_on_full_history : bool, [default=False]\n",
      "    If this flag is set to True, each approximated value is calculated using all the preceeding rows in the fold (slower, more accurate).\n",
      "    If this flag is set to False, each approximated value is calculated using only the beginning 1/fold_len_multiplier fraction of the fold (faster, slightly less accurate).\n",
      "boosting_type : string, default value depends on object count and feature count in train dataset and on learning mode.\n",
      "    Boosting scheme.\n",
      "    Possible values:\n",
      "        - 'Ordered' - Gives better quality, but may slow down the training.\n",
      "        - 'Plain' - The classic gradient boosting scheme. May result in quality degradation, but does not slow down the training.\n",
      "task_type : string, [default=None]\n",
      "    The calcer type used to train the model.\n",
      "    Possible values:\n",
      "        - 'CPU'\n",
      "        - 'GPU'\n",
      "device_config : string, [default=None], deprecated, use devices instead\n",
      "devices : list or string, [default=None], GPU devices to use.\n",
      "    String format is: '0' for 1 device or '0:1:3' for multiple devices or '0-3' for range of devices.\n",
      "    List format is : [0] for 1 device or [0,1,3] for multiple devices.\n",
      "\n",
      "bootstrap_type : string, Bayesian, Bernoulli, Poisson, MVS.\n",
      "    Default bootstrap is Bayesian for GPU and MVS for CPU.\n",
      "    Poisson bootstrap is supported only on GPU.\n",
      "    MVS bootstrap is supported only on CPU.\n",
      "\n",
      "subsample : float, [default=None]\n",
      "    Sample rate for bagging. This parameter can be used Poisson or Bernoully bootstrap types.\n",
      "\n",
      "mvs_reg : float, [default is set automatically at each iteration based on gradient distribution]\n",
      "    Regularization parameter for MVS sampling algorithm\n",
      "\n",
      "monotone_constraints : list or numpy.ndarray or string or dict, [default=None]\n",
      "    Monotone constraints for features.\n",
      "\n",
      "feature_weights : list or numpy.ndarray or string or dict, [default=None]\n",
      "    Coefficient to multiply split gain with specific feature use. Should be non-negative.\n",
      "\n",
      "penalties_coefficient : float, [default=1]\n",
      "    Common coefficient for all penalties. Should be non-negative.\n",
      "\n",
      "first_feature_use_penalties : list or numpy.ndarray or string or dict, [default=None]\n",
      "    Penalties to first use of specific feature in model. Should be non-negative.\n",
      "\n",
      "per_object_feature_penalties : list or numpy.ndarray or string or dict, [default=None]\n",
      "    Penalties for first use of feature for each object. Should be non-negative.\n",
      "\n",
      "sampling_frequency : string, [default=PerTree]\n",
      "    Frequency to sample weights and objects when building trees.\n",
      "    Possible values:\n",
      "        - 'PerTree' - Before constructing each new tree\n",
      "        - 'PerTreeLevel' - Before choosing each new split of a tree\n",
      "\n",
      "sampling_unit : string, [default='Object'].\n",
      "    Possible values:\n",
      "        - 'Object'\n",
      "        - 'Group'\n",
      "    The parameter allows to specify the sampling scheme:\n",
      "    sample weights for each object individually or for an entire group of objects together.\n",
      "\n",
      "dev_score_calc_obj_block_size: int, [default=5000000]\n",
      "    CPU only. Size of block of samples in score calculation. Should be > 0\n",
      "    Used only for learning speed tuning.\n",
      "    Changing this parameter can affect results due to numerical accuracy differences\n",
      "\n",
      "dev_efb_max_buckets : int, [default=1024]\n",
      "    CPU only. Maximum bucket count in exclusive features bundle. Should be in an integer between 0 and 65536.\n",
      "    Used only for learning speed tuning.\n",
      "\n",
      "sparse_features_conflict_fraction : float, [default=0.0]\n",
      "    CPU only. Maximum allowed fraction of conflicting non-default values for features in exclusive features bundle.\n",
      "    Should be a real value in [0, 1) interval.\n",
      "\n",
      "grow_policy : string, [SymmetricTree,Lossguide,Depthwise], [default=SymmetricTree]\n",
      "    The tree growing policy. It describes how to perform greedy tree construction.\n",
      "\n",
      "min_data_in_leaf : int, [default=1].\n",
      "    The minimum training samples count in leaf.\n",
      "    CatBoost will not search for new splits in leaves with samples count less than min_data_in_leaf.\n",
      "    This parameter is used only for Depthwise and Lossguide growing policies.\n",
      "\n",
      "max_leaves : int, [default=31],\n",
      "    The maximum leaf count in resulting tree.\n",
      "    This parameter is used only for Lossguide growing policy.\n",
      "\n",
      "score_function : string, possible values L2, Cosine, NewtonL2, NewtonCosine, [default=Cosine]\n",
      "    For growing policy Lossguide default=NewtonL2.\n",
      "    GPU only. Score that is used during tree construction to select the next tree split.\n",
      "\n",
      "max_depth : int, Synonym for depth.\n",
      "\n",
      "n_estimators : int, synonym for iterations.\n",
      "\n",
      "num_trees : int, synonym for iterations.\n",
      "\n",
      "num_boost_round : int, synonym for iterations.\n",
      "\n",
      "colsample_bylevel : float, synonym for rsm.\n",
      "\n",
      "random_state : int, synonym for random_seed.\n",
      "\n",
      "reg_lambda : float, synonym for l2_leaf_reg.\n",
      "\n",
      "objective : string, synonym for loss_function.\n",
      "\n",
      "num_leaves : int, synonym for max_leaves.\n",
      "\n",
      "min_child_samples : int, synonym for min_data_in_leaf\n",
      "\n",
      "eta : float, synonym for learning_rate.\n",
      "\n",
      "max_bin : float, synonym for border_count.\n",
      "\n",
      "scale_pos_weight : float, synonym for class_weights.\n",
      "    Can be used only for binary classification. Sets weight multiplier for\n",
      "    class 1 to scale_pos_weight value.\n",
      "\n",
      "metadata : dict, string to string key-value pairs to be stored in model metadata storage\n",
      "\n",
      "early_stopping_rounds : int\n",
      "    Synonym for od_wait. Only one of these parameters should be set.\n",
      "\n",
      "cat_features : list or numpy.ndarray, [default=None]\n",
      "    If not None, giving the list of Categ features indices or names (names are represented as strings).\n",
      "    If it contains feature names, feature names must be defined for the training dataset passed to 'fit'.\n",
      "\n",
      "text_features : list or numpy.ndarray, [default=None]\n",
      "    If not None, giving the list of Text features indices or names (names are represented as strings).\n",
      "    If it contains feature names, feature names must be defined for the training dataset passed to 'fit'.\n",
      "\n",
      "embedding_features : list or numpy.ndarray, [default=None]\n",
      "    If not None, giving the list of Embedding features indices or names (names are represented as strings).\n",
      "    If it contains feature names, feature names must be defined for the training dataset passed to 'fit'.\n",
      "\n",
      "leaf_estimation_backtracking : string, [default=None]\n",
      "    Type of backtracking during gradient descent.\n",
      "    Possible values:\n",
      "        - 'No' - never backtrack; supported on CPU and GPU\n",
      "        - 'AnyImprovement' - reduce the descent step until the value of loss function is less than before the step; supported on CPU and GPU\n",
      "        - 'Armijo' - reduce the descent step until Armijo condition is satisfied; supported on GPU only\n",
      "\n",
      "model_shrink_rate : float, [default=0]\n",
      "    This parameter enables shrinkage of model at the start of each iteration. CPU only.\n",
      "    For Constant mode shrinkage coefficient is calculated as (1 - model_shrink_rate * learning_rate).\n",
      "    For Decreasing mode shrinkage coefficient is calculated as (1 - model_shrink_rate / iteration).\n",
      "    Shrinkage coefficient should be in [0, 1).\n",
      "\n",
      "model_shrink_mode : string, [default=None]\n",
      "    Mode of shrinkage coefficient calculation. CPU only.\n",
      "    Possible values:\n",
      "        - 'Constant' - Shrinkage coefficient is constant at each iteration.\n",
      "        - 'Decreasing' - Shrinkage coefficient decreases at each iteration.\n",
      "\n",
      "langevin : bool, [default=False]\n",
      "    Enables the Stochastic Gradient Langevin Boosting. CPU only.\n",
      "\n",
      "diffusion_temperature : float, [default=0]\n",
      "    Langevin boosting diffusion temperature. CPU only.\n",
      "\n",
      "posterior_sampling : bool, [default=False]\n",
      "    Set group of parameters for further use Uncertainty prediction:\n",
      "        - Langevin = True\n",
      "        - Model Shrink Rate = 1/(2N), where N is dataset size\n",
      "        - Model Shrink Mode = Constant\n",
      "        - Diffusion-temperature = N, where N is dataset size. CPU only.\n",
      "\n",
      "boost_from_average : bool, [default=True for RMSE, False for other losses]\n",
      "    Enables to initialize approx values by best constant value for specified loss function.\n",
      "    Available for RMSE, Logloss, CrossEntropy, Quantile and MAE.\n",
      "\n",
      "tokenizers : list of dicts,\n",
      "    Each dict is a tokenizer description. Example:\n",
      "    ```\n",
      "    [\n",
      "        {\n",
      "            'tokenizer_id': 'Tokenizer',  # Tokeinzer identifier.\n",
      "            'lowercasing': 'false',  # Possible values: 'true', 'false'.\n",
      "            'number_process_policy': 'LeaveAsIs',  # Possible values: 'Skip', 'LeaveAsIs', 'Replace'.\n",
      "            'number_token': '%',  # Rarely used character. Used in conjunction with Replace NumberProcessPolicy.\n",
      "            'separator_type': 'ByDelimiter',  # Possible values: 'ByDelimiter', 'BySense'.\n",
      "            'delimiter': ' ',  # Used in conjunction with ByDelimiter SeparatorType.\n",
      "            'split_by_set': 'false',  # Each single character in delimiter used as individual delimiter.\n",
      "            'skip_empty': 'true',  # Possible values: 'true', 'false'.\n",
      "            'token_types': ['Word', 'Number', 'Unknown'],  # Used in conjunction with BySense SeparatorType.\n",
      "                # Possible values: 'Word', 'Number', 'Punctuation', 'SentenceBreak', 'ParagraphBreak', 'Unknown'.\n",
      "            'subtokens_policy': 'SingleToken',  # Possible values:\n",
      "                # 'SingleToken' - All subtokens are interpreted as single token).\n",
      "                # 'SeveralTokens' - All subtokens are interpreted as several token.\n",
      "        },\n",
      "        ...\n",
      "    ]\n",
      "    ```\n",
      "\n",
      "dictionaries : list of dicts,\n",
      "    Each dict is a tokenizer description. Example:\n",
      "    ```\n",
      "    [\n",
      "        {\n",
      "            'dictionary_id': 'Dictionary',  # Dictionary identifier.\n",
      "            'token_level_type': 'Word',  # Possible values: 'Word', 'Letter'.\n",
      "            'gram_order': '1',  # 1 for Unigram, 2 for Bigram, ...\n",
      "            'skip_step': '0',  # 1 for 1-skip-gram, ...\n",
      "            'end_of_word_token_policy': 'Insert',  # Possible values: 'Insert', 'Skip'.\n",
      "            'end_of_sentence_token_policy': 'Skip',  # Possible values: 'Insert', 'Skip'.\n",
      "            'occurrence_lower_bound': '3',  # The lower bound of token occurrences in the text to include it in the dictionary.\n",
      "            'max_dictionary_size': '50000',  # The max dictionary size.\n",
      "        },\n",
      "        ...\n",
      "    ]\n",
      "    ```\n",
      "\n",
      "feature_calcers : list of strings,\n",
      "    Each string is a calcer description. Example:\n",
      "    ```\n",
      "    [\n",
      "        'NaiveBayes',\n",
      "        'BM25',\n",
      "        'BoW:top_tokens_count=2000',\n",
      "    ]\n",
      "    ```\n",
      "\n",
      "text_processing : dict,\n",
      "    Text processging description.\n",
      "\u001b[0;31mInit docstring:\u001b[0m\n",
      "Initialize the CatBoost.\n",
      "\n",
      "Parameters\n",
      "----------\n",
      "params : dict\n",
      "    Parameters for CatBoost.\n",
      "    If  None, all params are set to their defaults.\n",
      "    If  dict, overriding parameters present in dict.\n"
     ]
    }
   ],
   "source": [
    "?catb_model"
   ]
  },
  {
   "cell_type": "code",
   "execution_count": 52,
   "metadata": {},
   "outputs": [],
   "source": [
    "y_pred = catb_model.predict(X_test)"
   ]
  },
  {
   "cell_type": "code",
   "execution_count": 53,
   "metadata": {},
   "outputs": [
    {
     "data": {
      "text/plain": [
       "0.7402597402597403"
      ]
     },
     "execution_count": 53,
     "metadata": {},
     "output_type": "execute_result"
    }
   ],
   "source": [
    "accuracy_score(y_test, y_pred)"
   ]
  },
  {
   "cell_type": "code",
   "execution_count": 54,
   "metadata": {},
   "outputs": [],
   "source": [
    "# Model Tuning\n",
    "\n",
    "catb = CatBoostClassifier()"
   ]
  },
  {
   "cell_type": "code",
   "execution_count": 55,
   "metadata": {},
   "outputs": [],
   "source": [
    "catb_params = {\"iterations\":[200,500,100],\n",
    "              \"learning_rate\":[0.01, 0.03, 0.1],\n",
    "              \"depth\":[4,5,8]}\n",
    "# iterations = n_estimators"
   ]
  },
  {
   "cell_type": "code",
   "execution_count": 56,
   "metadata": {},
   "outputs": [
    {
     "name": "stdout",
     "output_type": "stream",
     "text": [
      "Fitting 5 folds for each of 27 candidates, totalling 135 fits\n",
      "0:\tlearn: 0.6863312\ttotal: 8.32ms\tremaining: 1.66s\n",
      "1:\tlearn: 0.6811157\ttotal: 14.8ms\tremaining: 1.47s\n",
      "2:\tlearn: 0.6752970\ttotal: 25.4ms\tremaining: 1.67s\n",
      "3:\tlearn: 0.6697432\ttotal: 28.4ms\tremaining: 1.39s\n",
      "4:\tlearn: 0.6641758\ttotal: 35.3ms\tremaining: 1.38s\n",
      "5:\tlearn: 0.6576656\ttotal: 39.1ms\tremaining: 1.26s\n",
      "6:\tlearn: 0.6521870\ttotal: 42.1ms\tremaining: 1.16s\n",
      "7:\tlearn: 0.6465564\ttotal: 45.3ms\tremaining: 1.09s\n",
      "8:\tlearn: 0.6407595\ttotal: 51ms\tremaining: 1.08s\n",
      "9:\tlearn: 0.6357725\ttotal: 54ms\tremaining: 1.02s\n",
      "10:\tlearn: 0.6299942\ttotal: 57ms\tremaining: 980ms\n",
      "11:\tlearn: 0.6240480\ttotal: 60.9ms\tremaining: 954ms\n",
      "12:\tlearn: 0.6196095\ttotal: 65.1ms\tremaining: 936ms\n",
      "13:\tlearn: 0.6148715\ttotal: 67.8ms\tremaining: 900ms\n",
      "14:\tlearn: 0.6092626\ttotal: 70.9ms\tremaining: 874ms\n",
      "15:\tlearn: 0.6046764\ttotal: 74ms\tremaining: 850ms\n",
      "16:\tlearn: 0.6012725\ttotal: 79.8ms\tremaining: 859ms\n",
      "17:\tlearn: 0.5958121\ttotal: 83.5ms\tremaining: 845ms\n",
      "18:\tlearn: 0.5903243\ttotal: 86.3ms\tremaining: 822ms\n",
      "19:\tlearn: 0.5866024\ttotal: 96.4ms\tremaining: 868ms\n",
      "20:\tlearn: 0.5831390\ttotal: 105ms\tremaining: 894ms\n",
      "21:\tlearn: 0.5787381\ttotal: 111ms\tremaining: 896ms\n",
      "22:\tlearn: 0.5749016\ttotal: 114ms\tremaining: 878ms\n",
      "23:\tlearn: 0.5703199\ttotal: 118ms\tremaining: 862ms\n",
      "24:\tlearn: 0.5662368\ttotal: 124ms\tremaining: 871ms\n",
      "25:\tlearn: 0.5628682\ttotal: 128ms\tremaining: 858ms\n",
      "26:\tlearn: 0.5589082\ttotal: 131ms\tremaining: 842ms\n",
      "27:\tlearn: 0.5543910\ttotal: 136ms\tremaining: 833ms\n",
      "28:\tlearn: 0.5503864\ttotal: 142ms\tremaining: 838ms\n",
      "29:\tlearn: 0.5470574\ttotal: 145ms\tremaining: 822ms\n",
      "30:\tlearn: 0.5441267\ttotal: 148ms\tremaining: 808ms\n",
      "31:\tlearn: 0.5396280\ttotal: 153ms\tremaining: 802ms\n",
      "32:\tlearn: 0.5356242\ttotal: 156ms\tremaining: 789ms\n",
      "33:\tlearn: 0.5315397\ttotal: 159ms\tremaining: 775ms\n",
      "34:\tlearn: 0.5279847\ttotal: 162ms\tremaining: 763ms\n",
      "35:\tlearn: 0.5248380\ttotal: 169ms\tremaining: 769ms\n",
      "36:\tlearn: 0.5223885\ttotal: 173ms\tremaining: 761ms\n",
      "37:\tlearn: 0.5198269\ttotal: 176ms\tremaining: 749ms\n",
      "38:\tlearn: 0.5167431\ttotal: 185ms\tremaining: 765ms\n",
      "39:\tlearn: 0.5138833\ttotal: 192ms\tremaining: 769ms\n",
      "40:\tlearn: 0.5101494\ttotal: 203ms\tremaining: 788ms\n",
      "41:\tlearn: 0.5066102\ttotal: 217ms\tremaining: 816ms\n",
      "42:\tlearn: 0.5033714\ttotal: 223ms\tremaining: 814ms\n",
      "43:\tlearn: 0.5005898\ttotal: 237ms\tremaining: 840ms\n",
      "44:\tlearn: 0.4980703\ttotal: 246ms\tremaining: 847ms\n",
      "45:\tlearn: 0.4959251\ttotal: 251ms\tremaining: 840ms\n",
      "46:\tlearn: 0.4933987\ttotal: 256ms\tremaining: 834ms\n",
      "47:\tlearn: 0.4906194\ttotal: 269ms\tremaining: 853ms\n",
      "48:\tlearn: 0.4878359\ttotal: 286ms\tremaining: 880ms\n",
      "49:\tlearn: 0.4850755\ttotal: 299ms\tremaining: 898ms\n",
      "50:\tlearn: 0.4825927\ttotal: 313ms\tremaining: 914ms\n",
      "51:\tlearn: 0.4798298\ttotal: 318ms\tremaining: 904ms\n",
      "52:\tlearn: 0.4776108\ttotal: 348ms\tremaining: 966ms\n",
      "53:\tlearn: 0.4754405\ttotal: 360ms\tremaining: 973ms\n",
      "54:\tlearn: 0.4733501\ttotal: 374ms\tremaining: 986ms\n",
      "55:\tlearn: 0.4706076\ttotal: 380ms\tremaining: 977ms\n",
      "56:\tlearn: 0.4677355\ttotal: 394ms\tremaining: 988ms\n",
      "57:\tlearn: 0.4656740\ttotal: 398ms\tremaining: 974ms\n",
      "58:\tlearn: 0.4637413\ttotal: 412ms\tremaining: 985ms\n",
      "59:\tlearn: 0.4615248\ttotal: 445ms\tremaining: 1.04s\n",
      "60:\tlearn: 0.4599759\ttotal: 477ms\tremaining: 1.09s\n",
      "61:\tlearn: 0.4583985\ttotal: 480ms\tremaining: 1.07s\n",
      "62:\tlearn: 0.4567064\ttotal: 497ms\tremaining: 1.08s\n",
      "63:\tlearn: 0.4540942\ttotal: 499ms\tremaining: 1.06s\n",
      "64:\tlearn: 0.4529822\ttotal: 500ms\tremaining: 1.04s\n",
      "65:\tlearn: 0.4512090\ttotal: 510ms\tremaining: 1.03s\n",
      "66:\tlearn: 0.4486739\ttotal: 513ms\tremaining: 1.02s\n",
      "67:\tlearn: 0.4467865\ttotal: 517ms\tremaining: 1s\n",
      "68:\tlearn: 0.4449614\ttotal: 523ms\tremaining: 992ms\n",
      "69:\tlearn: 0.4426120\ttotal: 525ms\tremaining: 976ms\n",
      "70:\tlearn: 0.4401612\ttotal: 528ms\tremaining: 960ms\n",
      "71:\tlearn: 0.4380696\ttotal: 533ms\tremaining: 948ms\n",
      "72:\tlearn: 0.4367153\ttotal: 538ms\tremaining: 937ms\n",
      "73:\tlearn: 0.4353223\ttotal: 542ms\tremaining: 923ms\n",
      "74:\tlearn: 0.4339943\ttotal: 545ms\tremaining: 908ms\n",
      "75:\tlearn: 0.4315641\ttotal: 552ms\tremaining: 900ms\n",
      "76:\tlearn: 0.4298680\ttotal: 556ms\tremaining: 888ms\n",
      "77:\tlearn: 0.4285275\ttotal: 559ms\tremaining: 875ms\n",
      "78:\tlearn: 0.4265791\ttotal: 571ms\tremaining: 874ms\n",
      "79:\tlearn: 0.4244024\ttotal: 589ms\tremaining: 883ms\n",
      "80:\tlearn: 0.4228361\ttotal: 602ms\tremaining: 885ms\n",
      "81:\tlearn: 0.4214212\ttotal: 612ms\tremaining: 881ms\n",
      "82:\tlearn: 0.4200602\ttotal: 617ms\tremaining: 869ms\n",
      "83:\tlearn: 0.4184320\ttotal: 657ms\tremaining: 908ms\n",
      "84:\tlearn: 0.4167986\ttotal: 663ms\tremaining: 897ms\n",
      "85:\tlearn: 0.4156404\ttotal: 666ms\tremaining: 883ms\n",
      "86:\tlearn: 0.4140656\ttotal: 681ms\tremaining: 884ms\n",
      "87:\tlearn: 0.4124223\ttotal: 686ms\tremaining: 873ms\n",
      "88:\tlearn: 0.4107329\ttotal: 690ms\tremaining: 861ms\n",
      "89:\tlearn: 0.4090922\ttotal: 695ms\tremaining: 850ms\n",
      "90:\tlearn: 0.4075416\ttotal: 703ms\tremaining: 842ms\n",
      "91:\tlearn: 0.4062399\ttotal: 706ms\tremaining: 829ms\n",
      "92:\tlearn: 0.4044658\ttotal: 709ms\tremaining: 816ms\n",
      "93:\tlearn: 0.4030179\ttotal: 712ms\tremaining: 803ms\n",
      "94:\tlearn: 0.4012034\ttotal: 724ms\tremaining: 800ms\n",
      "95:\tlearn: 0.3994677\ttotal: 727ms\tremaining: 787ms\n",
      "96:\tlearn: 0.3983236\ttotal: 737ms\tremaining: 782ms\n",
      "97:\tlearn: 0.3969830\ttotal: 740ms\tremaining: 770ms\n",
      "98:\tlearn: 0.3955620\ttotal: 743ms\tremaining: 758ms\n",
      "99:\tlearn: 0.3946122\ttotal: 752ms\tremaining: 752ms\n",
      "100:\tlearn: 0.3932345\ttotal: 755ms\tremaining: 740ms\n",
      "101:\tlearn: 0.3920746\ttotal: 759ms\tremaining: 729ms\n",
      "102:\tlearn: 0.3911707\ttotal: 768ms\tremaining: 723ms\n",
      "103:\tlearn: 0.3895752\ttotal: 771ms\tremaining: 712ms\n",
      "104:\tlearn: 0.3880976\ttotal: 774ms\tremaining: 701ms\n",
      "105:\tlearn: 0.3867508\ttotal: 777ms\tremaining: 689ms\n",
      "106:\tlearn: 0.3855281\ttotal: 787ms\tremaining: 684ms\n",
      "107:\tlearn: 0.3841015\ttotal: 792ms\tremaining: 675ms\n",
      "108:\tlearn: 0.3829276\ttotal: 821ms\tremaining: 685ms\n",
      "109:\tlearn: 0.3818795\ttotal: 829ms\tremaining: 678ms\n",
      "110:\tlearn: 0.3809667\ttotal: 834ms\tremaining: 669ms\n",
      "111:\tlearn: 0.3790017\ttotal: 865ms\tremaining: 680ms\n",
      "112:\tlearn: 0.3774333\ttotal: 869ms\tremaining: 669ms\n",
      "113:\tlearn: 0.3762372\ttotal: 878ms\tremaining: 662ms\n",
      "114:\tlearn: 0.3750418\ttotal: 883ms\tremaining: 652ms\n",
      "115:\tlearn: 0.3735203\ttotal: 898ms\tremaining: 650ms\n",
      "116:\tlearn: 0.3727671\ttotal: 942ms\tremaining: 668ms\n",
      "117:\tlearn: 0.3713847\ttotal: 949ms\tremaining: 659ms\n",
      "118:\tlearn: 0.3705588\ttotal: 954ms\tremaining: 650ms\n",
      "119:\tlearn: 0.3694386\ttotal: 959ms\tremaining: 639ms\n",
      "120:\tlearn: 0.3687438\ttotal: 963ms\tremaining: 629ms\n",
      "121:\tlearn: 0.3679429\ttotal: 991ms\tremaining: 633ms\n",
      "122:\tlearn: 0.3666192\ttotal: 1.01s\tremaining: 633ms\n",
      "123:\tlearn: 0.3654787\ttotal: 1.03s\tremaining: 631ms\n",
      "124:\tlearn: 0.3643185\ttotal: 1.04s\tremaining: 622ms\n",
      "125:\tlearn: 0.3636195\ttotal: 1.04s\tremaining: 611ms\n",
      "126:\tlearn: 0.3625184\ttotal: 1.04s\tremaining: 600ms\n",
      "127:\tlearn: 0.3609778\ttotal: 1.05s\tremaining: 590ms\n",
      "128:\tlearn: 0.3595979\ttotal: 1.06s\tremaining: 581ms\n",
      "129:\tlearn: 0.3583702\ttotal: 1.06s\tremaining: 571ms\n",
      "130:\tlearn: 0.3569225\ttotal: 1.07s\tremaining: 562ms\n",
      "131:\tlearn: 0.3558535\ttotal: 1.12s\tremaining: 576ms\n",
      "132:\tlearn: 0.3548312\ttotal: 1.14s\tremaining: 572ms\n",
      "133:\tlearn: 0.3533459\ttotal: 1.14s\tremaining: 562ms\n",
      "134:\tlearn: 0.3524239\ttotal: 1.14s\tremaining: 551ms\n",
      "135:\tlearn: 0.3517958\ttotal: 1.16s\tremaining: 544ms\n",
      "136:\tlearn: 0.3504984\ttotal: 1.16s\tremaining: 532ms\n",
      "137:\tlearn: 0.3497339\ttotal: 1.16s\tremaining: 522ms\n",
      "138:\tlearn: 0.3488643\ttotal: 1.17s\tremaining: 512ms\n",
      "139:\tlearn: 0.3482265\ttotal: 1.17s\tremaining: 502ms\n",
      "140:\tlearn: 0.3470774\ttotal: 1.17s\tremaining: 492ms\n",
      "141:\tlearn: 0.3458237\ttotal: 1.18s\tremaining: 482ms\n",
      "142:\tlearn: 0.3445470\ttotal: 1.18s\tremaining: 472ms\n",
      "143:\tlearn: 0.3436377\ttotal: 1.19s\tremaining: 461ms\n",
      "144:\tlearn: 0.3426585\ttotal: 1.19s\tremaining: 451ms\n",
      "145:\tlearn: 0.3417233\ttotal: 1.2s\tremaining: 443ms\n",
      "146:\tlearn: 0.3407541\ttotal: 1.2s\tremaining: 433ms\n",
      "147:\tlearn: 0.3397798\ttotal: 1.21s\tremaining: 423ms\n",
      "148:\tlearn: 0.3390128\ttotal: 1.22s\tremaining: 417ms\n",
      "149:\tlearn: 0.3381272\ttotal: 1.23s\tremaining: 409ms\n",
      "150:\tlearn: 0.3374740\ttotal: 1.23s\tremaining: 400ms\n",
      "151:\tlearn: 0.3365500\ttotal: 1.24s\tremaining: 392ms\n",
      "152:\tlearn: 0.3358489\ttotal: 1.25s\tremaining: 383ms\n",
      "153:\tlearn: 0.3346096\ttotal: 1.25s\tremaining: 374ms\n",
      "154:\tlearn: 0.3335622\ttotal: 1.26s\tremaining: 366ms\n",
      "155:\tlearn: 0.3330435\ttotal: 1.27s\tremaining: 357ms\n",
      "156:\tlearn: 0.3323843\ttotal: 1.29s\tremaining: 352ms\n",
      "157:\tlearn: 0.3312172\ttotal: 1.3s\tremaining: 346ms\n",
      "158:\tlearn: 0.3299437\ttotal: 1.31s\tremaining: 339ms\n",
      "159:\tlearn: 0.3286515\ttotal: 1.32s\tremaining: 331ms\n",
      "160:\tlearn: 0.3275885\ttotal: 1.33s\tremaining: 322ms\n",
      "161:\tlearn: 0.3266739\ttotal: 1.33s\tremaining: 312ms\n",
      "162:\tlearn: 0.3258986\ttotal: 1.33s\tremaining: 303ms\n",
      "163:\tlearn: 0.3249133\ttotal: 1.34s\tremaining: 294ms\n",
      "164:\tlearn: 0.3241480\ttotal: 1.34s\tremaining: 285ms\n",
      "165:\tlearn: 0.3237404\ttotal: 1.35s\tremaining: 276ms\n",
      "166:\tlearn: 0.3228217\ttotal: 1.35s\tremaining: 267ms\n",
      "167:\tlearn: 0.3218088\ttotal: 1.36s\tremaining: 258ms\n",
      "168:\tlearn: 0.3209179\ttotal: 1.36s\tremaining: 250ms\n",
      "169:\tlearn: 0.3200101\ttotal: 1.37s\tremaining: 242ms\n",
      "170:\tlearn: 0.3188984\ttotal: 1.38s\tremaining: 234ms\n",
      "171:\tlearn: 0.3178642\ttotal: 1.38s\tremaining: 225ms\n",
      "172:\tlearn: 0.3172455\ttotal: 1.39s\tremaining: 216ms\n",
      "173:\tlearn: 0.3166261\ttotal: 1.39s\tremaining: 207ms\n",
      "174:\tlearn: 0.3157320\ttotal: 1.39s\tremaining: 199ms\n",
      "175:\tlearn: 0.3149761\ttotal: 1.4s\tremaining: 191ms\n",
      "176:\tlearn: 0.3142430\ttotal: 1.4s\tremaining: 182ms\n",
      "177:\tlearn: 0.3138263\ttotal: 1.41s\tremaining: 174ms\n",
      "178:\tlearn: 0.3133229\ttotal: 1.41s\tremaining: 166ms\n",
      "179:\tlearn: 0.3124656\ttotal: 1.45s\tremaining: 161ms\n",
      "180:\tlearn: 0.3114844\ttotal: 1.45s\tremaining: 153ms\n",
      "181:\tlearn: 0.3109799\ttotal: 1.46s\tremaining: 144ms\n",
      "182:\tlearn: 0.3105137\ttotal: 1.47s\tremaining: 136ms\n",
      "183:\tlearn: 0.3094123\ttotal: 1.47s\tremaining: 128ms\n",
      "184:\tlearn: 0.3087045\ttotal: 1.48s\tremaining: 120ms\n",
      "185:\tlearn: 0.3079423\ttotal: 1.48s\tremaining: 112ms\n",
      "186:\tlearn: 0.3071831\ttotal: 1.49s\tremaining: 103ms\n",
      "187:\tlearn: 0.3061123\ttotal: 1.49s\tremaining: 95.3ms\n",
      "188:\tlearn: 0.3054302\ttotal: 1.5s\tremaining: 87.1ms\n",
      "189:\tlearn: 0.3048047\ttotal: 1.5s\tremaining: 78.9ms\n",
      "190:\tlearn: 0.3042241\ttotal: 1.5s\tremaining: 70.8ms\n",
      "191:\tlearn: 0.3036602\ttotal: 1.51s\tremaining: 63ms\n",
      "192:\tlearn: 0.3028507\ttotal: 1.52s\tremaining: 55.1ms\n",
      "193:\tlearn: 0.3019733\ttotal: 1.52s\tremaining: 47.1ms\n",
      "194:\tlearn: 0.3009586\ttotal: 1.52s\tremaining: 39.1ms\n",
      "195:\tlearn: 0.3001835\ttotal: 1.53s\tremaining: 31.3ms\n",
      "196:\tlearn: 0.2999266\ttotal: 1.53s\tremaining: 23.4ms\n",
      "197:\tlearn: 0.2993811\ttotal: 1.54s\tremaining: 15.5ms\n",
      "198:\tlearn: 0.2986293\ttotal: 1.54s\tremaining: 7.73ms\n",
      "199:\tlearn: 0.2980044\ttotal: 1.55s\tremaining: 0us\n"
     ]
    }
   ],
   "source": [
    "catb_cv_model = GridSearchCV(catb, catb_params, \n",
    "                             cv = 5, n_jobs = -1, verbose = 2).fit(X_train, y_train)"
   ]
  },
  {
   "cell_type": "code",
   "execution_count": 57,
   "metadata": {},
   "outputs": [
    {
     "data": {
      "text/plain": [
       "{'depth': 8, 'iterations': 200, 'learning_rate': 0.01}"
      ]
     },
     "execution_count": 57,
     "metadata": {},
     "output_type": "execute_result"
    }
   ],
   "source": [
    "catb_cv_model.best_params_"
   ]
  },
  {
   "cell_type": "code",
   "execution_count": 19,
   "metadata": {},
   "outputs": [
    {
     "name": "stdout",
     "output_type": "stream",
     "text": [
      "0:\tlearn: 0.6863312\ttotal: 59.4ms\tremaining: 11.8s\n",
      "1:\tlearn: 0.6811157\ttotal: 86.3ms\tremaining: 8.54s\n",
      "2:\tlearn: 0.6752970\ttotal: 92.1ms\tremaining: 6.04s\n",
      "3:\tlearn: 0.6697432\ttotal: 104ms\tremaining: 5.11s\n",
      "4:\tlearn: 0.6641758\ttotal: 109ms\tremaining: 4.27s\n",
      "5:\tlearn: 0.6576656\ttotal: 116ms\tremaining: 3.76s\n",
      "6:\tlearn: 0.6521870\ttotal: 121ms\tremaining: 3.34s\n",
      "7:\tlearn: 0.6465564\ttotal: 126ms\tremaining: 3.03s\n",
      "8:\tlearn: 0.6407595\ttotal: 133ms\tremaining: 2.83s\n",
      "9:\tlearn: 0.6357725\ttotal: 139ms\tremaining: 2.64s\n",
      "10:\tlearn: 0.6299942\ttotal: 146ms\tremaining: 2.5s\n",
      "11:\tlearn: 0.6240480\ttotal: 152ms\tremaining: 2.38s\n",
      "12:\tlearn: 0.6196095\ttotal: 159ms\tremaining: 2.29s\n",
      "13:\tlearn: 0.6148715\ttotal: 165ms\tremaining: 2.19s\n",
      "14:\tlearn: 0.6092626\ttotal: 171ms\tremaining: 2.11s\n",
      "15:\tlearn: 0.6046764\ttotal: 177ms\tremaining: 2.03s\n",
      "16:\tlearn: 0.6012725\ttotal: 181ms\tremaining: 1.95s\n",
      "17:\tlearn: 0.5958121\ttotal: 289ms\tremaining: 2.92s\n",
      "18:\tlearn: 0.5903243\ttotal: 296ms\tremaining: 2.82s\n",
      "19:\tlearn: 0.5866024\ttotal: 312ms\tremaining: 2.8s\n",
      "20:\tlearn: 0.5831390\ttotal: 324ms\tremaining: 2.76s\n",
      "21:\tlearn: 0.5787381\ttotal: 329ms\tremaining: 2.66s\n",
      "22:\tlearn: 0.5749016\ttotal: 336ms\tremaining: 2.58s\n",
      "23:\tlearn: 0.5703199\ttotal: 341ms\tremaining: 2.5s\n",
      "24:\tlearn: 0.5662368\ttotal: 346ms\tremaining: 2.42s\n",
      "25:\tlearn: 0.5628682\ttotal: 351ms\tremaining: 2.35s\n",
      "26:\tlearn: 0.5589082\ttotal: 357ms\tremaining: 2.29s\n",
      "27:\tlearn: 0.5543910\ttotal: 364ms\tremaining: 2.24s\n",
      "28:\tlearn: 0.5503864\ttotal: 368ms\tremaining: 2.17s\n",
      "29:\tlearn: 0.5470574\ttotal: 385ms\tremaining: 2.18s\n",
      "30:\tlearn: 0.5441267\ttotal: 389ms\tremaining: 2.12s\n",
      "31:\tlearn: 0.5396280\ttotal: 398ms\tremaining: 2.09s\n",
      "32:\tlearn: 0.5356242\ttotal: 403ms\tremaining: 2.04s\n",
      "33:\tlearn: 0.5315397\ttotal: 411ms\tremaining: 2.01s\n",
      "34:\tlearn: 0.5279847\ttotal: 416ms\tremaining: 1.96s\n",
      "35:\tlearn: 0.5248380\ttotal: 429ms\tremaining: 1.95s\n",
      "36:\tlearn: 0.5223885\ttotal: 433ms\tremaining: 1.91s\n",
      "37:\tlearn: 0.5198269\ttotal: 442ms\tremaining: 1.89s\n",
      "38:\tlearn: 0.5167431\ttotal: 446ms\tremaining: 1.84s\n",
      "39:\tlearn: 0.5138833\ttotal: 458ms\tremaining: 1.83s\n",
      "40:\tlearn: 0.5101494\ttotal: 465ms\tremaining: 1.8s\n",
      "41:\tlearn: 0.5066102\ttotal: 471ms\tremaining: 1.77s\n",
      "42:\tlearn: 0.5033714\ttotal: 475ms\tremaining: 1.74s\n",
      "43:\tlearn: 0.5005898\ttotal: 486ms\tremaining: 1.72s\n",
      "44:\tlearn: 0.4980703\ttotal: 493ms\tremaining: 1.7s\n",
      "45:\tlearn: 0.4959251\ttotal: 504ms\tremaining: 1.69s\n",
      "46:\tlearn: 0.4933987\ttotal: 512ms\tremaining: 1.67s\n",
      "47:\tlearn: 0.4906194\ttotal: 517ms\tremaining: 1.64s\n",
      "48:\tlearn: 0.4878359\ttotal: 526ms\tremaining: 1.62s\n",
      "49:\tlearn: 0.4850755\ttotal: 531ms\tremaining: 1.59s\n",
      "50:\tlearn: 0.4825927\ttotal: 536ms\tremaining: 1.56s\n",
      "51:\tlearn: 0.4798298\ttotal: 543ms\tremaining: 1.54s\n",
      "52:\tlearn: 0.4776108\ttotal: 547ms\tremaining: 1.52s\n",
      "53:\tlearn: 0.4754405\ttotal: 555ms\tremaining: 1.5s\n",
      "54:\tlearn: 0.4733501\ttotal: 559ms\tremaining: 1.47s\n",
      "55:\tlearn: 0.4706076\ttotal: 563ms\tremaining: 1.45s\n",
      "56:\tlearn: 0.4677355\ttotal: 569ms\tremaining: 1.43s\n",
      "57:\tlearn: 0.4656740\ttotal: 577ms\tremaining: 1.41s\n",
      "58:\tlearn: 0.4637413\ttotal: 587ms\tremaining: 1.4s\n",
      "59:\tlearn: 0.4615248\ttotal: 595ms\tremaining: 1.39s\n",
      "60:\tlearn: 0.4599759\ttotal: 602ms\tremaining: 1.37s\n",
      "61:\tlearn: 0.4583985\ttotal: 604ms\tremaining: 1.34s\n",
      "62:\tlearn: 0.4567064\ttotal: 611ms\tremaining: 1.33s\n",
      "63:\tlearn: 0.4540942\ttotal: 620ms\tremaining: 1.32s\n",
      "64:\tlearn: 0.4529822\ttotal: 625ms\tremaining: 1.3s\n",
      "65:\tlearn: 0.4512090\ttotal: 654ms\tremaining: 1.33s\n",
      "66:\tlearn: 0.4486739\ttotal: 661ms\tremaining: 1.31s\n",
      "67:\tlearn: 0.4467865\ttotal: 670ms\tremaining: 1.3s\n",
      "68:\tlearn: 0.4449614\ttotal: 676ms\tremaining: 1.28s\n",
      "69:\tlearn: 0.4426120\ttotal: 685ms\tremaining: 1.27s\n",
      "70:\tlearn: 0.4401612\ttotal: 696ms\tremaining: 1.26s\n",
      "71:\tlearn: 0.4380696\ttotal: 705ms\tremaining: 1.25s\n",
      "72:\tlearn: 0.4367153\ttotal: 767ms\tremaining: 1.33s\n",
      "73:\tlearn: 0.4353223\ttotal: 776ms\tremaining: 1.32s\n",
      "74:\tlearn: 0.4339943\ttotal: 791ms\tremaining: 1.32s\n",
      "75:\tlearn: 0.4315641\ttotal: 819ms\tremaining: 1.34s\n",
      "76:\tlearn: 0.4298680\ttotal: 848ms\tremaining: 1.35s\n",
      "77:\tlearn: 0.4285275\ttotal: 852ms\tremaining: 1.33s\n",
      "78:\tlearn: 0.4265791\ttotal: 874ms\tremaining: 1.34s\n",
      "79:\tlearn: 0.4244024\ttotal: 884ms\tremaining: 1.33s\n",
      "80:\tlearn: 0.4228361\ttotal: 893ms\tremaining: 1.31s\n",
      "81:\tlearn: 0.4214212\ttotal: 898ms\tremaining: 1.29s\n",
      "82:\tlearn: 0.4200602\ttotal: 909ms\tremaining: 1.28s\n",
      "83:\tlearn: 0.4184320\ttotal: 916ms\tremaining: 1.26s\n",
      "84:\tlearn: 0.4167986\ttotal: 925ms\tremaining: 1.25s\n",
      "85:\tlearn: 0.4156404\ttotal: 931ms\tremaining: 1.23s\n",
      "86:\tlearn: 0.4140656\ttotal: 940ms\tremaining: 1.22s\n",
      "87:\tlearn: 0.4124223\ttotal: 946ms\tremaining: 1.2s\n",
      "88:\tlearn: 0.4107329\ttotal: 953ms\tremaining: 1.19s\n",
      "89:\tlearn: 0.4090922\ttotal: 963ms\tremaining: 1.18s\n",
      "90:\tlearn: 0.4075416\ttotal: 970ms\tremaining: 1.16s\n",
      "91:\tlearn: 0.4062399\ttotal: 980ms\tremaining: 1.15s\n",
      "92:\tlearn: 0.4044658\ttotal: 986ms\tremaining: 1.13s\n",
      "93:\tlearn: 0.4030179\ttotal: 996ms\tremaining: 1.12s\n",
      "94:\tlearn: 0.4012034\ttotal: 1s\tremaining: 1.11s\n",
      "95:\tlearn: 0.3994677\ttotal: 1s\tremaining: 1.09s\n",
      "96:\tlearn: 0.3983236\ttotal: 1.01s\tremaining: 1.07s\n",
      "97:\tlearn: 0.3969830\ttotal: 1.02s\tremaining: 1.06s\n",
      "98:\tlearn: 0.3955620\ttotal: 1.02s\tremaining: 1.04s\n",
      "99:\tlearn: 0.3946122\ttotal: 1.03s\tremaining: 1.03s\n",
      "100:\tlearn: 0.3932345\ttotal: 1.03s\tremaining: 1.01s\n",
      "101:\tlearn: 0.3920746\ttotal: 1.04s\tremaining: 996ms\n",
      "102:\tlearn: 0.3911707\ttotal: 1.04s\tremaining: 981ms\n",
      "103:\tlearn: 0.3895752\ttotal: 1.04s\tremaining: 965ms\n",
      "104:\tlearn: 0.3880976\ttotal: 1.05s\tremaining: 951ms\n",
      "105:\tlearn: 0.3867508\ttotal: 1.07s\tremaining: 952ms\n",
      "106:\tlearn: 0.3855281\ttotal: 1.08s\tremaining: 938ms\n",
      "107:\tlearn: 0.3841015\ttotal: 1.09s\tremaining: 926ms\n",
      "108:\tlearn: 0.3829276\ttotal: 1.09s\tremaining: 910ms\n",
      "109:\tlearn: 0.3818795\ttotal: 1.09s\tremaining: 894ms\n",
      "110:\tlearn: 0.3809667\ttotal: 1.1s\tremaining: 881ms\n",
      "111:\tlearn: 0.3790017\ttotal: 1.1s\tremaining: 866ms\n",
      "112:\tlearn: 0.3774333\ttotal: 1.1s\tremaining: 851ms\n",
      "113:\tlearn: 0.3762372\ttotal: 1.11s\tremaining: 838ms\n",
      "114:\tlearn: 0.3750418\ttotal: 1.11s\tremaining: 824ms\n",
      "115:\tlearn: 0.3735203\ttotal: 1.12s\tremaining: 809ms\n",
      "116:\tlearn: 0.3727671\ttotal: 1.12s\tremaining: 795ms\n",
      "117:\tlearn: 0.3713847\ttotal: 1.12s\tremaining: 781ms\n",
      "118:\tlearn: 0.3705588\ttotal: 1.13s\tremaining: 768ms\n",
      "119:\tlearn: 0.3694386\ttotal: 1.13s\tremaining: 754ms\n",
      "120:\tlearn: 0.3687438\ttotal: 1.13s\tremaining: 740ms\n",
      "121:\tlearn: 0.3679429\ttotal: 1.14s\tremaining: 727ms\n",
      "122:\tlearn: 0.3666192\ttotal: 1.14s\tremaining: 713ms\n",
      "123:\tlearn: 0.3654787\ttotal: 1.14s\tremaining: 701ms\n",
      "124:\tlearn: 0.3643185\ttotal: 1.15s\tremaining: 688ms\n",
      "125:\tlearn: 0.3636195\ttotal: 1.15s\tremaining: 675ms\n",
      "126:\tlearn: 0.3625184\ttotal: 1.15s\tremaining: 662ms\n",
      "127:\tlearn: 0.3609778\ttotal: 1.15s\tremaining: 650ms\n",
      "128:\tlearn: 0.3595979\ttotal: 1.16s\tremaining: 639ms\n",
      "129:\tlearn: 0.3583702\ttotal: 1.16s\tremaining: 627ms\n",
      "130:\tlearn: 0.3569225\ttotal: 1.17s\tremaining: 616ms\n",
      "131:\tlearn: 0.3558535\ttotal: 1.17s\tremaining: 604ms\n",
      "132:\tlearn: 0.3548312\ttotal: 1.17s\tremaining: 592ms\n",
      "133:\tlearn: 0.3533459\ttotal: 1.18s\tremaining: 580ms\n",
      "134:\tlearn: 0.3524239\ttotal: 1.18s\tremaining: 568ms\n",
      "135:\tlearn: 0.3517958\ttotal: 1.18s\tremaining: 557ms\n",
      "136:\tlearn: 0.3504984\ttotal: 1.19s\tremaining: 546ms\n",
      "137:\tlearn: 0.3497339\ttotal: 1.19s\tremaining: 534ms\n",
      "138:\tlearn: 0.3488643\ttotal: 1.19s\tremaining: 523ms\n",
      "139:\tlearn: 0.3482265\ttotal: 1.19s\tremaining: 512ms\n",
      "140:\tlearn: 0.3470774\ttotal: 1.2s\tremaining: 501ms\n",
      "141:\tlearn: 0.3458237\ttotal: 1.2s\tremaining: 492ms\n",
      "142:\tlearn: 0.3445470\ttotal: 1.21s\tremaining: 481ms\n",
      "143:\tlearn: 0.3436377\ttotal: 1.21s\tremaining: 470ms\n",
      "144:\tlearn: 0.3426585\ttotal: 1.21s\tremaining: 460ms\n",
      "145:\tlearn: 0.3417233\ttotal: 1.22s\tremaining: 451ms\n",
      "146:\tlearn: 0.3407541\ttotal: 1.22s\tremaining: 441ms\n",
      "147:\tlearn: 0.3397798\ttotal: 1.23s\tremaining: 430ms\n",
      "148:\tlearn: 0.3390128\ttotal: 1.23s\tremaining: 421ms\n",
      "149:\tlearn: 0.3381272\ttotal: 1.25s\tremaining: 417ms\n",
      "150:\tlearn: 0.3374740\ttotal: 1.26s\tremaining: 408ms\n",
      "151:\tlearn: 0.3365500\ttotal: 1.27s\tremaining: 400ms\n",
      "152:\tlearn: 0.3358489\ttotal: 1.27s\tremaining: 390ms\n",
      "153:\tlearn: 0.3346096\ttotal: 1.27s\tremaining: 380ms\n",
      "154:\tlearn: 0.3335622\ttotal: 1.27s\tremaining: 370ms\n",
      "155:\tlearn: 0.3330435\ttotal: 1.28s\tremaining: 361ms\n",
      "156:\tlearn: 0.3323843\ttotal: 1.28s\tremaining: 351ms\n",
      "157:\tlearn: 0.3312172\ttotal: 1.28s\tremaining: 341ms\n",
      "158:\tlearn: 0.3299437\ttotal: 1.29s\tremaining: 332ms\n",
      "159:\tlearn: 0.3286515\ttotal: 1.29s\tremaining: 323ms\n",
      "160:\tlearn: 0.3275885\ttotal: 1.29s\tremaining: 313ms\n",
      "161:\tlearn: 0.3266739\ttotal: 1.3s\tremaining: 304ms\n",
      "162:\tlearn: 0.3258986\ttotal: 1.3s\tremaining: 295ms\n",
      "163:\tlearn: 0.3249133\ttotal: 1.3s\tremaining: 286ms\n",
      "164:\tlearn: 0.3241480\ttotal: 1.31s\tremaining: 278ms\n",
      "165:\tlearn: 0.3237404\ttotal: 1.31s\tremaining: 269ms\n",
      "166:\tlearn: 0.3228217\ttotal: 1.31s\tremaining: 260ms\n",
      "167:\tlearn: 0.3218088\ttotal: 1.32s\tremaining: 251ms\n",
      "168:\tlearn: 0.3209179\ttotal: 1.32s\tremaining: 243ms\n",
      "169:\tlearn: 0.3200101\ttotal: 1.32s\tremaining: 234ms\n",
      "170:\tlearn: 0.3188984\ttotal: 1.33s\tremaining: 225ms\n",
      "171:\tlearn: 0.3178642\ttotal: 1.33s\tremaining: 217ms\n",
      "172:\tlearn: 0.3172455\ttotal: 1.33s\tremaining: 208ms\n",
      "173:\tlearn: 0.3166261\ttotal: 1.34s\tremaining: 200ms\n",
      "174:\tlearn: 0.3157320\ttotal: 1.34s\tremaining: 192ms\n",
      "175:\tlearn: 0.3149761\ttotal: 1.34s\tremaining: 183ms\n",
      "176:\tlearn: 0.3142430\ttotal: 1.35s\tremaining: 175ms\n",
      "177:\tlearn: 0.3138263\ttotal: 1.35s\tremaining: 167ms\n",
      "178:\tlearn: 0.3133229\ttotal: 1.36s\tremaining: 159ms\n",
      "179:\tlearn: 0.3124656\ttotal: 1.36s\tremaining: 151ms\n",
      "180:\tlearn: 0.3114844\ttotal: 1.36s\tremaining: 143ms\n",
      "181:\tlearn: 0.3109799\ttotal: 1.37s\tremaining: 135ms\n",
      "182:\tlearn: 0.3105137\ttotal: 1.37s\tremaining: 128ms\n",
      "183:\tlearn: 0.3094123\ttotal: 1.38s\tremaining: 120ms\n",
      "184:\tlearn: 0.3087045\ttotal: 1.38s\tremaining: 112ms\n",
      "185:\tlearn: 0.3079423\ttotal: 1.38s\tremaining: 104ms\n",
      "186:\tlearn: 0.3071831\ttotal: 1.39s\tremaining: 96.4ms\n",
      "187:\tlearn: 0.3061123\ttotal: 1.39s\tremaining: 88.7ms\n",
      "188:\tlearn: 0.3054302\ttotal: 1.39s\tremaining: 81ms\n",
      "189:\tlearn: 0.3048047\ttotal: 1.39s\tremaining: 73.4ms\n",
      "190:\tlearn: 0.3042241\ttotal: 1.4s\tremaining: 66.1ms\n",
      "191:\tlearn: 0.3036602\ttotal: 1.41s\tremaining: 58.5ms\n",
      "192:\tlearn: 0.3028507\ttotal: 1.41s\tremaining: 51.1ms\n",
      "193:\tlearn: 0.3019733\ttotal: 1.41s\tremaining: 43.7ms\n",
      "194:\tlearn: 0.3009586\ttotal: 1.42s\tremaining: 36.4ms\n",
      "195:\tlearn: 0.3001835\ttotal: 1.43s\tremaining: 29.1ms\n",
      "196:\tlearn: 0.2999266\ttotal: 1.44s\tremaining: 21.9ms\n",
      "197:\tlearn: 0.2993811\ttotal: 1.44s\tremaining: 14.5ms\n",
      "198:\tlearn: 0.2986293\ttotal: 1.45s\tremaining: 7.3ms\n",
      "199:\tlearn: 0.2980044\ttotal: 1.46s\tremaining: 0us\n"
     ]
    }
   ],
   "source": [
    "catb_tuned = CatBoostClassifier(depth= 8, \n",
    "                                iterations= 200, \n",
    "                                learning_rate= 0.01).fit(X_train, y_train)"
   ]
  },
  {
   "cell_type": "code",
   "execution_count": 59,
   "metadata": {},
   "outputs": [],
   "source": [
    "y_pred = catb_tuned.predict(X_test)"
   ]
  },
  {
   "cell_type": "code",
   "execution_count": 60,
   "metadata": {},
   "outputs": [
    {
     "data": {
      "text/plain": [
       "0.7532467532467533"
      ]
     },
     "execution_count": 60,
     "metadata": {},
     "output_type": "execute_result"
    }
   ],
   "source": [
    "accuracy_score(y_test, y_pred)"
   ]
  },
  {
   "cell_type": "code",
   "execution_count": 61,
   "metadata": {},
   "outputs": [
    {
     "data": {
      "image/png": "[encoded data removed]",
      "text/plain": [
       "<Figure size 432x288 with 1 Axes>"
      ]
     },
     "metadata": {},
     "output_type": "display_data"
    }
   ],
   "source": [
    "feature_imp = pd.Series(catb_tuned.feature_importances_,\n",
    "                        index=X_train.columns).sort_values(ascending=False)\n",
    "\n",
    "sns.barplot(x=feature_imp, y=feature_imp.index)\n",
    "plt.xlabel('Değişken Önem Skorları')\n",
    "plt.ylabel('Değişkenler')\n",
    "plt.title(\"Değişken Önem Düzeyleri\")\n",
    "plt.show()"
   ]
  },
  {
   "cell_type": "markdown",
   "metadata": {},
   "source": [
    "## Tüm Modellerin Karşılaştırılması"
   ]
  },
  {
   "cell_type": "code",
   "execution_count": 20,
   "metadata": {},
   "outputs": [],
   "source": [
    "modeller = [\n",
    "    knn_tuned,\n",
    "    loj_model,\n",
    "    svm_tuned,\n",
    "    mlpc_tuned,\n",
    "    cart_tuned,\n",
    "    rf_tuned,\n",
    "    gbm_tuned,\n",
    "    catb_tuned,\n",
    "    lgbm_tuned,\n",
    "    xgb_tuned]\n",
    "\n",
    "# Yukarıdakiler string değil, bunlar model nesnesi. Tırnak yok.\n",
    "\n",
    "sonuc = []\n",
    "sonuclar = pd.DataFrame(columns= [\"Modeller\",\"Accuracy\"])\n",
    "\n",
    "for model in modeller:\n",
    "    isimler = model.__class__.__name__\n",
    "    y_pred = model.predict(X_test)\n",
    "    dogruluk = accuracy_score(y_test, y_pred)\n",
    "    sonuc = pd.DataFrame([[isimler, dogruluk*100]], columns= [\"Modeller\",\"Accuracy\"])\n",
    "    sonuclar = sonuclar.append(sonuc)"
   ]
  },
  {
   "cell_type": "code",
   "execution_count": 21,
   "metadata": {},
   "outputs": [
    {
     "data": {
      "image/png": "[encoded data removed]",
      "text/plain": [
       "<Figure size 432x288 with 1 Axes>"
      ]
     },
     "metadata": {},
     "output_type": "display_data"
    }
   ],
   "source": [
    "sns.barplot(x= 'Accuracy', y = 'Modeller', data=sonuclar, color=\"r\")\n",
    "plt.xlabel('Accuracy %')\n",
    "plt.title('Modellerin Doğruluk Oranları');"
   ]
  },
  {
   "cell_type": "code",
   "execution_count": 22,
   "metadata": {},
   "outputs": [
    {
     "data": {
      "text/html": [
       "<div>\n",
       "<style scoped>\n",
       "    .dataframe tbody tr th:only-of-type {\n",
       "        vertical-align: middle;\n",
       "    }\n",
       "\n",
       "    .dataframe tbody tr th {\n",
       "        vertical-align: top;\n",
       "    }\n",
       "\n",
       "    .dataframe thead th {\n",
       "        text-align: right;\n",
       "    }\n",
       "</style>\n",
       "<table border=\"1\" class=\"dataframe\">\n",
       "  <thead>\n",
       "    <tr style=\"text-align: right;\">\n",
       "      <th></th>\n",
       "      <th>Modeller</th>\n",
       "      <th>Accuracy</th>\n",
       "    </tr>\n",
       "  </thead>\n",
       "  <tbody>\n",
       "    <tr>\n",
       "      <th>0</th>\n",
       "      <td>KNeighborsClassifier</td>\n",
       "      <td>73.160173</td>\n",
       "    </tr>\n",
       "    <tr>\n",
       "      <th>0</th>\n",
       "      <td>LogisticRegression</td>\n",
       "      <td>75.324675</td>\n",
       "    </tr>\n",
       "    <tr>\n",
       "      <th>0</th>\n",
       "      <td>SVC</td>\n",
       "      <td>74.458874</td>\n",
       "    </tr>\n",
       "    <tr>\n",
       "      <th>0</th>\n",
       "      <td>MLPClassifier</td>\n",
       "      <td>68.831169</td>\n",
       "    </tr>\n",
       "    <tr>\n",
       "      <th>0</th>\n",
       "      <td>DecisionTreeClassifier</td>\n",
       "      <td>75.324675</td>\n",
       "    </tr>\n",
       "    <tr>\n",
       "      <th>0</th>\n",
       "      <td>RandomForestClassifier</td>\n",
       "      <td>74.458874</td>\n",
       "    </tr>\n",
       "    <tr>\n",
       "      <th>0</th>\n",
       "      <td>GradientBoostingClassifier</td>\n",
       "      <td>72.727273</td>\n",
       "    </tr>\n",
       "    <tr>\n",
       "      <th>0</th>\n",
       "      <td>CatBoostClassifier</td>\n",
       "      <td>75.324675</td>\n",
       "    </tr>\n",
       "    <tr>\n",
       "      <th>0</th>\n",
       "      <td>LGBMClassifier</td>\n",
       "      <td>76.623377</td>\n",
       "    </tr>\n",
       "    <tr>\n",
       "      <th>0</th>\n",
       "      <td>XGBClassifier</td>\n",
       "      <td>75.324675</td>\n",
       "    </tr>\n",
       "  </tbody>\n",
       "</table>\n",
       "</div>"
      ],
      "text/plain": [
       "                     Modeller   Accuracy\n",
       "0        KNeighborsClassifier  73.160173\n",
       "0          LogisticRegression  75.324675\n",
       "0                         SVC  74.458874\n",
       "0               MLPClassifier  68.831169\n",
       "0      DecisionTreeClassifier  75.324675\n",
       "0      RandomForestClassifier  74.458874\n",
       "0  GradientBoostingClassifier  72.727273\n",
       "0          CatBoostClassifier  75.324675\n",
       "0              LGBMClassifier  76.623377\n",
       "0               XGBClassifier  75.324675"
      ]
     },
     "execution_count": 22,
     "metadata": {},
     "output_type": "execute_result"
    }
   ],
   "source": [
    "sonuclar"
   ]
  },
  {
   "cell_type": "code",
   "execution_count": null,
   "metadata": {},
   "outputs": [],
   "source": []
  }
 ],
 "metadata": {
  "interpreter": {
   "hash": "7f39f9a0d38d38d6f9641ca8828b99dc0109e98b9d21bfe365ce59470654ee7b"
  },
  "kernelspec": {
   "display_name": "Python 3.7.4 ('base')",
   "language": "python",
   "name": "python3"
  },
  "language_info": {
   "codemirror_mode": {
    "name": "ipython",
    "version": 3
   },
   "file_extension": ".py",
   "mimetype": "text/x-python",
   "name": "python",
   "nbconvert_exporter": "python",
   "pygments_lexer": "ipython3",
   "version": "3.7.4"
  },
  "orig_nbformat": 4
 },
 "nbformat": 4,
 "nbformat_minor": 2
}
