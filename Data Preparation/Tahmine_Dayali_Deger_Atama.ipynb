{
 "cells": [
  {
   "cell_type": "markdown",
   "id": "expected-bahamas",
   "metadata": {},
   "source": [
    "# Tahmine Dayalı Değer Atama Yöntemleri"
   ]
  },
  {
   "cell_type": "code",
   "execution_count": 1,
   "id": "threaded-stadium",
   "metadata": {},
   "outputs": [
    {
     "name": "stdout",
     "output_type": "stream",
     "text": [
      "   survived  pclass   age  sibsp  parch     fare\n",
      "0         0       3  22.0      1      0   7.2500\n",
      "1         1       1  38.0      1      0  71.2833\n",
      "2         1       3  26.0      0      0   7.9250\n",
      "3         1       1  35.0      1      0  53.1000\n",
      "4         0       3  35.0      0      0   8.0500\n"
     ]
    },
    {
     "data": {
      "text/plain": [
       "survived      0\n",
       "pclass        0\n",
       "age         177\n",
       "sibsp         0\n",
       "parch         0\n",
       "fare          0\n",
       "dtype: int64"
      ]
     },
     "execution_count": 1,
     "metadata": {},
     "output_type": "execute_result"
    }
   ],
   "source": [
    "import seaborn as sns\n",
    "import missingno as msno\n",
    "df = sns.load_dataset('titanic')\n",
    "df = df.select_dtypes(include = ['float64', 'int64'])\n",
    "print(df.head())\n",
    "df.isnull().sum()"
   ]
  },
  {
   "cell_type": "code",
   "execution_count": 2,
   "id": "african-combination",
   "metadata": {},
   "outputs": [],
   "source": [
    "#makine öğrenmesi algoritmalarıyla, eksik değerleri doldurabilir. Yani: elimizdeki eksik değere sahip olan değişken, \n",
    "# diğer değişkenlerce modellenip buna göre değerleri dolduruluyor."
   ]
  },
  {
   "cell_type": "code",
   "execution_count": 3,
   "id": "recreational-beach",
   "metadata": {},
   "outputs": [
    {
     "name": "stdout",
     "output_type": "stream",
     "text": [
      "Collecting ycimpute\n",
      "  Downloading ycimpute-0.2-py3-none-any.whl (35 kB)\n",
      "Requirement already satisfied: six in /Users/mustafa/opt/anaconda3/lib/python3.7/site-packages (from ycimpute) (1.15.0)\n",
      "Requirement already satisfied: numpy>=1.10 in /Users/mustafa/opt/anaconda3/lib/python3.7/site-packages (from ycimpute) (1.19.2)\n",
      "Requirement already satisfied: scipy in /Users/mustafa/opt/anaconda3/lib/python3.7/site-packages (from ycimpute) (1.6.1)\n",
      "Requirement already satisfied: scikit-learn>=0.17.1 in /Users/mustafa/opt/anaconda3/lib/python3.7/site-packages (from ycimpute) (0.24.1)\n",
      "Requirement already satisfied: joblib>=0.11 in /Users/mustafa/opt/anaconda3/lib/python3.7/site-packages (from scikit-learn>=0.17.1->ycimpute) (1.0.1)\n",
      "Requirement already satisfied: threadpoolctl>=2.0.0 in /Users/mustafa/opt/anaconda3/lib/python3.7/site-packages (from scikit-learn>=0.17.1->ycimpute) (2.1.0)\n",
      "Collecting torch>=1.1.0\n",
      "  Downloading torch-1.8.0-cp37-none-macosx_10_9_x86_64.whl (119.5 MB)\n",
      "\u001b[K     |████████████████████████████████| 119.5 MB 2.8 MB/s eta 0:00:01    |████████████▉                   | 47.7 MB 2.7 MB/s eta 0:00:28     |█████████████████████▏          | 79.1 MB 2.2 MB/s eta 0:00:19     |████████████████████████▏       | 90.3 MB 2.5 MB/s eta 0:00:12     |█████████████████████████▏      | 94.0 MB 3.3 MB/s eta 0:00:08     |██████████████████████████▏     | 97.8 MB 3.6 MB/s eta 0:00:06     |██████████████████████████▍     | 98.5 MB 3.6 MB/s eta 0:00:06     |██████████████████████████████  | 112.2 MB 6.7 MB/s eta 0:00:02\n",
      "\u001b[?25hCollecting typing-extensions\n",
      "  Downloading typing_extensions-3.7.4.3-py3-none-any.whl (22 kB)\n",
      "Installing collected packages: typing-extensions, torch, ycimpute\n",
      "Successfully installed torch-1.8.0 typing-extensions-3.7.4.3 ycimpute-0.2\n"
     ]
    }
   ],
   "source": [
    "!pip install ycimpute"
   ]
  },
  {
   "cell_type": "code",
   "execution_count": 4,
   "id": "formed-currency",
   "metadata": {},
   "outputs": [],
   "source": [
    "from ycimpute.imputer import knnimput #k en yakın komşuluk algoritması"
   ]
  },
  {
   "cell_type": "code",
   "execution_count": 5,
   "id": "previous-burst",
   "metadata": {},
   "outputs": [],
   "source": [
    "var_names = list(df) #değişkenlerin isimlerini tutmamız gerekiyor. Zira, bu atama işlemini yapabilmek adına knnimput bizden bir \n",
    "# numpy arrayi bekliyor. Dolayısıyla, öncelikle datafram in isimlerini bir yerde saklayıp, daha sonra verisetini numpy arrayine çevirip,\n",
    "# atama ilemlerinden sonra tekrar isimlendirme işlemlerini gerçekleştiricez."
   ]
  },
  {
   "cell_type": "code",
   "execution_count": 6,
   "id": "certified-timber",
   "metadata": {},
   "outputs": [],
   "source": [
    "import numpy as np\n",
    "n_df = np.array(df) #bir numpy arrayi oluşturuyoruz. bunu da verisetimiz üzerinden oluşturuyoruz."
   ]
  },
  {
   "cell_type": "code",
   "execution_count": 7,
   "id": "western-phoenix",
   "metadata": {},
   "outputs": [
    {
     "data": {
      "text/plain": [
       "array([[ 0.    ,  3.    , 22.    ,  1.    ,  0.    ,  7.25  ],\n",
       "       [ 1.    ,  1.    , 38.    ,  1.    ,  0.    , 71.2833],\n",
       "       [ 1.    ,  3.    , 26.    ,  0.    ,  0.    ,  7.925 ],\n",
       "       [ 1.    ,  1.    , 35.    ,  1.    ,  0.    , 53.1   ],\n",
       "       [ 0.    ,  3.    , 35.    ,  0.    ,  0.    ,  8.05  ],\n",
       "       [ 0.    ,  3.    ,     nan,  0.    ,  0.    ,  8.4583],\n",
       "       [ 0.    ,  1.    , 54.    ,  0.    ,  0.    , 51.8625],\n",
       "       [ 0.    ,  3.    ,  2.    ,  3.    ,  1.    , 21.075 ],\n",
       "       [ 1.    ,  3.    , 27.    ,  0.    ,  2.    , 11.1333],\n",
       "       [ 1.    ,  2.    , 14.    ,  1.    ,  0.    , 30.0708]])"
      ]
     },
     "execution_count": 7,
     "metadata": {},
     "output_type": "execute_result"
    }
   ],
   "source": [
    "n_df[0:10]"
   ]
  },
  {
   "cell_type": "code",
   "execution_count": 8,
   "id": "miniature-wesley",
   "metadata": {},
   "outputs": [
    {
     "name": "stdout",
     "output_type": "stream",
     "text": [
      "Imputing row 1/891 with 0 missing, elapsed time: 0.207\n",
      "Imputing row 101/891 with 0 missing, elapsed time: 0.209\n",
      "Imputing row 201/891 with 0 missing, elapsed time: 0.210\n",
      "Imputing row 301/891 with 1 missing, elapsed time: 0.213\n",
      "Imputing row 401/891 with 0 missing, elapsed time: 0.215\n",
      "Imputing row 501/891 with 0 missing, elapsed time: 0.217\n",
      "Imputing row 601/891 with 0 missing, elapsed time: 0.218\n",
      "Imputing row 701/891 with 0 missing, elapsed time: 0.220\n",
      "Imputing row 801/891 with 0 missing, elapsed time: 0.221\n"
     ]
    }
   ],
   "source": [
    "dff = knnimput.KNN(k = 4).complete(n_df) #dff isimli yeni bir nesne oluşturuyoruz. k burada komşuluk sayısı. ileride görücez.\n",
    "# complete yani doldur. neyi doldurmak istersin? n_df i doldur diyoruz."
   ]
  },
  {
   "cell_type": "code",
   "execution_count": 9,
   "id": "suited-makeup",
   "metadata": {},
   "outputs": [
    {
     "data": {
      "text/plain": [
       "numpy.ndarray"
      ]
     },
     "execution_count": 9,
     "metadata": {},
     "output_type": "execute_result"
    }
   ],
   "source": [
    "type(dff) # ama bu bir numpy arrayi bunu bir pandas dataframe ine çevirmeliyiz."
   ]
  },
  {
   "cell_type": "code",
   "execution_count": 11,
   "id": "another-cyprus",
   "metadata": {},
   "outputs": [],
   "source": [
    "import pandas as pd\n",
    "dff = pd.DataFrame(dff, columns = var_names)"
   ]
  },
  {
   "cell_type": "code",
   "execution_count": 12,
   "id": "fifty-residence",
   "metadata": {},
   "outputs": [
    {
     "data": {
      "text/html": [
       "<div>\n",
       "<style scoped>\n",
       "    .dataframe tbody tr th:only-of-type {\n",
       "        vertical-align: middle;\n",
       "    }\n",
       "\n",
       "    .dataframe tbody tr th {\n",
       "        vertical-align: top;\n",
       "    }\n",
       "\n",
       "    .dataframe thead th {\n",
       "        text-align: right;\n",
       "    }\n",
       "</style>\n",
       "<table border=\"1\" class=\"dataframe\">\n",
       "  <thead>\n",
       "    <tr style=\"text-align: right;\">\n",
       "      <th></th>\n",
       "      <th>survived</th>\n",
       "      <th>pclass</th>\n",
       "      <th>age</th>\n",
       "      <th>sibsp</th>\n",
       "      <th>parch</th>\n",
       "      <th>fare</th>\n",
       "    </tr>\n",
       "  </thead>\n",
       "  <tbody>\n",
       "    <tr>\n",
       "      <th>0</th>\n",
       "      <td>0.0</td>\n",
       "      <td>3.0</td>\n",
       "      <td>22.000000</td>\n",
       "      <td>1.0</td>\n",
       "      <td>0.0</td>\n",
       "      <td>7.2500</td>\n",
       "    </tr>\n",
       "    <tr>\n",
       "      <th>1</th>\n",
       "      <td>1.0</td>\n",
       "      <td>1.0</td>\n",
       "      <td>38.000000</td>\n",
       "      <td>1.0</td>\n",
       "      <td>0.0</td>\n",
       "      <td>71.2833</td>\n",
       "    </tr>\n",
       "    <tr>\n",
       "      <th>2</th>\n",
       "      <td>1.0</td>\n",
       "      <td>3.0</td>\n",
       "      <td>26.000000</td>\n",
       "      <td>0.0</td>\n",
       "      <td>0.0</td>\n",
       "      <td>7.9250</td>\n",
       "    </tr>\n",
       "    <tr>\n",
       "      <th>3</th>\n",
       "      <td>1.0</td>\n",
       "      <td>1.0</td>\n",
       "      <td>35.000000</td>\n",
       "      <td>1.0</td>\n",
       "      <td>0.0</td>\n",
       "      <td>53.1000</td>\n",
       "    </tr>\n",
       "    <tr>\n",
       "      <th>4</th>\n",
       "      <td>0.0</td>\n",
       "      <td>3.0</td>\n",
       "      <td>35.000000</td>\n",
       "      <td>0.0</td>\n",
       "      <td>0.0</td>\n",
       "      <td>8.0500</td>\n",
       "    </tr>\n",
       "    <tr>\n",
       "      <th>...</th>\n",
       "      <td>...</td>\n",
       "      <td>...</td>\n",
       "      <td>...</td>\n",
       "      <td>...</td>\n",
       "      <td>...</td>\n",
       "      <td>...</td>\n",
       "    </tr>\n",
       "    <tr>\n",
       "      <th>886</th>\n",
       "      <td>0.0</td>\n",
       "      <td>2.0</td>\n",
       "      <td>27.000000</td>\n",
       "      <td>0.0</td>\n",
       "      <td>0.0</td>\n",
       "      <td>13.0000</td>\n",
       "    </tr>\n",
       "    <tr>\n",
       "      <th>887</th>\n",
       "      <td>1.0</td>\n",
       "      <td>1.0</td>\n",
       "      <td>19.000000</td>\n",
       "      <td>0.0</td>\n",
       "      <td>0.0</td>\n",
       "      <td>30.0000</td>\n",
       "    </tr>\n",
       "    <tr>\n",
       "      <th>888</th>\n",
       "      <td>0.0</td>\n",
       "      <td>3.0</td>\n",
       "      <td>26.026414</td>\n",
       "      <td>1.0</td>\n",
       "      <td>2.0</td>\n",
       "      <td>23.4500</td>\n",
       "    </tr>\n",
       "    <tr>\n",
       "      <th>889</th>\n",
       "      <td>1.0</td>\n",
       "      <td>1.0</td>\n",
       "      <td>26.000000</td>\n",
       "      <td>0.0</td>\n",
       "      <td>0.0</td>\n",
       "      <td>30.0000</td>\n",
       "    </tr>\n",
       "    <tr>\n",
       "      <th>890</th>\n",
       "      <td>0.0</td>\n",
       "      <td>3.0</td>\n",
       "      <td>32.000000</td>\n",
       "      <td>0.0</td>\n",
       "      <td>0.0</td>\n",
       "      <td>7.7500</td>\n",
       "    </tr>\n",
       "  </tbody>\n",
       "</table>\n",
       "<p>891 rows × 6 columns</p>\n",
       "</div>"
      ],
      "text/plain": [
       "     survived  pclass        age  sibsp  parch     fare\n",
       "0         0.0     3.0  22.000000    1.0    0.0   7.2500\n",
       "1         1.0     1.0  38.000000    1.0    0.0  71.2833\n",
       "2         1.0     3.0  26.000000    0.0    0.0   7.9250\n",
       "3         1.0     1.0  35.000000    1.0    0.0  53.1000\n",
       "4         0.0     3.0  35.000000    0.0    0.0   8.0500\n",
       "..        ...     ...        ...    ...    ...      ...\n",
       "886       0.0     2.0  27.000000    0.0    0.0  13.0000\n",
       "887       1.0     1.0  19.000000    0.0    0.0  30.0000\n",
       "888       0.0     3.0  26.026414    1.0    2.0  23.4500\n",
       "889       1.0     1.0  26.000000    0.0    0.0  30.0000\n",
       "890       0.0     3.0  32.000000    0.0    0.0   7.7500\n",
       "\n",
       "[891 rows x 6 columns]"
      ]
     },
     "execution_count": 12,
     "metadata": {},
     "output_type": "execute_result"
    }
   ],
   "source": [
    "dff"
   ]
  },
  {
   "cell_type": "code",
   "execution_count": 13,
   "id": "verified-dining",
   "metadata": {},
   "outputs": [
    {
     "data": {
      "text/plain": [
       "pandas.core.frame.DataFrame"
      ]
     },
     "execution_count": 13,
     "metadata": {},
     "output_type": "execute_result"
    }
   ],
   "source": [
    "type(dff)"
   ]
  },
  {
   "cell_type": "code",
   "execution_count": 14,
   "id": "resident-testament",
   "metadata": {},
   "outputs": [
    {
     "data": {
      "text/plain": [
       "survived    0\n",
       "pclass      0\n",
       "age         0\n",
       "sibsp       0\n",
       "parch       0\n",
       "fare        0\n",
       "dtype: int64"
      ]
     },
     "execution_count": 14,
     "metadata": {},
     "output_type": "execute_result"
    }
   ],
   "source": [
    "dff.isnull().sum() # artık eksik değerlerin hepsi sıfır."
   ]
  },
  {
   "cell_type": "code",
   "execution_count": 15,
   "id": "loaded-palestine",
   "metadata": {},
   "outputs": [],
   "source": [
    "#Random Forest Algoritması"
   ]
  },
  {
   "cell_type": "code",
   "execution_count": 16,
   "id": "hollow-thanksgiving",
   "metadata": {},
   "outputs": [],
   "source": [
    "import seaborn as sns\n",
    "import missingno as msno\n",
    "df = sns.load_dataset('titanic')\n",
    "df = df.select_dtypes(include = ['float64', 'int64'])"
   ]
  },
  {
   "cell_type": "code",
   "execution_count": 17,
   "id": "toxic-operation",
   "metadata": {},
   "outputs": [
    {
     "data": {
      "text/plain": [
       "survived      0\n",
       "pclass        0\n",
       "age         177\n",
       "sibsp         0\n",
       "parch         0\n",
       "fare          0\n",
       "dtype: int64"
      ]
     },
     "execution_count": 17,
     "metadata": {},
     "output_type": "execute_result"
    }
   ],
   "source": [
    "df.isnull().sum()"
   ]
  },
  {
   "cell_type": "code",
   "execution_count": 18,
   "id": "potential-bradley",
   "metadata": {},
   "outputs": [],
   "source": [
    "var_names = list(df) # isimleri yine bir yerde saklıyoruz."
   ]
  },
  {
   "cell_type": "code",
   "execution_count": 19,
   "id": "intended-blame",
   "metadata": {},
   "outputs": [],
   "source": [
    "import numpy as np\n",
    "n_df = np.array(df) # yine bir numpy arrayine dönüştürme işlemi gerçekleştiriyoruz."
   ]
  },
  {
   "cell_type": "code",
   "execution_count": 20,
   "id": "southern-shareware",
   "metadata": {},
   "outputs": [
    {
     "ename": "AttributeError",
     "evalue": "module 'ycimpute.imputer.iterforest' has no attribute 'IterImput'",
     "output_type": "error",
     "traceback": [
      "\u001b[0;31m---------------------------------------------------------------------------\u001b[0m",
      "\u001b[0;31mAttributeError\u001b[0m                            Traceback (most recent call last)",
      "\u001b[0;32m<ipython-input-20-5fb87b5777a6>\u001b[0m in \u001b[0;36m<module>\u001b[0;34m\u001b[0m\n\u001b[1;32m      1\u001b[0m \u001b[0;32mfrom\u001b[0m \u001b[0mycimpute\u001b[0m\u001b[0;34m.\u001b[0m\u001b[0mimputer\u001b[0m \u001b[0;32mimport\u001b[0m \u001b[0miterforest\u001b[0m\u001b[0;34m\u001b[0m\u001b[0;34m\u001b[0m\u001b[0m\n\u001b[0;32m----> 2\u001b[0;31m \u001b[0mdff\u001b[0m \u001b[0;34m=\u001b[0m \u001b[0miterforest\u001b[0m\u001b[0;34m.\u001b[0m\u001b[0mIterImput\u001b[0m\u001b[0;34m(\u001b[0m\u001b[0;34m)\u001b[0m\u001b[0;34m.\u001b[0m\u001b[0mcomplete\u001b[0m\u001b[0;34m(\u001b[0m\u001b[0mn_df\u001b[0m\u001b[0;34m)\u001b[0m \u001b[0;31m#doldurma işlemini bu sefer random forestla gerçekleştiriyoruz.\u001b[0m\u001b[0;34m\u001b[0m\u001b[0;34m\u001b[0m\u001b[0m\n\u001b[0m",
      "\u001b[0;31mAttributeError\u001b[0m: module 'ycimpute.imputer.iterforest' has no attribute 'IterImput'"
     ]
    }
   ],
   "source": [
    "from ycimpute.imputer import iterforest\n",
    "dff = iterforest.IterImput().complete(n_df) #doldurma işlemini bu sefer random forestla gerçekleştiriyoruz."
   ]
  },
  {
   "cell_type": "code",
   "execution_count": 21,
   "id": "maritime-concert",
   "metadata": {},
   "outputs": [],
   "source": [
    "import pandas as pd\n",
    "dff = pd.DataFrame(dff, columns = var_names)"
   ]
  },
  {
   "cell_type": "code",
   "execution_count": 23,
   "id": "dominant-vulnerability",
   "metadata": {},
   "outputs": [
    {
     "data": {
      "text/plain": [
       "survived    0\n",
       "pclass      0\n",
       "age         0\n",
       "sibsp       0\n",
       "parch       0\n",
       "fare        0\n",
       "dtype: int64"
      ]
     },
     "execution_count": 23,
     "metadata": {},
     "output_type": "execute_result"
    }
   ],
   "source": [
    "dff.isnull().sum() #eksik değer kalmadı."
   ]
  },
  {
   "cell_type": "code",
   "execution_count": 24,
   "id": "adjusted-novel",
   "metadata": {},
   "outputs": [],
   "source": [
    "# EM Algoristması"
   ]
  },
  {
   "cell_type": "code",
   "execution_count": 25,
   "id": "mounted-telescope",
   "metadata": {},
   "outputs": [],
   "source": [
    "import seaborn as sns\n",
    "import missingno as msno\n",
    "df = sns.load_dataset('titanic')\n",
    "df = df.select_dtypes(include = ['float64', 'int64'])"
   ]
  },
  {
   "cell_type": "code",
   "execution_count": 26,
   "id": "personal-scotland",
   "metadata": {},
   "outputs": [],
   "source": [
    "from ycimpute.imputer import EM"
   ]
  },
  {
   "cell_type": "code",
   "execution_count": 27,
   "id": "interpreted-barrier",
   "metadata": {},
   "outputs": [],
   "source": [
    "var_names = list(df)\n",
    "import numpy as np\n",
    "n_df = np.array(df)"
   ]
  },
  {
   "cell_type": "code",
   "execution_count": 28,
   "id": "beneficial-horizontal",
   "metadata": {},
   "outputs": [],
   "source": [
    "dff = EM().complete(n_df) #complete. neyi doldurucaz? df arrayini"
   ]
  },
  {
   "cell_type": "code",
   "execution_count": 29,
   "id": "threatened-draft",
   "metadata": {},
   "outputs": [],
   "source": [
    "dff = pd.DataFrame(dff, columns = var_names) #dataframe e çevirdik"
   ]
  },
  {
   "cell_type": "code",
   "execution_count": 30,
   "id": "modern-reducing",
   "metadata": {},
   "outputs": [
    {
     "data": {
      "text/plain": [
       "survived    0\n",
       "pclass      0\n",
       "age         0\n",
       "sibsp       0\n",
       "parch       0\n",
       "fare        0\n",
       "dtype: int64"
      ]
     },
     "execution_count": 30,
     "metadata": {},
     "output_type": "execute_result"
    }
   ],
   "source": [
    "dff.isnull().sum() #eksiklik kalmadı."
   ]
  },
  {
   "cell_type": "code",
   "execution_count": null,
   "id": "wrong-thanks",
   "metadata": {},
   "outputs": [],
   "source": []
  }
 ],
 "metadata": {
  "kernelspec": {
   "display_name": "Python 3",
   "language": "python",
   "name": "python3"
  },
  "language_info": {
   "codemirror_mode": {
    "name": "ipython",
    "version": 3
   },
   "file_extension": ".py",
   "mimetype": "text/x-python",
   "name": "python",
   "nbconvert_exporter": "python",
   "pygments_lexer": "ipython3",
   "version": "3.7.4"
  }
 },
 "nbformat": 4,
 "nbformat_minor": 5
}
