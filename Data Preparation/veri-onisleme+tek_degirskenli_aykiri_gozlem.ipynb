{
 "cells": [
  {
   "cell_type": "markdown",
   "id": "emotional-shape",
   "metadata": {},
   "source": [
    "# Aykırı Gözlem Analizi"
   ]
  },
  {
   "cell_type": "markdown",
   "id": "equipped-substance",
   "metadata": {},
   "source": [
    "## Aykırı Değerleri Yakalamak"
   ]
  },
  {
   "cell_type": "code",
   "execution_count": 24,
   "id": "acoustic-vietnamese",
   "metadata": {},
   "outputs": [
    {
     "data": {
      "text/html": [
       "<div>\n",
       "<style scoped>\n",
       "    .dataframe tbody tr th:only-of-type {\n",
       "        vertical-align: middle;\n",
       "    }\n",
       "\n",
       "    .dataframe tbody tr th {\n",
       "        vertical-align: top;\n",
       "    }\n",
       "\n",
       "    .dataframe thead th {\n",
       "        text-align: right;\n",
       "    }\n",
       "</style>\n",
       "<table border=\"1\" class=\"dataframe\">\n",
       "  <thead>\n",
       "    <tr style=\"text-align: right;\">\n",
       "      <th></th>\n",
       "      <th>carat</th>\n",
       "      <th>depth</th>\n",
       "      <th>table</th>\n",
       "      <th>price</th>\n",
       "      <th>x</th>\n",
       "      <th>y</th>\n",
       "      <th>z</th>\n",
       "    </tr>\n",
       "  </thead>\n",
       "  <tbody>\n",
       "    <tr>\n",
       "      <th>0</th>\n",
       "      <td>0.23</td>\n",
       "      <td>61.5</td>\n",
       "      <td>55.0</td>\n",
       "      <td>326</td>\n",
       "      <td>3.95</td>\n",
       "      <td>3.98</td>\n",
       "      <td>2.43</td>\n",
       "    </tr>\n",
       "    <tr>\n",
       "      <th>1</th>\n",
       "      <td>0.21</td>\n",
       "      <td>59.8</td>\n",
       "      <td>61.0</td>\n",
       "      <td>326</td>\n",
       "      <td>3.89</td>\n",
       "      <td>3.84</td>\n",
       "      <td>2.31</td>\n",
       "    </tr>\n",
       "    <tr>\n",
       "      <th>2</th>\n",
       "      <td>0.23</td>\n",
       "      <td>56.9</td>\n",
       "      <td>65.0</td>\n",
       "      <td>327</td>\n",
       "      <td>4.05</td>\n",
       "      <td>4.07</td>\n",
       "      <td>2.31</td>\n",
       "    </tr>\n",
       "    <tr>\n",
       "      <th>3</th>\n",
       "      <td>0.29</td>\n",
       "      <td>62.4</td>\n",
       "      <td>58.0</td>\n",
       "      <td>334</td>\n",
       "      <td>4.20</td>\n",
       "      <td>4.23</td>\n",
       "      <td>2.63</td>\n",
       "    </tr>\n",
       "    <tr>\n",
       "      <th>4</th>\n",
       "      <td>0.31</td>\n",
       "      <td>63.3</td>\n",
       "      <td>58.0</td>\n",
       "      <td>335</td>\n",
       "      <td>4.34</td>\n",
       "      <td>4.35</td>\n",
       "      <td>2.75</td>\n",
       "    </tr>\n",
       "  </tbody>\n",
       "</table>\n",
       "</div>"
      ],
      "text/plain": [
       "   carat  depth  table  price     x     y     z\n",
       "0   0.23   61.5   55.0    326  3.95  3.98  2.43\n",
       "1   0.21   59.8   61.0    326  3.89  3.84  2.31\n",
       "2   0.23   56.9   65.0    327  4.05  4.07  2.31\n",
       "3   0.29   62.4   58.0    334  4.20  4.23  2.63\n",
       "4   0.31   63.3   58.0    335  4.34  4.35  2.75"
      ]
     },
     "execution_count": 24,
     "metadata": {},
     "output_type": "execute_result"
    }
   ],
   "source": [
    "import seaborn as sns\n",
    "df = sns.load_dataset(\"diamonds\") #seabornun içinde diamonds verisetini aldık\n",
    "df = df.select_dtypes(include = [\"float64\", \"int64\"]) #sadece sayısal verilere ulaşmak için tip seçimi gerçekleştirdik\n",
    "df = df.dropna() #veriseti içerisindeki eksik değerleri direkt sildik\n",
    "df.head() #ilk beş değer gelsin"
   ]
  },
  {
   "cell_type": "code",
   "execution_count": 25,
   "id": "jewish-truck",
   "metadata": {},
   "outputs": [
    {
     "data": {
      "text/plain": [
       "0    55.0\n",
       "1    61.0\n",
       "2    65.0\n",
       "3    58.0\n",
       "4    58.0\n",
       "Name: table, dtype: float64"
      ]
     },
     "execution_count": 25,
     "metadata": {},
     "output_type": "execute_result"
    }
   ],
   "source": [
    "df_table = df[\"table\"] #bir tane değişkeni seçip, üzerinde çalışalım\n",
    "df_table.head()"
   ]
  },
  {
   "cell_type": "code",
   "execution_count": 26,
   "id": "white-masters",
   "metadata": {},
   "outputs": [
    {
     "data": {
      "text/plain": [
       "<AxesSubplot:xlabel='table'>"
      ]
     },
     "execution_count": 26,
     "metadata": {},
     "output_type": "execute_result"
    },
    {
     "data": {
      "image/png": "[encoded data removed]",
      "text/plain": [
       "<Figure size 432x288 with 1 Axes>"
      ]
     },
     "metadata": {
      "needs_background": "light"
     },
     "output_type": "display_data"
    }
   ],
   "source": [
    "sns.boxplot(x = df_table) #boxplot ile görselleştirelim, x imizi dftable olarak ifade ettik"
   ]
  },
  {
   "cell_type": "code",
   "execution_count": 27,
   "id": "numeric-vegetarian",
   "metadata": {},
   "outputs": [],
   "source": [
    "#şimdi eşik değer belirlememiz gerekiyor.\n",
    "Q1 = df_table.quantile(0.25) #quantile ile verisetinin değişkeninin küçükten büyüğe yüzde 25.indexine karşılık gelen değer\n",
    "Q3 = df_table.quantile(0.75) #bu da yüzde 75.indexine karşılık gelen değeri alacak\n",
    "IQR = Q3-Q1 #verisetinin %25lik indexine karşılık gelen değer ve %75lik indexine karşılık gelen değerler üzerinden bir değer hesaplayacağız."
   ]
  },
  {
   "cell_type": "code",
   "execution_count": 7,
   "id": "hidden-profile",
   "metadata": {},
   "outputs": [
    {
     "data": {
      "text/plain": [
       "56.0"
      ]
     },
     "execution_count": 7,
     "metadata": {},
     "output_type": "execute_result"
    }
   ],
   "source": [
    "Q1"
   ]
  },
  {
   "cell_type": "code",
   "execution_count": 8,
   "id": "quality-polyester",
   "metadata": {},
   "outputs": [
    {
     "data": {
      "text/plain": [
       "59.0"
      ]
     },
     "execution_count": 8,
     "metadata": {},
     "output_type": "execute_result"
    }
   ],
   "source": [
    "Q3"
   ]
  },
  {
   "cell_type": "code",
   "execution_count": 9,
   "id": "promising-lafayette",
   "metadata": {},
   "outputs": [
    {
     "data": {
      "text/plain": [
       "3.0"
      ]
     },
     "execution_count": 9,
     "metadata": {},
     "output_type": "execute_result"
    }
   ],
   "source": [
    "IQR"
   ]
  },
  {
   "cell_type": "code",
   "execution_count": 28,
   "id": "unusual-transmission",
   "metadata": {},
   "outputs": [],
   "source": [
    "alt_sinir = Q1 - 1.5*IQR #1.çeyrek değerimizden 1.5*IQR kadar aşağısını alt sınır olarak belirle demek\n",
    "ust_sinir = Q3 + 1.5*IQR #3.çeyrek değerimizden 1.5*IQR kadar yukarısını üst sınır olarak belirle demek"
   ]
  },
  {
   "cell_type": "code",
   "execution_count": 11,
   "id": "german-amplifier",
   "metadata": {},
   "outputs": [
    {
     "data": {
      "text/plain": [
       "51.5"
      ]
     },
     "execution_count": 11,
     "metadata": {},
     "output_type": "execute_result"
    }
   ],
   "source": [
    "alt_sinir"
   ]
  },
  {
   "cell_type": "code",
   "execution_count": 12,
   "id": "impressed-council",
   "metadata": {},
   "outputs": [
    {
     "data": {
      "text/plain": [
       "63.5"
      ]
     },
     "execution_count": 12,
     "metadata": {},
     "output_type": "execute_result"
    }
   ],
   "source": [
    "ust_sinir"
   ]
  },
  {
   "cell_type": "code",
   "execution_count": 29,
   "id": "adjacent-career",
   "metadata": {},
   "outputs": [
    {
     "data": {
      "text/plain": [
       "0        False\n",
       "1        False\n",
       "2        False\n",
       "3        False\n",
       "4        False\n",
       "         ...  \n",
       "53935    False\n",
       "53936    False\n",
       "53937    False\n",
       "53938    False\n",
       "53939    False\n",
       "Name: table, Length: 53940, dtype: bool"
      ]
     },
     "execution_count": 29,
     "metadata": {},
     "output_type": "execute_result"
    }
   ],
   "source": [
    "#şimdi aykırı değerlere erişelim. Önce aykırı değer sorgulamasın yapalım\n",
    "df_table < alt_sinir #bu koşulu her birgözlem değeri için değişken içerisindeki her bir değer için sorguladı, şartı sağlayanları true dedi"
   ]
  },
  {
   "cell_type": "code",
   "execution_count": 14,
   "id": "sacred-pitch",
   "metadata": {},
   "outputs": [
    {
     "data": {
      "text/plain": [
       "0        False\n",
       "1        False\n",
       "2         True\n",
       "3        False\n",
       "4        False\n",
       "         ...  \n",
       "53935    False\n",
       "53936    False\n",
       "53937    False\n",
       "53938    False\n",
       "53939    False\n",
       "Name: table, Length: 53940, dtype: bool"
      ]
     },
     "execution_count": 14,
     "metadata": {},
     "output_type": "execute_result"
    }
   ],
   "source": [
    "(df_table < alt_sinir) | (df_table > ust_sinir) #burada: alt sınırdan küçük ya da üst sınırdan büyük olanları sorguladı. \n",
    "#herhangi biri true ise true"
   ]
  },
  {
   "cell_type": "code",
   "execution_count": 30,
   "id": "alert-technique",
   "metadata": {},
   "outputs": [],
   "source": [
    "aykiri_tf = (df_table < alt_sinir) #şimdi, bu şartı sağlayan elemanlara erişmek istiyoruz-aykırılar (aykırı true false)"
   ]
  },
  {
   "cell_type": "code",
   "execution_count": 31,
   "id": "white-owner",
   "metadata": {},
   "outputs": [
    {
     "data": {
      "text/plain": [
       "0    False\n",
       "1    False\n",
       "2    False\n",
       "3    False\n",
       "4    False\n",
       "Name: table, dtype: bool"
      ]
     },
     "execution_count": 31,
     "metadata": {},
     "output_type": "execute_result"
    }
   ],
   "source": [
    "aykiri_tf.head()"
   ]
  },
  {
   "cell_type": "code",
   "execution_count": 32,
   "id": "metric-captain",
   "metadata": {},
   "outputs": [
    {
     "data": {
      "text/plain": [
       "1515     51.0\n",
       "3238     50.1\n",
       "3979     51.0\n",
       "4150     51.0\n",
       "5979     49.0\n",
       "7418     50.0\n",
       "8853     51.0\n",
       "11368    43.0\n",
       "22701    49.0\n",
       "25179    50.0\n",
       "26387    51.0\n",
       "33586    51.0\n",
       "35633    44.0\n",
       "45798    51.0\n",
       "46040    51.0\n",
       "47630    51.0\n",
       "Name: table, dtype: float64"
      ]
     },
     "execution_count": 32,
     "metadata": {},
     "output_type": "execute_result"
    }
   ],
   "source": [
    "df_table[aykiri_tf] #dftable içerisindeki şu indexe gitmek istiyoruz, eleman seçmek istiyoruz. \n",
    "#Aykırı değerler indexleriyle beraber ede ettik. dftable içerisine aykiritf i gönderdik true olanları önümüze gönderdi."
   ]
  },
  {
   "cell_type": "code",
   "execution_count": 18,
   "id": "manufactured-relations",
   "metadata": {},
   "outputs": [
    {
     "data": {
      "text/plain": [
       "Int64Index([ 1515,  3238,  3979,  4150,  5979,  7418,  8853, 11368, 22701,\n",
       "            25179, 26387, 33586, 35633, 45798, 46040, 47630],\n",
       "           dtype='int64')"
      ]
     },
     "execution_count": 18,
     "metadata": {},
     "output_type": "execute_result"
    }
   ],
   "source": [
    "df_table[aykiri_tf].index #sadece indexlere bakmak istersek bunun ile kolayca elde edebiliriz"
   ]
  },
  {
   "cell_type": "markdown",
   "id": "ignored-direction",
   "metadata": {},
   "source": [
    "### AYKIRI DEĞER PROBLEMİNİ ÇÖZMEK"
   ]
  },
  {
   "cell_type": "code",
   "execution_count": 33,
   "id": "flush-position",
   "metadata": {},
   "outputs": [
    {
     "data": {
      "text/plain": [
       "1515     51.0\n",
       "3238     50.1\n",
       "3979     51.0\n",
       "4150     51.0\n",
       "5979     49.0\n",
       "7418     50.0\n",
       "8853     51.0\n",
       "11368    43.0\n",
       "22701    49.0\n",
       "25179    50.0\n",
       "26387    51.0\n",
       "33586    51.0\n",
       "35633    44.0\n",
       "45798    51.0\n",
       "46040    51.0\n",
       "47630    51.0\n",
       "Name: table, dtype: float64"
      ]
     },
     "execution_count": 33,
     "metadata": {},
     "output_type": "execute_result"
    }
   ],
   "source": [
    "df_table[aykiri_tf] #tek değişkenli aykırı gözlem analizi çözümleri"
   ]
  },
  {
   "cell_type": "markdown",
   "id": "pretty-requirement",
   "metadata": {},
   "source": [
    "### Silme Yaklaşımı"
   ]
  },
  {
   "cell_type": "code",
   "execution_count": 37,
   "id": "described-regulation",
   "metadata": {},
   "outputs": [],
   "source": [
    "import pandas as pd #dataframe operasyonu yapabilmek için pandası import ettik"
   ]
  },
  {
   "cell_type": "code",
   "execution_count": 38,
   "id": "median-legislature",
   "metadata": {},
   "outputs": [
    {
     "data": {
      "text/plain": [
       "pandas.core.series.Series"
      ]
     },
     "execution_count": 38,
     "metadata": {},
     "output_type": "execute_result"
    }
   ],
   "source": [
    "type(df_table) # pandas serisi şeklinde şu an. Biz bunu dataframe e çevirmeliyiz"
   ]
  },
  {
   "cell_type": "code",
   "execution_count": 39,
   "id": "optical-division",
   "metadata": {},
   "outputs": [],
   "source": [
    "df_table = pd.DataFrame(df_table)"
   ]
  },
  {
   "cell_type": "code",
   "execution_count": 40,
   "id": "miniature-grace",
   "metadata": {},
   "outputs": [
    {
     "data": {
      "text/plain": [
       "(53940, 1)"
      ]
     },
     "execution_count": 40,
     "metadata": {},
     "output_type": "execute_result"
    }
   ],
   "source": [
    "df_table.shape"
   ]
  },
  {
   "cell_type": "code",
   "execution_count": 41,
   "id": "empty-sender",
   "metadata": {},
   "outputs": [],
   "source": [
    "temiz_df = df_table[~((df_table < (alt_sinir)) | (df_table > (ust_sinir))).any(axis = 1)]"
   ]
  },
  {
   "cell_type": "code",
   "execution_count": null,
   "id": "twelve-evolution",
   "metadata": {},
   "outputs": [],
   "source": [
    "# şimdi dedik ki, aykırı olmayan değerlere ulaştık. \n",
    "# Nasıl? dftable içinde belirlenen koşullardan biri ya da diğeri SAĞLAMIYORSA \n",
    "# (~ (tilda işareti) => koşulu sağlamayanları al demek) bunları al demek. Yani aykırılar dışındakileri buluyoruz. \n",
    "# Any(axis=1) ile sütun bazında işlem yapmak için"
   ]
  },
  {
   "cell_type": "code",
   "execution_count": 42,
   "id": "taken-layer",
   "metadata": {},
   "outputs": [
    {
     "data": {
      "text/html": [
       "<div>\n",
       "<style scoped>\n",
       "    .dataframe tbody tr th:only-of-type {\n",
       "        vertical-align: middle;\n",
       "    }\n",
       "\n",
       "    .dataframe tbody tr th {\n",
       "        vertical-align: top;\n",
       "    }\n",
       "\n",
       "    .dataframe thead th {\n",
       "        text-align: right;\n",
       "    }\n",
       "</style>\n",
       "<table border=\"1\" class=\"dataframe\">\n",
       "  <thead>\n",
       "    <tr style=\"text-align: right;\">\n",
       "      <th></th>\n",
       "      <th>table</th>\n",
       "    </tr>\n",
       "  </thead>\n",
       "  <tbody>\n",
       "    <tr>\n",
       "      <th>0</th>\n",
       "      <td>55.0</td>\n",
       "    </tr>\n",
       "    <tr>\n",
       "      <th>1</th>\n",
       "      <td>61.0</td>\n",
       "    </tr>\n",
       "    <tr>\n",
       "      <th>3</th>\n",
       "      <td>58.0</td>\n",
       "    </tr>\n",
       "    <tr>\n",
       "      <th>4</th>\n",
       "      <td>58.0</td>\n",
       "    </tr>\n",
       "    <tr>\n",
       "      <th>5</th>\n",
       "      <td>57.0</td>\n",
       "    </tr>\n",
       "    <tr>\n",
       "      <th>...</th>\n",
       "      <td>...</td>\n",
       "    </tr>\n",
       "    <tr>\n",
       "      <th>53935</th>\n",
       "      <td>57.0</td>\n",
       "    </tr>\n",
       "    <tr>\n",
       "      <th>53936</th>\n",
       "      <td>55.0</td>\n",
       "    </tr>\n",
       "    <tr>\n",
       "      <th>53937</th>\n",
       "      <td>60.0</td>\n",
       "    </tr>\n",
       "    <tr>\n",
       "      <th>53938</th>\n",
       "      <td>58.0</td>\n",
       "    </tr>\n",
       "    <tr>\n",
       "      <th>53939</th>\n",
       "      <td>55.0</td>\n",
       "    </tr>\n",
       "  </tbody>\n",
       "</table>\n",
       "<p>53335 rows × 1 columns</p>\n",
       "</div>"
      ],
      "text/plain": [
       "       table\n",
       "0       55.0\n",
       "1       61.0\n",
       "3       58.0\n",
       "4       58.0\n",
       "5       57.0\n",
       "...      ...\n",
       "53935   57.0\n",
       "53936   55.0\n",
       "53937   60.0\n",
       "53938   58.0\n",
       "53939   55.0\n",
       "\n",
       "[53335 rows x 1 columns]"
      ]
     },
     "execution_count": 42,
     "metadata": {},
     "output_type": "execute_result"
    }
   ],
   "source": [
    "temiz_df"
   ]
  },
  {
   "cell_type": "code",
   "execution_count": 43,
   "id": "mexican-atmosphere",
   "metadata": {},
   "outputs": [
    {
     "data": {
      "text/plain": [
       "(53335, 1)"
      ]
     },
     "execution_count": 43,
     "metadata": {},
     "output_type": "execute_result"
    }
   ],
   "source": [
    "temiz_df.shape #(605 adet aykırı gözlem değeri çıkartmış olduk)"
   ]
  },
  {
   "cell_type": "markdown",
   "id": "bottom-rebel",
   "metadata": {},
   "source": [
    "### Ortalama ile Doldurma işlemi"
   ]
  },
  {
   "cell_type": "code",
   "execution_count": 45,
   "id": "scheduled-louis",
   "metadata": {},
   "outputs": [
    {
     "data": {
      "text/html": [
       "<div>\n",
       "<style scoped>\n",
       "    .dataframe tbody tr th:only-of-type {\n",
       "        vertical-align: middle;\n",
       "    }\n",
       "\n",
       "    .dataframe tbody tr th {\n",
       "        vertical-align: top;\n",
       "    }\n",
       "\n",
       "    .dataframe thead th {\n",
       "        text-align: right;\n",
       "    }\n",
       "</style>\n",
       "<table border=\"1\" class=\"dataframe\">\n",
       "  <thead>\n",
       "    <tr style=\"text-align: right;\">\n",
       "      <th></th>\n",
       "      <th>carat</th>\n",
       "      <th>depth</th>\n",
       "      <th>table</th>\n",
       "      <th>price</th>\n",
       "      <th>x</th>\n",
       "      <th>y</th>\n",
       "      <th>z</th>\n",
       "    </tr>\n",
       "  </thead>\n",
       "  <tbody>\n",
       "    <tr>\n",
       "      <th>0</th>\n",
       "      <td>0.23</td>\n",
       "      <td>61.5</td>\n",
       "      <td>55.0</td>\n",
       "      <td>326</td>\n",
       "      <td>3.95</td>\n",
       "      <td>3.98</td>\n",
       "      <td>2.43</td>\n",
       "    </tr>\n",
       "    <tr>\n",
       "      <th>1</th>\n",
       "      <td>0.21</td>\n",
       "      <td>59.8</td>\n",
       "      <td>61.0</td>\n",
       "      <td>326</td>\n",
       "      <td>3.89</td>\n",
       "      <td>3.84</td>\n",
       "      <td>2.31</td>\n",
       "    </tr>\n",
       "    <tr>\n",
       "      <th>2</th>\n",
       "      <td>0.23</td>\n",
       "      <td>56.9</td>\n",
       "      <td>65.0</td>\n",
       "      <td>327</td>\n",
       "      <td>4.05</td>\n",
       "      <td>4.07</td>\n",
       "      <td>2.31</td>\n",
       "    </tr>\n",
       "    <tr>\n",
       "      <th>3</th>\n",
       "      <td>0.29</td>\n",
       "      <td>62.4</td>\n",
       "      <td>58.0</td>\n",
       "      <td>334</td>\n",
       "      <td>4.20</td>\n",
       "      <td>4.23</td>\n",
       "      <td>2.63</td>\n",
       "    </tr>\n",
       "    <tr>\n",
       "      <th>4</th>\n",
       "      <td>0.31</td>\n",
       "      <td>63.3</td>\n",
       "      <td>58.0</td>\n",
       "      <td>335</td>\n",
       "      <td>4.34</td>\n",
       "      <td>4.35</td>\n",
       "      <td>2.75</td>\n",
       "    </tr>\n",
       "  </tbody>\n",
       "</table>\n",
       "</div>"
      ],
      "text/plain": [
       "   carat  depth  table  price     x     y     z\n",
       "0   0.23   61.5   55.0    326  3.95  3.98  2.43\n",
       "1   0.21   59.8   61.0    326  3.89  3.84  2.31\n",
       "2   0.23   56.9   65.0    327  4.05  4.07  2.31\n",
       "3   0.29   62.4   58.0    334  4.20  4.23  2.63\n",
       "4   0.31   63.3   58.0    335  4.34  4.35  2.75"
      ]
     },
     "execution_count": 45,
     "metadata": {},
     "output_type": "execute_result"
    }
   ],
   "source": [
    "import seaborn as sns\n",
    "df = sns.load_dataset(\"diamonds\")\n",
    "df = df.select_dtypes(include = [\"float64\", \"int64\"])\n",
    "df = df.dropna()\n",
    "df.head()"
   ]
  },
  {
   "cell_type": "code",
   "execution_count": 46,
   "id": "round-pontiac",
   "metadata": {},
   "outputs": [],
   "source": [
    "df_table = df[\"table\"] #verisetimizi tekrar oluşturduk"
   ]
  },
  {
   "cell_type": "code",
   "execution_count": 47,
   "id": "subjective-meaning",
   "metadata": {},
   "outputs": [
    {
     "data": {
      "text/plain": [
       "0    False\n",
       "1    False\n",
       "2    False\n",
       "3    False\n",
       "4    False\n",
       "Name: table, dtype: bool"
      ]
     },
     "execution_count": 47,
     "metadata": {},
     "output_type": "execute_result"
    }
   ],
   "source": [
    "aykiri_tf.head() "
   ]
  },
  {
   "cell_type": "code",
   "execution_count": 48,
   "id": "macro-tracy",
   "metadata": {},
   "outputs": [],
   "source": [
    "#Silme kısmında aykırıları yakalayıp sildik.Bu sefer amacımız, yakalayacağımız aykırıları, ortalama değer\n",
    "#ile değiştirmek istiyoruz. Yani aykırıların taşıdığı bilgileri de göz önünde bulunduralım ama bunları\n",
    "#ortalama ile dolduralım. ortalama ile değiştirelim."
   ]
  },
  {
   "cell_type": "code",
   "execution_count": 49,
   "id": "protective-serum",
   "metadata": {},
   "outputs": [
    {
     "data": {
      "text/plain": [
       "1515     51.0\n",
       "3238     50.1\n",
       "3979     51.0\n",
       "4150     51.0\n",
       "5979     49.0\n",
       "7418     50.0\n",
       "8853     51.0\n",
       "11368    43.0\n",
       "22701    49.0\n",
       "25179    50.0\n",
       "26387    51.0\n",
       "33586    51.0\n",
       "35633    44.0\n",
       "45798    51.0\n",
       "46040    51.0\n",
       "47630    51.0\n",
       "Name: table, dtype: float64"
      ]
     },
     "execution_count": 49,
     "metadata": {},
     "output_type": "execute_result"
    }
   ],
   "source": [
    "df_table[aykiri_tf] #buradasadece alt sınıra göre zira yukarıda alt sınırı seçmiştik sadece"
   ]
  },
  {
   "cell_type": "code",
   "execution_count": 50,
   "id": "wrong-gathering",
   "metadata": {},
   "outputs": [
    {
     "data": {
      "text/plain": [
       "57.45718390804598"
      ]
     },
     "execution_count": 50,
     "metadata": {},
     "output_type": "execute_result"
    }
   ],
   "source": [
    "df_table.mean() #ortalaması bu imiş."
   ]
  },
  {
   "cell_type": "code",
   "execution_count": 51,
   "id": "ready-seeking",
   "metadata": {},
   "outputs": [
    {
     "name": "stderr",
     "output_type": "stream",
     "text": [
      "/Users/mustafa/opt/anaconda3/lib/python3.7/site-packages/ipykernel_launcher.py:1: SettingWithCopyWarning: \n",
      "A value is trying to be set on a copy of a slice from a DataFrame\n",
      "\n",
      "See the caveats in the documentation: https://pandas.pydata.org/pandas-docs/stable/user_guide/indexing.html#returning-a-view-versus-a-copy\n",
      "  \"\"\"Entry point for launching an IPython kernel.\n"
     ]
    }
   ],
   "source": [
    "df_table[aykiri_tf] = df_table.mean() #aykırı olanlara artık mean değerini veriyoruz.uyarıyı görmezden gelelim"
   ]
  },
  {
   "cell_type": "code",
   "execution_count": 52,
   "id": "creative-plain",
   "metadata": {},
   "outputs": [
    {
     "data": {
      "text/plain": [
       "1515     57.457184\n",
       "3238     57.457184\n",
       "3979     57.457184\n",
       "4150     57.457184\n",
       "5979     57.457184\n",
       "7418     57.457184\n",
       "8853     57.457184\n",
       "11368    57.457184\n",
       "22701    57.457184\n",
       "25179    57.457184\n",
       "26387    57.457184\n",
       "33586    57.457184\n",
       "35633    57.457184\n",
       "45798    57.457184\n",
       "46040    57.457184\n",
       "47630    57.457184\n",
       "Name: table, dtype: float64"
      ]
     },
     "execution_count": 52,
     "metadata": {},
     "output_type": "execute_result"
    }
   ],
   "source": [
    "df_table[aykiri_tf] #artık aykırıların değerleri, ortalama değer ile değişmiş oldu."
   ]
  },
  {
   "cell_type": "markdown",
   "id": "ordinary-georgia",
   "metadata": {},
   "source": [
    "### Baskılama Yöntemi ile İşlem"
   ]
  },
  {
   "cell_type": "code",
   "execution_count": 53,
   "id": "strong-genre",
   "metadata": {},
   "outputs": [],
   "source": [
    "#bu yöntemde ise aykırılar yakalandıktan sonra, üst taraftaysa, üst sınır değerine eşitlnir.\n",
    "# alt tarafta ise alt sınır değerine eşitlenir. neden? mesela ortalam değer ile üst sınır araasında fazla mesafe var ise,\n",
    "#bu yöntem yararlı olur. taşıdığı bilgiyi özüne uygun şekilde veriseti içerisinde tutabiliriz."
   ]
  },
  {
   "cell_type": "code",
   "execution_count": 56,
   "id": "defensive-italic",
   "metadata": {},
   "outputs": [
    {
     "data": {
      "text/html": [
       "<div>\n",
       "<style scoped>\n",
       "    .dataframe tbody tr th:only-of-type {\n",
       "        vertical-align: middle;\n",
       "    }\n",
       "\n",
       "    .dataframe tbody tr th {\n",
       "        vertical-align: top;\n",
       "    }\n",
       "\n",
       "    .dataframe thead th {\n",
       "        text-align: right;\n",
       "    }\n",
       "</style>\n",
       "<table border=\"1\" class=\"dataframe\">\n",
       "  <thead>\n",
       "    <tr style=\"text-align: right;\">\n",
       "      <th></th>\n",
       "      <th>carat</th>\n",
       "      <th>depth</th>\n",
       "      <th>table</th>\n",
       "      <th>price</th>\n",
       "      <th>x</th>\n",
       "      <th>y</th>\n",
       "      <th>z</th>\n",
       "    </tr>\n",
       "  </thead>\n",
       "  <tbody>\n",
       "    <tr>\n",
       "      <th>0</th>\n",
       "      <td>0.23</td>\n",
       "      <td>61.5</td>\n",
       "      <td>55.0</td>\n",
       "      <td>326</td>\n",
       "      <td>3.95</td>\n",
       "      <td>3.98</td>\n",
       "      <td>2.43</td>\n",
       "    </tr>\n",
       "    <tr>\n",
       "      <th>1</th>\n",
       "      <td>0.21</td>\n",
       "      <td>59.8</td>\n",
       "      <td>61.0</td>\n",
       "      <td>326</td>\n",
       "      <td>3.89</td>\n",
       "      <td>3.84</td>\n",
       "      <td>2.31</td>\n",
       "    </tr>\n",
       "    <tr>\n",
       "      <th>2</th>\n",
       "      <td>0.23</td>\n",
       "      <td>56.9</td>\n",
       "      <td>65.0</td>\n",
       "      <td>327</td>\n",
       "      <td>4.05</td>\n",
       "      <td>4.07</td>\n",
       "      <td>2.31</td>\n",
       "    </tr>\n",
       "    <tr>\n",
       "      <th>3</th>\n",
       "      <td>0.29</td>\n",
       "      <td>62.4</td>\n",
       "      <td>58.0</td>\n",
       "      <td>334</td>\n",
       "      <td>4.20</td>\n",
       "      <td>4.23</td>\n",
       "      <td>2.63</td>\n",
       "    </tr>\n",
       "    <tr>\n",
       "      <th>4</th>\n",
       "      <td>0.31</td>\n",
       "      <td>63.3</td>\n",
       "      <td>58.0</td>\n",
       "      <td>335</td>\n",
       "      <td>4.34</td>\n",
       "      <td>4.35</td>\n",
       "      <td>2.75</td>\n",
       "    </tr>\n",
       "  </tbody>\n",
       "</table>\n",
       "</div>"
      ],
      "text/plain": [
       "   carat  depth  table  price     x     y     z\n",
       "0   0.23   61.5   55.0    326  3.95  3.98  2.43\n",
       "1   0.21   59.8   61.0    326  3.89  3.84  2.31\n",
       "2   0.23   56.9   65.0    327  4.05  4.07  2.31\n",
       "3   0.29   62.4   58.0    334  4.20  4.23  2.63\n",
       "4   0.31   63.3   58.0    335  4.34  4.35  2.75"
      ]
     },
     "execution_count": 56,
     "metadata": {},
     "output_type": "execute_result"
    }
   ],
   "source": [
    "import seaborn as sns\n",
    "df = sns.load_dataset(\"diamonds\")\n",
    "df = df.select_dtypes(include = [\"float64\", \"int64\"])\n",
    "df = df.dropna()\n",
    "df.head()"
   ]
  },
  {
   "cell_type": "code",
   "execution_count": 57,
   "id": "civil-asian",
   "metadata": {},
   "outputs": [],
   "source": [
    "df_table = df[\"table\"]"
   ]
  },
  {
   "cell_type": "code",
   "execution_count": 58,
   "id": "motivated-constant",
   "metadata": {},
   "outputs": [
    {
     "data": {
      "text/plain": [
       "1515     51.0\n",
       "3238     50.1\n",
       "3979     51.0\n",
       "4150     51.0\n",
       "5979     49.0\n",
       "7418     50.0\n",
       "8853     51.0\n",
       "11368    43.0\n",
       "22701    49.0\n",
       "25179    50.0\n",
       "26387    51.0\n",
       "33586    51.0\n",
       "35633    44.0\n",
       "45798    51.0\n",
       "46040    51.0\n",
       "47630    51.0\n",
       "Name: table, dtype: float64"
      ]
     },
     "execution_count": 58,
     "metadata": {},
     "output_type": "execute_result"
    }
   ],
   "source": [
    "df_table[aykiri_tf]"
   ]
  },
  {
   "cell_type": "code",
   "execution_count": 59,
   "id": "sound-priest",
   "metadata": {},
   "outputs": [
    {
     "data": {
      "text/plain": [
       "51.5"
      ]
     },
     "execution_count": 59,
     "metadata": {},
     "output_type": "execute_result"
    }
   ],
   "source": [
    "alt_sinir"
   ]
  },
  {
   "cell_type": "code",
   "execution_count": 60,
   "id": "optical-timothy",
   "metadata": {},
   "outputs": [
    {
     "name": "stderr",
     "output_type": "stream",
     "text": [
      "/Users/mustafa/opt/anaconda3/lib/python3.7/site-packages/ipykernel_launcher.py:1: SettingWithCopyWarning: \n",
      "A value is trying to be set on a copy of a slice from a DataFrame\n",
      "\n",
      "See the caveats in the documentation: https://pandas.pydata.org/pandas-docs/stable/user_guide/indexing.html#returning-a-view-versus-a-copy\n",
      "  \"\"\"Entry point for launching an IPython kernel.\n"
     ]
    }
   ],
   "source": [
    "df_table[aykiri_tf] = alt_sinir #alt sinira eşitlemiş olduk. uyarıyı boş verelim. alt sınıra baskılamış olduk"
   ]
  },
  {
   "cell_type": "code",
   "execution_count": 61,
   "id": "aerial-genome",
   "metadata": {},
   "outputs": [
    {
     "data": {
      "text/plain": [
       "1515     51.5\n",
       "3238     51.5\n",
       "3979     51.5\n",
       "4150     51.5\n",
       "5979     51.5\n",
       "7418     51.5\n",
       "8853     51.5\n",
       "11368    51.5\n",
       "22701    51.5\n",
       "25179    51.5\n",
       "26387    51.5\n",
       "33586    51.5\n",
       "35633    51.5\n",
       "45798    51.5\n",
       "46040    51.5\n",
       "47630    51.5\n",
       "Name: table, dtype: float64"
      ]
     },
     "execution_count": 61,
     "metadata": {},
     "output_type": "execute_result"
    }
   ],
   "source": [
    "df_table[aykiri_tf]"
   ]
  },
  {
   "cell_type": "code",
   "execution_count": null,
   "id": "wooden-enzyme",
   "metadata": {},
   "outputs": [],
   "source": []
  }
 ],
 "metadata": {
  "kernelspec": {
   "display_name": "Python 3",
   "language": "python",
   "name": "python3"
  },
  "language_info": {
   "codemirror_mode": {
    "name": "ipython",
    "version": 3
   },
   "file_extension": ".py",
   "mimetype": "text/x-python",
   "name": "python",
   "nbconvert_exporter": "python",
   "pygments_lexer": "ipython3",
   "version": "3.7.4"
  }
 },
 "nbformat": 4,
 "nbformat_minor": 5
}
