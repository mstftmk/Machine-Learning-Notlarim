{
 "cells": [
  {
   "cell_type": "markdown",
   "id": "latest-symbol",
   "metadata": {},
   "source": [
    "# Değişken Standardizasyonu (Veri Standardizasyonu)"
   ]
  },
  {
   "cell_type": "code",
   "execution_count": 1,
   "id": "oriented-belle",
   "metadata": {},
   "outputs": [],
   "source": [
    "# değişken dönüşümü, değişken standardizasyonu arasındaki farkı bilmek önemli. Farkı nedir? ikisi de değişkenin üzerinde bir dönüştürme\n",
    "# işlemini ifade ediyor. Ancak, standardizasyonda, değişkenin kendi içindeki varyans yapısı, bilgi yapısı bozulmaz\n",
    "# fakat belirli bir standarta oturtulur. bir değişken standartlaştırıldığında, değişkenin değerleri değişecektir belirli bir formata sokulacaktır\n",
    "# fakat taşımış olduğu yayılım, dağılım bilgisinin özütü mevcutta kalıyor olacaktır. yani değişmeyecek. değişkenin tüm ortalam vs. değişecek\n",
    "# ama mevcut durumu değişmeyecektir. Değişken dönüştürmek ise, dönüştürülen bir değişkenin taşıdığı bilginin taşındığı şekliyle kalamaması,\n",
    "# dönüştürülmesi demektir. örneğin cinsiyet değişkeni: kadın-erkek şeklinde. bunu bir dönüştürme işlemine soktuğumuzda mesela 0-1 dediğimizde, \n",
    "# yapı değişmiş olacak. yani bir standartlaştırma işlemi gibi bir işlem değil. taşıdığı bilginin özütünü bozar.\n",
    "# ÖZET: standartlaştırma, verisetinin taşımış oldığu bilgiyi bozmadan belirli bir standarta getirir. Ama bilgiyi değiştirir. Özütünü bozmadan\n",
    "# belirli bir standarta getirir. Dönüştürme işlemi ise, verisetinin taşımış olduğu bilgiyi bazen bozar, bazen de temsil şeklini değiştirir."
   ]
  },
  {
   "cell_type": "code",
   "execution_count": 2,
   "id": "occupied-lincoln",
   "metadata": {},
   "outputs": [
    {
     "data": {
      "text/html": [
       "<div>\n",
       "<style scoped>\n",
       "    .dataframe tbody tr th:only-of-type {\n",
       "        vertical-align: middle;\n",
       "    }\n",
       "\n",
       "    .dataframe tbody tr th {\n",
       "        vertical-align: top;\n",
       "    }\n",
       "\n",
       "    .dataframe thead th {\n",
       "        text-align: right;\n",
       "    }\n",
       "</style>\n",
       "<table border=\"1\" class=\"dataframe\">\n",
       "  <thead>\n",
       "    <tr style=\"text-align: right;\">\n",
       "      <th></th>\n",
       "      <th>V1</th>\n",
       "      <th>V2</th>\n",
       "      <th>V3</th>\n",
       "    </tr>\n",
       "  </thead>\n",
       "  <tbody>\n",
       "    <tr>\n",
       "      <th>0</th>\n",
       "      <td>1.0</td>\n",
       "      <td>7.0</td>\n",
       "      <td>6.0</td>\n",
       "    </tr>\n",
       "    <tr>\n",
       "      <th>1</th>\n",
       "      <td>3.0</td>\n",
       "      <td>7.0</td>\n",
       "      <td>12.0</td>\n",
       "    </tr>\n",
       "    <tr>\n",
       "      <th>2</th>\n",
       "      <td>6.0</td>\n",
       "      <td>5.0</td>\n",
       "      <td>5.0</td>\n",
       "    </tr>\n",
       "    <tr>\n",
       "      <th>3</th>\n",
       "      <td>5.0</td>\n",
       "      <td>8.0</td>\n",
       "      <td>6.0</td>\n",
       "    </tr>\n",
       "    <tr>\n",
       "      <th>4</th>\n",
       "      <td>7.0</td>\n",
       "      <td>12.0</td>\n",
       "      <td>14.0</td>\n",
       "    </tr>\n",
       "  </tbody>\n",
       "</table>\n",
       "</div>"
      ],
      "text/plain": [
       "    V1    V2    V3\n",
       "0  1.0   7.0   6.0\n",
       "1  3.0   7.0  12.0\n",
       "2  6.0   5.0   5.0\n",
       "3  5.0   8.0   6.0\n",
       "4  7.0  12.0  14.0"
      ]
     },
     "execution_count": 2,
     "metadata": {},
     "output_type": "execute_result"
    }
   ],
   "source": [
    "import numpy as np\n",
    "import pandas as pd\n",
    "V1 = np.array([1,3,6,5,7])\n",
    "V2 = np.array([7,7,5,8,12])\n",
    "V3 = np.array([6,12,5,6,14])\n",
    "df = pd.DataFrame(\n",
    "        {\"V1\" : V1,\n",
    "         \"V2\" : V2,\n",
    "         \"V3\" : V3})\n",
    "\n",
    "df = df.astype(float)\n",
    "df"
   ]
  },
  {
   "cell_type": "markdown",
   "id": "composed-design",
   "metadata": {},
   "source": [
    "### Standardizasyon"
   ]
  },
  {
   "cell_type": "code",
   "execution_count": 3,
   "id": "premium-leisure",
   "metadata": {},
   "outputs": [],
   "source": [
    "# nedir bu? normal dağılımda -3 +3 aralığında normal dağılım şeklinde dönüştürmeyi ifade ediyor. görmüştük"
   ]
  },
  {
   "cell_type": "code",
   "execution_count": 4,
   "id": "vanilla-manor",
   "metadata": {},
   "outputs": [],
   "source": [
    "from sklearn import preprocessing"
   ]
  },
  {
   "cell_type": "code",
   "execution_count": 5,
   "id": "impressive-palestinian",
   "metadata": {},
   "outputs": [
    {
     "data": {
      "text/plain": [
       "array([[-1.57841037, -0.34554737, -0.70920814],\n",
       "       [-0.64993368, -0.34554737,  0.92742603],\n",
       "       [ 0.74278135, -1.2094158 , -0.98198051],\n",
       "       [ 0.27854301,  0.08638684, -0.70920814],\n",
       "       [ 1.2070197 ,  1.81412369,  1.47297076]])"
      ]
     },
     "execution_count": 5,
     "metadata": {},
     "output_type": "execute_result"
    }
   ],
   "source": [
    "preprocessing.scale(df) #veriseti içerisindeki bütün değerleri standartlaştırmış oldu. mesela 80 değerini -1.5 yaptı. ama hepsinde bu dönüşümü\n",
    "# yaptığı , bütün değişkenlere uyguladığı için, yapılarının birbirleriyle kıyaslanabilirliği bozulmadı."
   ]
  },
  {
   "cell_type": "code",
   "execution_count": 6,
   "id": "initial-stupid",
   "metadata": {},
   "outputs": [],
   "source": [
    "# neden bunu yaptık? makine öğrenmesi algoritmalarının, kullanacak olduğu verisetlerinde birbirinden çok farklı ölçek tiplerinde, \n",
    "# birbirinden çok farklı türlerde değişkenler olması, genel itibariyle algoritmaların sevmediği bir durum. \n",
    "# Eğer verisetinin içerisinde kullanılmış olan değişkenler ne kadar standart olursa, o kadar algoritmaları zorlamıyor. \n",
    "# bu sebeple bazı algoritmaları kullanmadan önce değişkenleri dönüştürmemiz gerekmekte ama bazılarında da gerekmemekte. ileride göreceğiz."
   ]
  },
  {
   "cell_type": "code",
   "execution_count": 7,
   "id": "stainless-behavior",
   "metadata": {},
   "outputs": [
    {
     "data": {
      "text/html": [
       "<div>\n",
       "<style scoped>\n",
       "    .dataframe tbody tr th:only-of-type {\n",
       "        vertical-align: middle;\n",
       "    }\n",
       "\n",
       "    .dataframe tbody tr th {\n",
       "        vertical-align: top;\n",
       "    }\n",
       "\n",
       "    .dataframe thead th {\n",
       "        text-align: right;\n",
       "    }\n",
       "</style>\n",
       "<table border=\"1\" class=\"dataframe\">\n",
       "  <thead>\n",
       "    <tr style=\"text-align: right;\">\n",
       "      <th></th>\n",
       "      <th>V1</th>\n",
       "      <th>V2</th>\n",
       "      <th>V3</th>\n",
       "    </tr>\n",
       "  </thead>\n",
       "  <tbody>\n",
       "    <tr>\n",
       "      <th>0</th>\n",
       "      <td>1.0</td>\n",
       "      <td>7.0</td>\n",
       "      <td>6.0</td>\n",
       "    </tr>\n",
       "    <tr>\n",
       "      <th>1</th>\n",
       "      <td>3.0</td>\n",
       "      <td>7.0</td>\n",
       "      <td>12.0</td>\n",
       "    </tr>\n",
       "    <tr>\n",
       "      <th>2</th>\n",
       "      <td>6.0</td>\n",
       "      <td>5.0</td>\n",
       "      <td>5.0</td>\n",
       "    </tr>\n",
       "    <tr>\n",
       "      <th>3</th>\n",
       "      <td>5.0</td>\n",
       "      <td>8.0</td>\n",
       "      <td>6.0</td>\n",
       "    </tr>\n",
       "    <tr>\n",
       "      <th>4</th>\n",
       "      <td>7.0</td>\n",
       "      <td>12.0</td>\n",
       "      <td>14.0</td>\n",
       "    </tr>\n",
       "  </tbody>\n",
       "</table>\n",
       "</div>"
      ],
      "text/plain": [
       "    V1    V2    V3\n",
       "0  1.0   7.0   6.0\n",
       "1  3.0   7.0  12.0\n",
       "2  6.0   5.0   5.0\n",
       "3  5.0   8.0   6.0\n",
       "4  7.0  12.0  14.0"
      ]
     },
     "execution_count": 7,
     "metadata": {},
     "output_type": "execute_result"
    }
   ],
   "source": [
    "df # df değişmedi. orginal yapısı bozulmadı. inplace true olursa kalıcı değişir."
   ]
  },
  {
   "cell_type": "markdown",
   "id": "rising-mambo",
   "metadata": {},
   "source": [
    "### Normalizasyon"
   ]
  },
  {
   "cell_type": "code",
   "execution_count": 8,
   "id": "bridal-milton",
   "metadata": {},
   "outputs": [],
   "source": [
    "# değerleri 0-1 arasına dönüştürmek için kullanılır. "
   ]
  },
  {
   "cell_type": "code",
   "execution_count": 9,
   "id": "bottom-shape",
   "metadata": {},
   "outputs": [
    {
     "data": {
      "text/plain": [
       "array([[0.10783277, 0.75482941, 0.64699664],\n",
       "       [0.21107926, 0.49251828, 0.84431705],\n",
       "       [0.64699664, 0.53916387, 0.53916387],\n",
       "       [0.4472136 , 0.71554175, 0.53665631],\n",
       "       [0.35491409, 0.60842415, 0.70982818]])"
      ]
     },
     "execution_count": 9,
     "metadata": {},
     "output_type": "execute_result"
    }
   ],
   "source": [
    "preprocessing.normalize(df) #bütün değerleri 0-1 arasında olacak şekilde dönüştürdü."
   ]
  },
  {
   "cell_type": "markdown",
   "id": "absolute-necklace",
   "metadata": {},
   "source": [
    "### Min-Max Dönüşümü"
   ]
  },
  {
   "cell_type": "code",
   "execution_count": 10,
   "id": "improving-preference",
   "metadata": {},
   "outputs": [],
   "source": [
    "# Eğer, istemiş olduğumuz iki tane aralığın arasına değerleri dönüştürmek istersek bu kullanılır. mesela min=10, max=20 olsun."
   ]
  },
  {
   "cell_type": "code",
   "execution_count": 11,
   "id": "infinite-specific",
   "metadata": {},
   "outputs": [],
   "source": [
    "scaler = preprocessing.MinMaxScaler(feature_range = (10,20)) #önce scaler nesnesi tanımladık, parametreleri girdik. dönüştürücü tanımladık."
   ]
  },
  {
   "cell_type": "code",
   "execution_count": 13,
   "id": "apart-skiing",
   "metadata": {},
   "outputs": [
    {
     "data": {
      "text/plain": [
       "array([[10.        , 12.85714286, 11.11111111],\n",
       "       [13.33333333, 12.85714286, 17.77777778],\n",
       "       [18.33333333, 10.        , 10.        ],\n",
       "       [16.66666667, 14.28571429, 11.11111111],\n",
       "       [20.        , 20.        , 20.        ]])"
      ]
     },
     "execution_count": 13,
     "metadata": {},
     "output_type": "execute_result"
    }
   ],
   "source": [
    "scaler.fit_transform(df) # daha sonra bunu df üzerinde kullandık. sınırlar illa dataframe sınırları olmak zorunda değil istediğimizi kullanırız."
   ]
  },
  {
   "cell_type": "code",
   "execution_count": null,
   "id": "governing-verse",
   "metadata": {},
   "outputs": [],
   "source": []
  }
 ],
 "metadata": {
  "kernelspec": {
   "display_name": "Python 3",
   "language": "python",
   "name": "python3"
  },
  "language_info": {
   "codemirror_mode": {
    "name": "ipython",
    "version": 3
   },
   "file_extension": ".py",
   "mimetype": "text/x-python",
   "name": "python",
   "nbconvert_exporter": "python",
   "pygments_lexer": "ipython3",
   "version": "3.7.4"
  }
 },
 "nbformat": 4,
 "nbformat_minor": 5
}
